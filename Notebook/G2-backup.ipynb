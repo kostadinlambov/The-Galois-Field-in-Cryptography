{
 "cells": [
  {
   "cell_type": "code",
   "execution_count": 1,
   "id": "0effaef4-b241-4d5c-aa6b-bf92fd48c0f3",
   "metadata": {
    "collapsed": false
   },
   "outputs": [
    {
     "ename": "KeyboardInterrupt",
     "evalue": "",
     "output_type": "error",
     "traceback": [
      "\u001B[1;31m---------------------------------------------------------------------------\u001B[0m",
      "\u001B[1;31mPermissionError\u001B[0m                           Traceback (most recent call last)",
      "File \u001B[1;32mC:\\ProgramData\\anaconda3\\Lib\\tempfile.py:256\u001B[0m, in \u001B[0;36m_mkstemp_inner\u001B[1;34m(dir, pre, suf, flags, output_type)\u001B[0m\n\u001B[0;32m    255\u001B[0m \u001B[38;5;28;01mtry\u001B[39;00m:\n\u001B[1;32m--> 256\u001B[0m     fd \u001B[38;5;241m=\u001B[39m _os\u001B[38;5;241m.\u001B[39mopen(file, flags, \u001B[38;5;241m0o600\u001B[39m)\n\u001B[0;32m    257\u001B[0m \u001B[38;5;28;01mexcept\u001B[39;00m \u001B[38;5;167;01mFileExistsError\u001B[39;00m:\n",
      "\u001B[1;31mPermissionError\u001B[0m: [Errno 13] Permission denied: 'C:\\\\ProgramData\\\\anaconda3\\\\Lib\\\\site-packages\\\\galois\\\\_domains\\\\__pycache__\\\\tmp13u4jayr'",
      "\nDuring handling of the above exception, another exception occurred:\n",
      "\u001B[1;31mKeyboardInterrupt\u001B[0m                         Traceback (most recent call last)",
      "Cell \u001B[1;32mIn[1], line 1\u001B[0m\n\u001B[1;32m----> 1\u001B[0m \u001B[38;5;28;01mimport\u001B[39;00m \u001B[38;5;21;01mgalois\u001B[39;00m\n",
      "File \u001B[1;32mC:\\ProgramData\\anaconda3\\Lib\\site-packages\\galois\\__init__.py:24\u001B[0m\n\u001B[0;32m     22\u001B[0m \u001B[38;5;28;01mfrom\u001B[39;00m \u001B[38;5;21;01m.\u001B[39;00m\u001B[38;5;21;01m_domains\u001B[39;00m \u001B[38;5;28;01mimport\u001B[39;00m \u001B[38;5;241m*\u001B[39m\n\u001B[0;32m     23\u001B[0m \u001B[38;5;28;01mfrom\u001B[39;00m \u001B[38;5;21;01m.\u001B[39;00m\u001B[38;5;21;01m_polys\u001B[39;00m \u001B[38;5;28;01mimport\u001B[39;00m \u001B[38;5;241m*\u001B[39m  \u001B[38;5;66;03m# Needs to be imported before _fields\u001B[39;00m\n\u001B[1;32m---> 24\u001B[0m \u001B[38;5;28;01mfrom\u001B[39;00m \u001B[38;5;21;01m.\u001B[39;00m\u001B[38;5;21;01m_fields\u001B[39;00m \u001B[38;5;28;01mimport\u001B[39;00m \u001B[38;5;241m*\u001B[39m\n\u001B[0;32m     26\u001B[0m \u001B[38;5;66;03m###############################################################################\u001B[39;00m\n\u001B[0;32m     27\u001B[0m \u001B[38;5;66;03m# Monkey-patch the finite field default array and class factory into the\u001B[39;00m\n\u001B[0;32m     28\u001B[0m \u001B[38;5;66;03m# _polys module. This is needed here due to circular dependencies.\u001B[39;00m\n\u001B[0;32m     29\u001B[0m \u001B[38;5;28;01mfrom\u001B[39;00m \u001B[38;5;21;01m.\u001B[39;00m\u001B[38;5;21;01m_domains\u001B[39;00m \u001B[38;5;28;01mimport\u001B[39;00m _factory\n",
      "File \u001B[1;32mC:\\ProgramData\\anaconda3\\Lib\\site-packages\\galois\\_fields\\__init__.py:6\u001B[0m\n\u001B[0;32m      1\u001B[0m \u001B[38;5;124;03m\"\"\"\u001B[39;00m\n\u001B[0;32m      2\u001B[0m \u001B[38;5;124;03mA subpackage containing arrays over Galois fields.\u001B[39;00m\n\u001B[0;32m      3\u001B[0m \u001B[38;5;124;03m\"\"\"\u001B[39;00m\n\u001B[0;32m      5\u001B[0m \u001B[38;5;28;01mfrom\u001B[39;00m \u001B[38;5;21;01m.\u001B[39;00m\u001B[38;5;21;01m_array\u001B[39;00m \u001B[38;5;28;01mimport\u001B[39;00m \u001B[38;5;241m*\u001B[39m\n\u001B[1;32m----> 6\u001B[0m \u001B[38;5;28;01mfrom\u001B[39;00m \u001B[38;5;21;01m.\u001B[39;00m\u001B[38;5;21;01m_factory\u001B[39;00m \u001B[38;5;28;01mimport\u001B[39;00m \u001B[38;5;241m*\u001B[39m\n\u001B[0;32m      7\u001B[0m \u001B[38;5;28;01mfrom\u001B[39;00m \u001B[38;5;21;01m.\u001B[39;00m\u001B[38;5;21;01m_gf2\u001B[39;00m \u001B[38;5;28;01mimport\u001B[39;00m \u001B[38;5;241m*\u001B[39m\n\u001B[0;32m      8\u001B[0m \u001B[38;5;28;01mfrom\u001B[39;00m \u001B[38;5;21;01m.\u001B[39;00m\u001B[38;5;21;01m_primitive_element\u001B[39;00m \u001B[38;5;28;01mimport\u001B[39;00m \u001B[38;5;241m*\u001B[39m\n",
      "File \u001B[1;32mC:\\ProgramData\\anaconda3\\Lib\\site-packages\\galois\\_fields\\_factory.py:21\u001B[0m\n\u001B[0;32m     19\u001B[0m \u001B[38;5;28;01mfrom\u001B[39;00m \u001B[38;5;21;01m.\u001B[39;00m\u001B[38;5;21;01m_gf2\u001B[39;00m \u001B[38;5;28;01mimport\u001B[39;00m GF2\n\u001B[0;32m     20\u001B[0m \u001B[38;5;28;01mfrom\u001B[39;00m \u001B[38;5;21;01m.\u001B[39;00m\u001B[38;5;21;01m_primitive_element\u001B[39;00m \u001B[38;5;28;01mimport\u001B[39;00m is_primitive_element, primitive_element\n\u001B[1;32m---> 21\u001B[0m \u001B[38;5;28;01mfrom\u001B[39;00m \u001B[38;5;21;01m.\u001B[39;00m\u001B[38;5;21;01m_ufunc\u001B[39;00m \u001B[38;5;28;01mimport\u001B[39;00m UFuncMixin_2_m, UFuncMixin_p_1, UFuncMixin_p_m\n\u001B[0;32m     24\u001B[0m \u001B[38;5;129m@overload\u001B[39m\n\u001B[0;32m     25\u001B[0m \u001B[38;5;28;01mdef\u001B[39;00m \u001B[38;5;21mGF\u001B[39m(\n\u001B[0;32m     26\u001B[0m     order: \u001B[38;5;28mint\u001B[39m,\n\u001B[1;32m   (...)\u001B[0m\n\u001B[0;32m     31\u001B[0m     \u001B[38;5;28mcompile\u001B[39m: Literal[\u001B[38;5;124m\"\u001B[39m\u001B[38;5;124mauto\u001B[39m\u001B[38;5;124m\"\u001B[39m, \u001B[38;5;124m\"\u001B[39m\u001B[38;5;124mjit-lookup\u001B[39m\u001B[38;5;124m\"\u001B[39m, \u001B[38;5;124m\"\u001B[39m\u001B[38;5;124mjit-calculate\u001B[39m\u001B[38;5;124m\"\u001B[39m, \u001B[38;5;124m\"\u001B[39m\u001B[38;5;124mpython-calculate\u001B[39m\u001B[38;5;124m\"\u001B[39m] \u001B[38;5;241m|\u001B[39m \u001B[38;5;28;01mNone\u001B[39;00m \u001B[38;5;241m=\u001B[39m \u001B[38;5;28;01mNone\u001B[39;00m,\n\u001B[0;32m     32\u001B[0m     \u001B[38;5;28mrepr\u001B[39m: Literal[\u001B[38;5;124m\"\u001B[39m\u001B[38;5;124mint\u001B[39m\u001B[38;5;124m\"\u001B[39m, \u001B[38;5;124m\"\u001B[39m\u001B[38;5;124mpoly\u001B[39m\u001B[38;5;124m\"\u001B[39m, \u001B[38;5;124m\"\u001B[39m\u001B[38;5;124mpower\u001B[39m\u001B[38;5;124m\"\u001B[39m] \u001B[38;5;241m|\u001B[39m \u001B[38;5;28;01mNone\u001B[39;00m \u001B[38;5;241m=\u001B[39m \u001B[38;5;28;01mNone\u001B[39;00m,\n\u001B[0;32m     33\u001B[0m ) \u001B[38;5;241m-\u001B[39m\u001B[38;5;241m>\u001B[39m Type[FieldArray]: \u001B[38;5;241m.\u001B[39m\u001B[38;5;241m.\u001B[39m\u001B[38;5;241m.\u001B[39m\n",
      "File \u001B[1;32mC:\\ProgramData\\anaconda3\\Lib\\site-packages\\galois\\_fields\\_ufunc.py:9\u001B[0m\n\u001B[0;32m      5\u001B[0m \u001B[38;5;28;01mfrom\u001B[39;00m \u001B[38;5;21;01m__future__\u001B[39;00m \u001B[38;5;28;01mimport\u001B[39;00m annotations\n\u001B[0;32m      7\u001B[0m \u001B[38;5;28;01mimport\u001B[39;00m \u001B[38;5;21;01mnumpy\u001B[39;00m \u001B[38;5;28;01mas\u001B[39;00m \u001B[38;5;21;01mnp\u001B[39;00m\n\u001B[1;32m----> 9\u001B[0m \u001B[38;5;28;01mfrom\u001B[39;00m \u001B[38;5;21;01m.\u001B[39;00m\u001B[38;5;21;01m.\u001B[39;00m\u001B[38;5;21;01m_domains\u001B[39;00m \u001B[38;5;28;01mimport\u001B[39;00m _calculate, _lookup\n\u001B[0;32m     10\u001B[0m \u001B[38;5;28;01mfrom\u001B[39;00m \u001B[38;5;21;01m.\u001B[39;00m\u001B[38;5;21;01m.\u001B[39;00m\u001B[38;5;21;01m_domains\u001B[39;00m\u001B[38;5;21;01m.\u001B[39;00m\u001B[38;5;21;01m_meta\u001B[39;00m \u001B[38;5;28;01mimport\u001B[39;00m DTYPES\n\u001B[0;32m     11\u001B[0m \u001B[38;5;28;01mfrom\u001B[39;00m \u001B[38;5;21;01m.\u001B[39;00m\u001B[38;5;21;01m.\u001B[39;00m\u001B[38;5;21;01m_domains\u001B[39;00m\u001B[38;5;21;01m.\u001B[39;00m\u001B[38;5;21;01m_ufunc\u001B[39;00m \u001B[38;5;28;01mimport\u001B[39;00m UFuncMixin\n",
      "File \u001B[1;32mC:\\ProgramData\\anaconda3\\Lib\\site-packages\\galois\\_domains\\_calculate.py:22\u001B[0m\n\u001B[0;32m     15\u001B[0m \u001B[38;5;66;03m###############################################################################\u001B[39;00m\n\u001B[0;32m     16\u001B[0m \u001B[38;5;66;03m# Helper JIT functions\u001B[39;00m\n\u001B[0;32m     17\u001B[0m \u001B[38;5;66;03m###############################################################################\u001B[39;00m\n\u001B[0;32m     19\u001B[0m DTYPE \u001B[38;5;241m=\u001B[39m np\u001B[38;5;241m.\u001B[39mint64\n\u001B[1;32m---> 22\u001B[0m \u001B[38;5;129m@numba\u001B[39m\u001B[38;5;241m.\u001B[39mjit([\u001B[38;5;124m\"\u001B[39m\u001B[38;5;124mint64[:](int64, int64, int64)\u001B[39m\u001B[38;5;124m\"\u001B[39m], nopython\u001B[38;5;241m=\u001B[39m\u001B[38;5;28;01mTrue\u001B[39;00m, cache\u001B[38;5;241m=\u001B[39m\u001B[38;5;28;01mTrue\u001B[39;00m)\n\u001B[0;32m     23\u001B[0m \u001B[38;5;28;01mdef\u001B[39;00m \u001B[38;5;21mint_to_vector\u001B[39m(a: \u001B[38;5;28mint\u001B[39m, characteristic: \u001B[38;5;28mint\u001B[39m, degree: \u001B[38;5;28mint\u001B[39m) \u001B[38;5;241m-\u001B[39m\u001B[38;5;241m>\u001B[39m np\u001B[38;5;241m.\u001B[39mndarray:\n\u001B[0;32m     24\u001B[0m \u001B[38;5;250m    \u001B[39m\u001B[38;5;124;03m\"\"\"\u001B[39;00m\n\u001B[0;32m     25\u001B[0m \u001B[38;5;124;03m    Converts the integer representation to vector/polynomial representation.\u001B[39;00m\n\u001B[0;32m     26\u001B[0m \u001B[38;5;124;03m    \"\"\"\u001B[39;00m\n\u001B[0;32m     27\u001B[0m     a_vec \u001B[38;5;241m=\u001B[39m np\u001B[38;5;241m.\u001B[39mzeros(degree, dtype\u001B[38;5;241m=\u001B[39mDTYPE)\n",
      "File \u001B[1;32mC:\\ProgramData\\anaconda3\\Lib\\site-packages\\numba\\core\\decorators.py:229\u001B[0m, in \u001B[0;36m_jit.<locals>.wrapper\u001B[1;34m(func)\u001B[0m\n\u001B[0;32m    225\u001B[0m disp \u001B[38;5;241m=\u001B[39m dispatcher(py_func\u001B[38;5;241m=\u001B[39mfunc, \u001B[38;5;28mlocals\u001B[39m\u001B[38;5;241m=\u001B[39m\u001B[38;5;28mlocals\u001B[39m,\n\u001B[0;32m    226\u001B[0m                   targetoptions\u001B[38;5;241m=\u001B[39mtargetoptions,\n\u001B[0;32m    227\u001B[0m                   \u001B[38;5;241m*\u001B[39m\u001B[38;5;241m*\u001B[39mdispatcher_args)\n\u001B[0;32m    228\u001B[0m \u001B[38;5;28;01mif\u001B[39;00m cache:\n\u001B[1;32m--> 229\u001B[0m     disp\u001B[38;5;241m.\u001B[39menable_caching()\n\u001B[0;32m    230\u001B[0m \u001B[38;5;28;01mif\u001B[39;00m sigs \u001B[38;5;129;01mis\u001B[39;00m \u001B[38;5;129;01mnot\u001B[39;00m \u001B[38;5;28;01mNone\u001B[39;00m:\n\u001B[0;32m    231\u001B[0m     \u001B[38;5;66;03m# Register the Dispatcher to the type inference mechanism,\u001B[39;00m\n\u001B[0;32m    232\u001B[0m     \u001B[38;5;66;03m# even though the decorator hasn't returned yet.\u001B[39;00m\n\u001B[0;32m    233\u001B[0m     \u001B[38;5;28;01mfrom\u001B[39;00m \u001B[38;5;21;01mnumba\u001B[39;00m\u001B[38;5;21;01m.\u001B[39;00m\u001B[38;5;21;01mcore\u001B[39;00m \u001B[38;5;28;01mimport\u001B[39;00m typeinfer\n",
      "File \u001B[1;32mC:\\ProgramData\\anaconda3\\Lib\\site-packages\\numba\\core\\dispatcher.py:856\u001B[0m, in \u001B[0;36mDispatcher.enable_caching\u001B[1;34m(self)\u001B[0m\n\u001B[0;32m    855\u001B[0m \u001B[38;5;28;01mdef\u001B[39;00m \u001B[38;5;21menable_caching\u001B[39m(\u001B[38;5;28mself\u001B[39m):\n\u001B[1;32m--> 856\u001B[0m     \u001B[38;5;28mself\u001B[39m\u001B[38;5;241m.\u001B[39m_cache \u001B[38;5;241m=\u001B[39m FunctionCache(\u001B[38;5;28mself\u001B[39m\u001B[38;5;241m.\u001B[39mpy_func)\n",
      "File \u001B[1;32mC:\\ProgramData\\anaconda3\\Lib\\site-packages\\numba\\core\\caching.py:601\u001B[0m, in \u001B[0;36mCache.__init__\u001B[1;34m(self, py_func)\u001B[0m\n\u001B[0;32m    599\u001B[0m \u001B[38;5;28mself\u001B[39m\u001B[38;5;241m.\u001B[39m_name \u001B[38;5;241m=\u001B[39m \u001B[38;5;28mrepr\u001B[39m(py_func)\n\u001B[0;32m    600\u001B[0m \u001B[38;5;28mself\u001B[39m\u001B[38;5;241m.\u001B[39m_py_func \u001B[38;5;241m=\u001B[39m py_func\n\u001B[1;32m--> 601\u001B[0m \u001B[38;5;28mself\u001B[39m\u001B[38;5;241m.\u001B[39m_impl \u001B[38;5;241m=\u001B[39m \u001B[38;5;28mself\u001B[39m\u001B[38;5;241m.\u001B[39m_impl_class(py_func)\n\u001B[0;32m    602\u001B[0m \u001B[38;5;28mself\u001B[39m\u001B[38;5;241m.\u001B[39m_cache_path \u001B[38;5;241m=\u001B[39m \u001B[38;5;28mself\u001B[39m\u001B[38;5;241m.\u001B[39m_impl\u001B[38;5;241m.\u001B[39mlocator\u001B[38;5;241m.\u001B[39mget_cache_path()\n\u001B[0;32m    603\u001B[0m \u001B[38;5;66;03m# This may be a bit strict but avoids us maintaining a magic number\u001B[39;00m\n",
      "File \u001B[1;32mC:\\ProgramData\\anaconda3\\Lib\\site-packages\\numba\\core\\caching.py:333\u001B[0m, in \u001B[0;36mCacheImpl.__init__\u001B[1;34m(self, py_func)\u001B[0m\n\u001B[0;32m    331\u001B[0m source_path \u001B[38;5;241m=\u001B[39m inspect\u001B[38;5;241m.\u001B[39mgetfile(py_func)\n\u001B[0;32m    332\u001B[0m \u001B[38;5;28;01mfor\u001B[39;00m \u001B[38;5;28mcls\u001B[39m \u001B[38;5;129;01min\u001B[39;00m \u001B[38;5;28mself\u001B[39m\u001B[38;5;241m.\u001B[39m_locator_classes:\n\u001B[1;32m--> 333\u001B[0m     locator \u001B[38;5;241m=\u001B[39m \u001B[38;5;28mcls\u001B[39m\u001B[38;5;241m.\u001B[39mfrom_function(py_func, source_path)\n\u001B[0;32m    334\u001B[0m     \u001B[38;5;28;01mif\u001B[39;00m locator \u001B[38;5;129;01mis\u001B[39;00m \u001B[38;5;129;01mnot\u001B[39;00m \u001B[38;5;28;01mNone\u001B[39;00m:\n\u001B[0;32m    335\u001B[0m         \u001B[38;5;28;01mbreak\u001B[39;00m\n",
      "File \u001B[1;32mC:\\ProgramData\\anaconda3\\Lib\\site-packages\\numba\\core\\caching.py:180\u001B[0m, in \u001B[0;36m_SourceFileBackedLocatorMixin.from_function\u001B[1;34m(cls, py_func, py_file)\u001B[0m\n\u001B[0;32m    178\u001B[0m \u001B[38;5;28mself\u001B[39m \u001B[38;5;241m=\u001B[39m \u001B[38;5;28mcls\u001B[39m(py_func, py_file)\n\u001B[0;32m    179\u001B[0m \u001B[38;5;28;01mtry\u001B[39;00m:\n\u001B[1;32m--> 180\u001B[0m     \u001B[38;5;28mself\u001B[39m\u001B[38;5;241m.\u001B[39mensure_cache_path()\n\u001B[0;32m    181\u001B[0m \u001B[38;5;28;01mexcept\u001B[39;00m \u001B[38;5;167;01mOSError\u001B[39;00m:\n\u001B[0;32m    182\u001B[0m     \u001B[38;5;66;03m# Cannot ensure the cache directory exists or is writable\u001B[39;00m\n\u001B[0;32m    183\u001B[0m     \u001B[38;5;28;01mreturn\u001B[39;00m\n",
      "File \u001B[1;32mC:\\ProgramData\\anaconda3\\Lib\\site-packages\\numba\\core\\caching.py:107\u001B[0m, in \u001B[0;36m_CacheLocator.ensure_cache_path\u001B[1;34m(self)\u001B[0m\n\u001B[0;32m    105\u001B[0m os\u001B[38;5;241m.\u001B[39mmakedirs(path, exist_ok\u001B[38;5;241m=\u001B[39m\u001B[38;5;28;01mTrue\u001B[39;00m)\n\u001B[0;32m    106\u001B[0m \u001B[38;5;66;03m# Ensure the directory is writable by trying to write a temporary file\u001B[39;00m\n\u001B[1;32m--> 107\u001B[0m tempfile\u001B[38;5;241m.\u001B[39mTemporaryFile(\u001B[38;5;28mdir\u001B[39m\u001B[38;5;241m=\u001B[39mpath)\u001B[38;5;241m.\u001B[39mclose()\n",
      "File \u001B[1;32mC:\\ProgramData\\anaconda3\\Lib\\tempfile.py:563\u001B[0m, in \u001B[0;36mNamedTemporaryFile\u001B[1;34m(mode, buffering, encoding, newline, suffix, prefix, dir, delete, errors)\u001B[0m\n\u001B[0;32m    561\u001B[0m     \u001B[38;5;28;01mreturn\u001B[39;00m fd\n\u001B[0;32m    562\u001B[0m \u001B[38;5;28;01mtry\u001B[39;00m:\n\u001B[1;32m--> 563\u001B[0m     file \u001B[38;5;241m=\u001B[39m _io\u001B[38;5;241m.\u001B[39mopen(\u001B[38;5;28mdir\u001B[39m, mode, buffering\u001B[38;5;241m=\u001B[39mbuffering,\n\u001B[0;32m    564\u001B[0m                     newline\u001B[38;5;241m=\u001B[39mnewline, encoding\u001B[38;5;241m=\u001B[39mencoding, errors\u001B[38;5;241m=\u001B[39merrors,\n\u001B[0;32m    565\u001B[0m                     opener\u001B[38;5;241m=\u001B[39mopener)\n\u001B[0;32m    566\u001B[0m     \u001B[38;5;28;01mtry\u001B[39;00m:\n\u001B[0;32m    567\u001B[0m         raw \u001B[38;5;241m=\u001B[39m \u001B[38;5;28mgetattr\u001B[39m(file, \u001B[38;5;124m'\u001B[39m\u001B[38;5;124mbuffer\u001B[39m\u001B[38;5;124m'\u001B[39m, file)\n",
      "File \u001B[1;32mC:\\ProgramData\\anaconda3\\Lib\\tempfile.py:560\u001B[0m, in \u001B[0;36mNamedTemporaryFile.<locals>.opener\u001B[1;34m(*args)\u001B[0m\n\u001B[0;32m    558\u001B[0m \u001B[38;5;28;01mdef\u001B[39;00m \u001B[38;5;21mopener\u001B[39m(\u001B[38;5;241m*\u001B[39margs):\n\u001B[0;32m    559\u001B[0m     \u001B[38;5;28;01mnonlocal\u001B[39;00m name\n\u001B[1;32m--> 560\u001B[0m     fd, name \u001B[38;5;241m=\u001B[39m _mkstemp_inner(\u001B[38;5;28mdir\u001B[39m, prefix, suffix, flags, output_type)\n\u001B[0;32m    561\u001B[0m     \u001B[38;5;28;01mreturn\u001B[39;00m fd\n",
      "File \u001B[1;32mC:\\ProgramData\\anaconda3\\Lib\\tempfile.py:262\u001B[0m, in \u001B[0;36m_mkstemp_inner\u001B[1;34m(dir, pre, suf, flags, output_type)\u001B[0m\n\u001B[0;32m    258\u001B[0m     \u001B[38;5;28;01mcontinue\u001B[39;00m    \u001B[38;5;66;03m# try again\u001B[39;00m\n\u001B[0;32m    259\u001B[0m \u001B[38;5;28;01mexcept\u001B[39;00m \u001B[38;5;167;01mPermissionError\u001B[39;00m:\n\u001B[0;32m    260\u001B[0m     \u001B[38;5;66;03m# This exception is thrown when a directory with the chosen name\u001B[39;00m\n\u001B[0;32m    261\u001B[0m     \u001B[38;5;66;03m# already exists on windows.\u001B[39;00m\n\u001B[1;32m--> 262\u001B[0m     \u001B[38;5;28;01mif\u001B[39;00m (_os\u001B[38;5;241m.\u001B[39mname \u001B[38;5;241m==\u001B[39m \u001B[38;5;124m'\u001B[39m\u001B[38;5;124mnt\u001B[39m\u001B[38;5;124m'\u001B[39m \u001B[38;5;129;01mand\u001B[39;00m _os\u001B[38;5;241m.\u001B[39mpath\u001B[38;5;241m.\u001B[39misdir(\u001B[38;5;28mdir\u001B[39m) \u001B[38;5;129;01mand\u001B[39;00m\n\u001B[0;32m    263\u001B[0m         _os\u001B[38;5;241m.\u001B[39maccess(\u001B[38;5;28mdir\u001B[39m, _os\u001B[38;5;241m.\u001B[39mW_OK)):\n\u001B[0;32m    264\u001B[0m         \u001B[38;5;28;01mcontinue\u001B[39;00m\n\u001B[0;32m    265\u001B[0m     \u001B[38;5;28;01melse\u001B[39;00m:\n",
      "File \u001B[1;32mC:\\ProgramData\\anaconda3\\Lib\\genericpath.py:39\u001B[0m, in \u001B[0;36misdir\u001B[1;34m(s)\u001B[0m\n\u001B[0;32m     33\u001B[0m     \u001B[38;5;28;01mreturn\u001B[39;00m stat\u001B[38;5;241m.\u001B[39mS_ISREG(st\u001B[38;5;241m.\u001B[39mst_mode)\n\u001B[0;32m     36\u001B[0m \u001B[38;5;66;03m# Is a path a directory?\u001B[39;00m\n\u001B[0;32m     37\u001B[0m \u001B[38;5;66;03m# This follows symbolic links, so both islink() and isdir()\u001B[39;00m\n\u001B[0;32m     38\u001B[0m \u001B[38;5;66;03m# can be true for the same path on systems that support symlinks\u001B[39;00m\n\u001B[1;32m---> 39\u001B[0m \u001B[38;5;28;01mdef\u001B[39;00m \u001B[38;5;21misdir\u001B[39m(s):\n\u001B[0;32m     40\u001B[0m \u001B[38;5;250m    \u001B[39m\u001B[38;5;124;03m\"\"\"Return true if the pathname refers to an existing directory.\"\"\"\u001B[39;00m\n\u001B[0;32m     41\u001B[0m     \u001B[38;5;28;01mtry\u001B[39;00m:\n",
      "\u001B[1;31mKeyboardInterrupt\u001B[0m: "
     ]
    }
   ],
   "source": [
    "import galois"
   ]
  },
  {
   "cell_type": "code",
   "execution_count": null,
   "id": "dfbf44fc0a9cd050",
   "metadata": {
    "collapsed": false
   },
   "outputs": [],
   "source": []
  },
  {
   "cell_type": "markdown",
   "id": "5d838c92f4614bc0",
   "metadata": {
    "collapsed": false
   },
   "source": [
    "## The Galois Field in Cryptography\n",
    "Research about the uses of the Galois field. What are its properties? How can it be used in cryptography? Write a simple cryptosystem based on the field. Research production-grade systems based on the Galois field.\n",
    "\n",
    "You can use the following questions to facilitate your research:\n",
    "* What is a field?\n",
    "* What is GF(2)? Why is it an algebraic field?\n",
    "* How and why do we extend the field to have more elements, like GF(3), GF(4), etc.? Do they have any practical applications?\n",
    "* What is perfect secrecy? How does it relate to the participants in the conversation, and to the outside eavesdropper?\n",
    "    * https://www.youtube.com/watch?v=ColSUxhpn6A\n",
    "* How to encrypt one-bit messages?\n",
    "* How to extend the one-bit encryption system to many buts?\n",
    "* Why is the system decryptable? How do the participants decrypt the encrypted messages?\n",
    "* Why isn't the eavesdropper able to decrypt?\n",
    "* What is a one-time pad?\n",
    "    * How does the one-time pad achieve perfect secrecy?\n",
    "* What happens if we try to use a one-time pad many times?\n",
    "    * Provide an example where you break the \"many-time pad\" security\n",
    "* What are some current enterprise-grade applications of encryption over GF(2)?\n",
    "* Implement a cryptosystem based on GF(2). Show correctness on various test cases\n",
    "* What is symmetrical encryption?"
   ]
  },
  {
   "cell_type": "markdown",
   "id": "2fd7eb69a4a43915",
   "metadata": {
    "collapsed": false
   },
   "source": [
    "## 11.1. What happens if we try to use a one-time pad many times?"
   ]
  },
  {
   "cell_type": "markdown",
   "id": "889d840fb5aaa72f",
   "metadata": {
    "collapsed": false
   },
   "source": [
    "Using a one-time pad multiple times violates the fundamental principle that the key must be used only once. This leads to significant vulnerabilities and compromises the security of the encrypted messages. Here’s what happens if the same one-time pad is reused:\n",
    "\n",
    "### Scenario with Two Messages\n",
    "\n",
    "Suppose Alice sends two different messages, \\(M_1\\) and \\(M_2\\), to Bob using the same one-time pad \\(K\\). The ciphertexts \\(C_1\\) and \\(C_2\\) are generated as follows:\n",
    "- \\(C_1 = M_1 \\oplus K\\)\n",
    "- \\(C_2 = M_2 \\oplus K\\)\n",
    "\n",
    "Where \\(\\oplus\\) denotes the XOR operation.\n",
    "\n",
    "An eavesdropper intercepting both ciphertexts \\(C_1\\) and \\(C_2\\) can perform the following analysis:\n",
    "- Compute \\(C_1 \\oplus C_2\\)\n",
    "- \\(C_1 \\oplus C_2 = (M_1 \\oplus K) \\oplus (M_2 \\oplus K)\\)\n",
    "- Using the property of XOR: \\(C_1 \\oplus C_2 = M_1 \\oplus M_2\\)\n",
    "\n",
    "### Consequences\n",
    "\n",
    "1. **Recovering Plaintexts**: The result \\(M_1 \\oplus M_2\\) is the XOR of the two plaintexts. While this does not directly reveal \\(M_1\\) or \\(M_2\\), it provides a significant clue. If the eavesdropper knows or can guess part of one plaintext, they can potentially recover part or all of the other plaintext.\n",
    "\n",
    "2. **Statistical Analysis**: If the messages are in natural language or have predictable patterns, the eavesdropper can use statistical analysis to deduce the plaintexts. For example, common words or phrases might be easily recognizable in the XOR of the messages.\n",
    "\n",
    "3. **Known-plaintext Attack**: If the eavesdropper knows one of the plaintexts (a known-plaintext attack), they can easily recover the key and subsequently decrypt the other message:\n",
    "   - Suppose \\(M_1\\) is known.\n",
    "   - Then \\(K = C_1 \\oplus M_1\\).\n",
    "   - The eavesdropper can now use \\(K\\) to decrypt any other message encrypted with the same key: \\(M_2 = C_2 \\oplus K\\).\n",
    "\n"
   ]
  },
  {
   "cell_type": "markdown",
   "id": "f0e81b7412f244a4",
   "metadata": {
    "collapsed": false
   },
   "source": [
    "## 11.2. Provide an example where you break the \"many-time pad\" security"
   ]
  },
  {
   "cell_type": "markdown",
   "id": "8bafd9508117d6ad",
   "metadata": {
    "collapsed": false
   },
   "source": [
    "### Example\n",
    "\n",
    "Consider Alice sends two messages \"HELLO\" and \"WORLD\" using the same one-time pad key. The corresponding ciphertexts are:\n",
    "- \\(C_1 = M_1 \\oplus K\\) (HELLO)\n",
    "- \\(C_2 = M_2 \\oplus K\\) (WORLD)\n",
    "\n",
    "An eavesdropper intercepts both \\(C_1\\) and \\(C_2\\) and calculates:\n",
    "- \\(C_1 \\oplus C_2 = (HELLO \\oplus K) \\oplus (WORLD \\oplus K) = HELLO \\oplus WORLD\\)\n",
    "\n",
    "The eavesdropper now has the XOR of two meaningful plaintexts, which can be exploited to uncover the original messages, especially if the content is predictable or if parts of the messages are known.\n",
    "\n",
    "### Conclusion\n",
    "\n",
    "Reusing a one-time pad key more than once compromises the security of the encrypted messages, rendering the cryptographic system vulnerable to various attacks. This is why it is crucial to adhere to the one-time usage rule of the one-time pad to maintain perfect secrecy."
   ]
  },
  {
   "cell_type": "markdown",
   "id": "51e12564f8235e2",
   "metadata": {
    "collapsed": false
   },
   "source": []
  },
  {
   "cell_type": "markdown",
   "id": "cf8ac79d120e0eae",
   "metadata": {
    "collapsed": false
   },
   "source": [
    "<p align=\"center\">\n",
    "  <img src=\"./data/Principle-of-symmetric-key-encryption.png\" width=\"1600\" heght=\"1600\"/>\n",
    "  \n",
    "</p>\n",
    "<div align=\"center\">Fig. 3.1 Principle of symmetric-key encryption</div>"
   ]
  },
  {
   "cell_type": "markdown",
   "id": "dd87eb5dbe9361bb",
   "metadata": {
    "collapsed": false
   },
   "source": [
    "[Download Link](https://www-users.cse.umn.edu/~brubaker/docs/152/152groups.pdf)"
   ]
  },
  {
   "cell_type": "code",
   "execution_count": 2,
   "id": "591d36e8-ac81-406a-a3f4-ebc4b514a250",
   "metadata": {
    "collapsed": false,
    "editable": true,
    "slideshow": {
     "slide_type": ""
    },
    "tags": []
   },
   "outputs": [
    {
     "name": "stdout",
     "output_type": "stream",
     "text": [
      "Defaulting to user installation because normal site-packages is not writeable\n",
      "Collecting galois\n",
      "  Using cached galois-0.3.10-py3-none-any.whl.metadata (14 kB)\n",
      "Requirement already satisfied: numpy<1.27,>=1.21.0 in c:\\programdata\\anaconda3\\lib\\site-packages (from galois) (1.26.4)\n",
      "Requirement already satisfied: numba<0.60,>=0.55 in c:\\programdata\\anaconda3\\lib\\site-packages (from galois) (0.59.1)\n",
      "Requirement already satisfied: typing-extensions>=4.0.0 in c:\\programdata\\anaconda3\\lib\\site-packages (from galois) (4.11.0)\n",
      "Requirement already satisfied: llvmlite<0.43,>=0.42.0dev0 in c:\\programdata\\anaconda3\\lib\\site-packages (from numba<0.60,>=0.55->galois) (0.42.0)\n",
      "Using cached galois-0.3.10-py3-none-any.whl (4.2 MB)\n",
      "Installing collected packages: galois\n",
      "Successfully installed galois-0.3.10\n"
     ]
    }
   ],
   "source": [
    "! pip install galois"
   ]
  },
  {
   "cell_type": "code",
   "execution_count": 2,
   "id": "0682507a-232a-4c15-b1a7-56c40f33978f",
   "metadata": {},
   "outputs": [],
   "source": []
  },
  {
   "cell_type": "code",
   "execution_count": null,
   "id": "2cd89a05-f612-432d-b66f-44c9b75fd354",
   "metadata": {},
   "outputs": [],
   "source": []
  },
  {
   "cell_type": "markdown",
   "source": [
    "### 2.4. Galois Fields Modular Polynomial Arithmetic - Python Implementation"
   ],
   "metadata": {
    "collapsed": false
   },
   "id": "fc85783446c58b3f"
  },
  {
   "cell_type": "markdown",
   "source": [
    "To demonstrate Galois Fields (GF) modular polynomial arithmetic in Python, we will use the `sympy` library, which has good support for polynomial arithmetic and finite fields. Below is an example that showcases how to perform basic operations in Galois Fields, specifically focusing on polynomial arithmetic."
   ],
   "metadata": {
    "collapsed": false
   },
   "id": "32afe4f342646f57"
  },
  {
   "cell_type": "code",
   "outputs": [
    {
     "ename": "AttributeError",
     "evalue": "'tuple' object has no attribute 'convert'",
     "output_type": "error",
     "traceback": [
      "\u001B[1;31m---------------------------------------------------------------------------\u001B[0m",
      "\u001B[1;31mAttributeError\u001B[0m                            Traceback (most recent call last)",
      "Cell \u001B[1;32mIn[1], line 15\u001B[0m\n\u001B[0;32m     11\u001B[0m R \u001B[38;5;241m=\u001B[39m ring(x, GF)\n\u001B[0;32m     14\u001B[0m \u001B[38;5;66;03m# Define polynomials in R\u001B[39;00m\n\u001B[1;32m---> 15\u001B[0m poly1 \u001B[38;5;241m=\u001B[39m R\u001B[38;5;241m.\u001B[39mconvert(sp\u001B[38;5;241m.\u001B[39mPoly(x\u001B[38;5;241m*\u001B[39m\u001B[38;5;241m*\u001B[39m\u001B[38;5;241m3\u001B[39m \u001B[38;5;241m+\u001B[39m \u001B[38;5;241m2\u001B[39m\u001B[38;5;241m*\u001B[39mx\u001B[38;5;241m*\u001B[39m\u001B[38;5;241m*\u001B[39m\u001B[38;5;241m2\u001B[39m \u001B[38;5;241m+\u001B[39m \u001B[38;5;241m3\u001B[39m\u001B[38;5;241m*\u001B[39mx \u001B[38;5;241m+\u001B[39m \u001B[38;5;241m4\u001B[39m, x))\n\u001B[0;32m     16\u001B[0m poly2 \u001B[38;5;241m=\u001B[39m R\u001B[38;5;241m.\u001B[39mconvert(sp\u001B[38;5;241m.\u001B[39mPoly(x\u001B[38;5;241m*\u001B[39m\u001B[38;5;241m*\u001B[39m\u001B[38;5;241m2\u001B[39m \u001B[38;5;241m+\u001B[39m \u001B[38;5;241m4\u001B[39m\u001B[38;5;241m*\u001B[39mx \u001B[38;5;241m+\u001B[39m \u001B[38;5;241m1\u001B[39m, x))\n\u001B[0;32m     18\u001B[0m \u001B[38;5;66;03m# Print the polynomials\u001B[39;00m\n",
      "\u001B[1;31mAttributeError\u001B[0m: 'tuple' object has no attribute 'convert'"
     ]
    }
   ],
   "source": [
    "import sympy as sp\n",
    "from sympy.abc import x\n",
    "from sympy.polys.rings import ring\n",
    "\n",
    "# Define the finite field GF(p), where p is a prime number\n",
    "p = 5  # You can change this to any prime number\n",
    "GF = sp.GF(p)\n",
    "\n",
    "# Define the polynomial ring over GF(p)\n",
    "#x = sp.symbols('x')\n",
    "R = ring(x, GF)\n",
    "\n",
    "\n",
    "# Define polynomials in R\n",
    "poly1 = R.convert(sp.Poly(x**3 + 2*x**2 + 3*x + 4, x))\n",
    "poly2 = R.convert(sp.Poly(x**2 + 4*x + 1, x))\n",
    "\n",
    "# Print the polynomials\n",
    "print(f\"Polynomial 1: {poly1}\")\n",
    "print(f\"Polynomial 2: {poly2}\")\n",
    "\n",
    "# Perform polynomial addition\n",
    "sum_poly = poly1 + poly2\n",
    "print(f\"Sum: {sum_poly}\")\n",
    "\n",
    "# Perform polynomial subtraction\n",
    "sub_poly = poly1 - poly2\n",
    "print(f\"Subtraction: {sub_poly}\")\n",
    "\n",
    "# Perform polynomial multiplication\n",
    "mul_poly = poly1 * poly2\n",
    "print(f\"Multiplication: {mul_poly}\")\n",
    "\n",
    "# Define a modulus polynomial for reduction\n",
    "mod_poly = R.convert(sp.Poly(x**3 + x + 1, x))\n",
    "\n",
    "# Perform polynomial division\n",
    "quotient, remainder = divmod(mul_poly, mod_poly)\n",
    "print(f\"Quotient: {quotient}\")\n",
    "print(f\"Remainder: {remainder}\")\n",
    "\n",
    "# Perform polynomial division with remainder\n",
    "reduced_poly = mul_poly % mod_poly\n",
    "print(f\"Reduced Polynomial: {reduced_poly}\")\n"
   ],
   "metadata": {
    "collapsed": false,
    "ExecuteTime": {
     "end_time": "2024-07-01T16:42:52.346661Z",
     "start_time": "2024-07-01T16:42:51.079536Z"
    }
   },
   "id": "ea736cb011c6226e",
   "execution_count": 1
  },
  {
   "cell_type": "markdown",
   "source": [
    "**Explanation:**\n",
    "\n",
    "1. **Defining the Finite Field and Polynomial Ring**:\n",
    "   - We define a finite field \\( \\text{GF}(p) \\) where \\( p \\) is a prime number.\n",
    "   - We create a polynomial ring \\( R \\) over \\( \\text{GF}(p) \\) with indeterminate \\( x \\).\n",
    "\n",
    "2. **Defining Polynomials**:\n",
    "   - We define two polynomials `poly1` and `poly2` in the polynomial ring \\( R \\).\n",
    "\n",
    "3. **Polynomial Arithmetic**:\n",
    "   - We perform addition, subtraction, and multiplication of these polynomials.\n",
    "\n",
    "4. **Modular Reduction**:\n",
    "   - We define a modulus polynomial `mod_poly` for reduction.\n",
    "   - We perform polynomial division to obtain the quotient and remainder.\n",
    "   - We also show the reduced polynomial by taking the remainder of the division.\n",
    "\n",
    "### Running the Code\n",
    "\n",
    "This code will output the results of the various polynomial operations in the specified Galois Field.\n",
    "\n",
    "By modifying the polynomials and the modulus polynomial, you can experiment with different examples of modular polynomial arithmetic in Galois Fields.\n",
    "\n"
   ],
   "metadata": {
    "collapsed": false
   },
   "id": "b163f576d241030d"
  },
  {
   "cell_type": "markdown",
   "source": [],
   "metadata": {
    "collapsed": false
   },
   "id": "9d1caeafd9f05998"
  }
 ],
 "metadata": {
  "kernelspec": {
   "display_name": "Python 3 (ipykernel)",
   "language": "python",
   "name": "python3"
  },
  "language_info": {
   "codemirror_mode": {
    "name": "ipython",
    "version": 3
   },
   "file_extension": ".py",
   "mimetype": "text/x-python",
   "name": "python",
   "nbconvert_exporter": "python",
   "pygments_lexer": "ipython3",
   "version": "3.11.7"
  }
 },
 "nbformat": 4,
 "nbformat_minor": 5
}
