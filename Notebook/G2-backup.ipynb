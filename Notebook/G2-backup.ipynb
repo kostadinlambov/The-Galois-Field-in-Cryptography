{
 "cells": [
  {
   "cell_type": "markdown",
   "source": [],
   "metadata": {
    "collapsed": false
   },
   "id": "31d9f7f2c3790a98"
  },
  {
   "cell_type": "markdown",
   "source": [
    "## 11.1. What happens if we try to use a one-time pad many times?"
   ],
   "metadata": {
    "collapsed": false
   },
   "id": "2fd7eb69a4a43915"
  },
  {
   "cell_type": "markdown",
   "source": [
    "Using a one-time pad multiple times violates the fundamental principle that the key must be used only once. This leads to significant vulnerabilities and compromises the security of the encrypted messages. Here’s what happens if the same one-time pad is reused:\n",
    "\n",
    "### Scenario with Two Messages\n",
    "\n",
    "Suppose Alice sends two different messages, \\(M_1\\) and \\(M_2\\), to Bob using the same one-time pad \\(K\\). The ciphertexts \\(C_1\\) and \\(C_2\\) are generated as follows:\n",
    "- \\(C_1 = M_1 \\oplus K\\)\n",
    "- \\(C_2 = M_2 \\oplus K\\)\n",
    "\n",
    "Where \\(\\oplus\\) denotes the XOR operation.\n",
    "\n",
    "An eavesdropper intercepting both ciphertexts \\(C_1\\) and \\(C_2\\) can perform the following analysis:\n",
    "- Compute \\(C_1 \\oplus C_2\\)\n",
    "- \\(C_1 \\oplus C_2 = (M_1 \\oplus K) \\oplus (M_2 \\oplus K)\\)\n",
    "- Using the property of XOR: \\(C_1 \\oplus C_2 = M_1 \\oplus M_2\\)\n",
    "\n",
    "### Consequences\n",
    "\n",
    "1. **Recovering Plaintexts**: The result \\(M_1 \\oplus M_2\\) is the XOR of the two plaintexts. While this does not directly reveal \\(M_1\\) or \\(M_2\\), it provides a significant clue. If the eavesdropper knows or can guess part of one plaintext, they can potentially recover part or all of the other plaintext.\n",
    "\n",
    "2. **Statistical Analysis**: If the messages are in natural language or have predictable patterns, the eavesdropper can use statistical analysis to deduce the plaintexts. For example, common words or phrases might be easily recognizable in the XOR of the messages.\n",
    "\n",
    "3. **Known-plaintext Attack**: If the eavesdropper knows one of the plaintexts (a known-plaintext attack), they can easily recover the key and subsequently decrypt the other message:\n",
    "   - Suppose \\(M_1\\) is known.\n",
    "   - Then \\(K = C_1 \\oplus M_1\\).\n",
    "   - The eavesdropper can now use \\(K\\) to decrypt any other message encrypted with the same key: \\(M_2 = C_2 \\oplus K\\).\n",
    "\n"
   ],
   "metadata": {
    "collapsed": false
   },
   "id": "889d840fb5aaa72f"
  },
  {
   "cell_type": "markdown",
   "source": [
    "## 11.2. Provide an example where you break the \"many-time pad\" security"
   ],
   "metadata": {
    "collapsed": false
   },
   "id": "f0e81b7412f244a4"
  },
  {
   "cell_type": "markdown",
   "source": [
    "### Example\n",
    "\n",
    "Consider Alice sends two messages \"HELLO\" and \"WORLD\" using the same one-time pad key. The corresponding ciphertexts are:\n",
    "- \\(C_1 = M_1 \\oplus K\\) (HELLO)\n",
    "- \\(C_2 = M_2 \\oplus K\\) (WORLD)\n",
    "\n",
    "An eavesdropper intercepts both \\(C_1\\) and \\(C_2\\) and calculates:\n",
    "- \\(C_1 \\oplus C_2 = (HELLO \\oplus K) \\oplus (WORLD \\oplus K) = HELLO \\oplus WORLD\\)\n",
    "\n",
    "The eavesdropper now has the XOR of two meaningful plaintexts, which can be exploited to uncover the original messages, especially if the content is predictable or if parts of the messages are known.\n",
    "\n",
    "### Conclusion\n",
    "\n",
    "Reusing a one-time pad key more than once compromises the security of the encrypted messages, rendering the cryptographic system vulnerable to various attacks. This is why it is crucial to adhere to the one-time usage rule of the one-time pad to maintain perfect secrecy."
   ],
   "metadata": {
    "collapsed": false
   },
   "id": "8bafd9508117d6ad"
  },
  {
   "cell_type": "markdown",
   "source": [],
   "metadata": {
    "collapsed": false
   },
   "id": "51e12564f8235e2"
  },
  {
   "cell_type": "markdown",
   "source": [
    "<p align=\"center\">\n",
    "  <img src=\"./data/Principle-of-symmetric-key-encryption.png\" width=\"1600\" heght=\"1600\"/>\n",
    "  \n",
    "</p>\n",
    "<div align=\"center\">Fig. 3.1 Principle of symmetric-key encryption</div>"
   ],
   "metadata": {
    "collapsed": false
   },
   "id": "cf8ac79d120e0eae"
  },
  {
   "cell_type": "markdown",
   "source": [
    "[Download Link](https://www-users.cse.umn.edu/~brubaker/docs/152/152groups.pdf)"
   ],
   "metadata": {
    "collapsed": false
   },
   "id": "dd87eb5dbe9361bb"
  },
  {
   "cell_type": "markdown",
   "source": [],
   "metadata": {
    "collapsed": false
   },
   "id": "c32bdccc013b6fb"
  }
 ],
 "metadata": {},
 "nbformat": 4,
 "nbformat_minor": 5
}
