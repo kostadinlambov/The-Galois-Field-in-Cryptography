{
 "cells": [
  {
   "cell_type": "code",
   "execution_count": 5,
   "id": "a42d5ced-560a-431f-b0a1-3b8ea1313d66",
   "metadata": {
    "ExecuteTime": {
     "end_time": "2024-06-29T18:20:44.417805Z",
     "start_time": "2024-06-29T18:20:44.412343Z"
    }
   },
   "outputs": [],
   "source": [
    "# imports"
   ]
  },
  {
   "cell_type": "markdown",
   "id": "19179598-ff13-4afd-874c-a115f29ba95a",
   "metadata": {
    "panel-layout": {
     "height": 60.5938,
     "visible": true,
     "width": 100
    }
   },
   "source": [
    "# The-Galois-Field-in-Cryptography"
   ]
  },
  {
   "cell_type": "markdown",
   "id": "903786ba-770a-4a97-9605-5e4957dbd0c5",
   "metadata": {
    "panel-layout": {
     "height": 468.294,
     "visible": true,
     "width": 100
    }
   },
   "source": [
    "## The Galois Field in Cryptography\n",
    "Research about the uses of the Galois field. What are its properties? How can it be used in cryptography? Write a simple cryptosystem based on the field. Research production-grade systems based on the Galois field.\n",
    "\n",
    "You can use the following questions to facilitate your research:\n",
    "* What is a field?\n",
    "* What is GF(2)? Why is it an algebraic field?\n",
    "* How and why do we extend the field to have more elements, like GF(3), GF(4), etc.? Do they have any practical applications?\n",
    "* What is perfect secrecy? How does it relate to the participants in the conversation, and to the outside eavesdropper?\n",
    "    * https://www.youtube.com/watch?v=ColSUxhpn6A\n",
    "* How to encrypt one-bit messages?\n",
    "* How to extend the one-bit encryption system to many buts?\n",
    "* Why is the system decryptable? How do the participants decrypt the encrypted messages?\n",
    "* Why isn't the eavesdropper able to decrypt?\n",
    "* What is a one-time pad?\n",
    "    * How does the one-time pad achieve perfect secrecy?\n",
    "* What happens if we try to use a one-time pad many times?\n",
    "    * Provide an example where you break the \"many-time pad\" security\n",
    "* What are some current enterprise-grade applications of encryption over GF(2)?\n",
    "* Implement a cryptosystem based on GF(2). Show correctness on various test cases\n",
    "* What is symmetrical encryption?"
   ]
  },
  {
   "cell_type": "code",
   "execution_count": 1,
   "id": "5f80f07d-0002-4f76-b16c-e46b7e6d959d",
   "metadata": {
    "ExecuteTime": {
     "end_time": "2024-06-29T18:20:44.576567Z",
     "start_time": "2024-06-29T18:20:44.574102Z"
    }
   },
   "outputs": [],
   "source": []
  },
  {
   "cell_type": "markdown",
   "id": "b728c4b3-d913-4e71-9c4c-597fb5fe3e84",
   "metadata": {},
   "source": [
    "## 1. Group, Ring and Field"
   ]
  },
  {
   "cell_type": "markdown",
   "id": "cd32f35e-fb27-45f2-a9bc-7e224ca84662",
   "metadata": {},
   "source": [
    "In mathematics, the concepts of group, ring, and field are fundamental structures in abstract algebra. They provide a framework for understanding and working with algebraic systems."
   ]
  },
  {
   "cell_type": "markdown",
   "id": "ac8a4d8d-3eee-403f-bf3b-f9fae8e7cdee",
   "metadata": {},
   "source": [
    "### 1.1. Group\n",
    "\n",
    "A *group* is a set equipped with a single binary operation $\\circ$ that satisfies four fundamental properties:\n",
    "\n",
    "1. **Closure**: For any two elements $a$ and $b$ in the set $G$, the result of the operation $a \\circ b$ is also in $G$.\n",
    "2. **Associativity**: For any three elements $a$, $b$, and $c$ in $G$, $(a \\circ b) \\circ c = a \\circ (b \\circ c)$.\n",
    "3. **Identity Element**: There exists an element $e$ in $G$ such that for every element $a$ in $G$, $e \\circ a = a \\circ e = a$.\n",
    "4. **Inverse Element**: For every element $a$ in $G$, there exists an element $b$ in $G$ such that $a \\circ b = b \\circ a = e$, where $e$ is the identity element.\n",
    "\n",
    "A group G is *abelian* (or commutative) if $a \\circ b = b \\circ a \\ \\forall \\ a,b \\in G$.\n",
    "\n",
    "Roughly speaking, a group is set with one operation and the corresponding inverse operation. If the operation is called *addition*, the inverse operation is *subtraction*; if the operation is *multiplication*, the inverse operation is *division* (or multiplication with the inverse element)[1].\n",
    "\n",
    "**Examples of Groups:**\n",
    "1. The set of integers $\\mathbb{Z}$ with the operation of *addition* forms a group. The identity element is 0, and the inverse of any integer $a$ is $-a$.\n"
   ]
  },
  {
   "cell_type": "markdown",
   "id": "760f1c46-701b-4834-b588-fe1c792304e0",
   "metadata": {},
   "source": [
    "2. The set of integers $\\mathbb{Z_m}$ = {0,1, . . . ,m−1} and the operation *addition modulo m* form a group with the neutral element 0. Every element $a$ has an inverse $-a$ such that $a+(−a) = 0 \\ mod \\ m$. Note that this set does not form a group with the operation *multiplication* because most elements $a$ do not have an inverse such that $a \\cdot a^{-1} = 1 \\ mod \\ m$ [1]."
   ]
  },
  {
   "cell_type": "markdown",
   "id": "637070c2-f641-427e-a25f-6175043333fc",
   "metadata": {},
   "source": [
    "### 1.2. Ring\n",
    "\n",
    "A *ring* is a set equipped with two binary operations, usually called *addition* and *multiplication*, satisfying the following properties:\n",
    "\n",
    "1. **Addition forms an abelian group**:\n",
    "   - **Closure**: For any $a, b \\in R$, $a + b$ $\\in$ $R$.\n",
    "   - **Associativity**: For any $a, b, c \\in R$, $(a + b) + c = a + (b + c)$.\n",
    "   - **Identity Element**: There exists an element $0 \\in R$ such that $a + 0 = a$ for all $a \\in R$.\n",
    "   - **Inverse Element**: For every $a \\in R$, there exists $-a \\in R$ such that $a + (-a) = 0$.\n",
    "   - **Commutativity**: For any $a, b \\in R$, $a + b = b + a$.\n",
    "\n",
    "2. **Multiplication is associative**:\n",
    "   - **Closure**: For any $a, b \\in R$, $a \\cdot b \\in R$.\n",
    "   - **Associativity**: For any $a, b, c \\in R$, $(a \\cdot b) \\cdot c = a \\cdot (b \\cdot c)$.\n",
    "\n",
    "3. **Distributivity**:\n",
    "   - For any $a, b, c \\in R$, $a \\cdot (b + c) = (a \\cdot b) + (a \\cdot c)$ and $(a + b) \\cdot c = (a \\cdot c) + (b \\cdot c)$.\n",
    "\n",
    "**Example**: The set of integers $\\mathbb{Z}$ with the usual addition and multiplication forms a ring."
   ]
  },
  {
   "cell_type": "markdown",
   "id": "953cd563-ad37-4813-bf80-60a68f864d80",
   "metadata": {},
   "source": [
    "### 1.3. Field\n",
    "\n",
    "In order to have all four basic arithmetic operations (i.e., addition, subtraction, multiplication, division) in one structure, we need a set which contains an additive and a multiplicative group[1].\n",
    "\n",
    "A *field* is a set equipped with two binary operations (*addition* and *multiplication*) satisfying the following properties:\n",
    "\n",
    "1. **Addition forms an abelian group** (same as in a ring):\n",
    "   - **Closure**: For any $a, b \\in F$, $a + b \\in F$.\n",
    "   - **Associativity**: For any $a, b, c \\in F$, $(a + b) + c = a + (b + c)$.\n",
    "   - **Identity Element**: There exists an element $0 \\in F$ such that $a + 0 = a \\ \\forall \\ a \\in F$.\n",
    "   - **Inverse Element**: For every $a \\in F$, there exists $-a \\in F$ such that $a + (-a) = 0$.\n",
    "   - **Commutativity**: For any $a, b \\in F$, $a + b = b + a$.\n",
    "\n",
    "2. **Multiplication forms an abelian group over non-zero elements**:\n",
    "   - **Closure**: For any $a, b \\in F$, $a \\cdot b \\in F$.\n",
    "   - **Associativity**: For any $a, b, c \\in F$, $(a \\cdot b) \\cdot c = a \\cdot (b \\cdot c)$.\n",
    "   - **Identity Element**: There exists an element $1 \\in F$ such that $a \\cdot 1 = a$ for all $a \\in F$.\n",
    "   - **Inverse Element**: For every $a \\in F$, $a \\ne 0$, there exists $a^{-1} \\in F$ such that $a \\cdot a^{-1} = 1$.\n",
    "   - **Commutativity**: For any $a, b \\in F$, $a \\cdot b = b \\cdot a$.\n",
    "\n",
    "3. **Distributivity**:\n",
    "   - For any $a, b, c \\in F$, $a \\cdot (b + c) = (a \\cdot b) + (a \\cdot c)$ and $(a + b) \\cdot c = (a \\cdot c) + (b \\cdot c)$.\n",
    "\n",
    "**Examples of Fields**:\n",
    "\n",
    "- **Real Numbers ($\\mathbb{R}$)**: The set of real numbers with standard addition and multiplication.\n",
    "- **Complex Numbers ($\\mathbb{C}$)**: The set of complex numbers with standard addition and multiplication.\n",
    "- **Rational Numbers ($\\mathbb{Q}$)**: The set of fractions where the numerator and denominator are integers and the denominator is non-zero, with standard addition and multiplication.\n",
    "- **Finite Fields ($\\mathbb{F}_p$ or $GF(p)$)**: Fields with a finite number of elements, where $p$ is a prime number. For example, $GF(2)$ consists of the elements $\\{0, 1\\}$ with arithmetic modulo 2.\n",
    "\n",
    "Fields are fundamental structures in algebra and are used extensively in various areas of mathematics, including number theory, algebraic geometry, and cryptography. They provide a framework for studying and understanding the properties of numbers and their operations in a rigorous way."
   ]
  },
  {
   "cell_type": "markdown",
   "id": "d86db561-6d35-4bf4-9f4e-2a2fedd2875e",
   "metadata": {},
   "source": [
    "### Summary - ??? change this\n",
    " \n",
    "- **Group**: A set with a single associative operation, an identity element, and inverses for all elements.\n",
    "- **Ring**: A set with two operations (addition and multiplication) where addition forms an abelian group, multiplication is associative, and multiplication distributes over addition.\n",
    "- **Field**: A ring in which every non-zero element has a multiplicative inverse, and both addition and multiplication are commutative.\n",
    "\n",
    "These structures form the basis for many areas of mathematics and are essential for understanding more complex algebraic systems."
   ]
  },
  {
   "cell_type": "markdown",
   "id": "b428090a1efc6c1a",
   "metadata": {
    "collapsed": false
   },
   "source": [
    "## 2. Finite Fields. Galois field - GF(2)"
   ]
  },
  {
   "cell_type": "markdown",
   "id": "ae154bab-298f-4afe-b682-97233028ad77",
   "metadata": {},
   "source": [
    "A *finite field*, sometimes also called *Galois field*, is a set with a finite number of elements. Roughly speaking, a Galois field is a finite set of elements in which we can add, subtract, multiply and invert. [1]\n",
    "\n",
    "$GF(2)$, specifically, is the Galois field with 2 elements. It is the simplest finite field and plays a crucial role in many areas of mathematics and computer science, particularly in coding theory and cryptography."
   ]
  },
  {
   "cell_type": "markdown",
   "id": "162570f6eef25fab",
   "metadata": {
    "collapsed": false
   },
   "source": [
    "The number of elements in a finite field is called the *order* or *cardinality* of the field. Of fundamental importance is the following theorem:"
   ]
  },
  {
   "cell_type": "markdown",
   "id": "a56226740dd276af",
   "metadata": {
    "collapsed": false
   },
   "source": [
    "\n",
    "> A field with order *m* only exists if *m* is a *prime power*, i.e., $m = p^n$, for some positive integer $n$ and prime integer $p$. $p$ is called the $characteristic$ of the finite field [1].\n"
   ]
  },
  {
   "cell_type": "markdown",
   "id": "229580034b9f367e",
   "metadata": {
    "collapsed": false
   },
   "source": [
    "This theorem implies that there are, for instance, finite fields with 11 elements, or with 81 elements (since $81$ = $3^4$) or with $256$ elements (since $256 = 2^8$, and $2$ is a prime). However, there is no finite field with $12$ elements since $12 = 2^2 * 3$, and $12$ is thus not a prime power. In the remainder of this section we look at how finite fields can be built, and how we can do arithmetic in them."
   ]
  },
  {
   "cell_type": "markdown",
   "id": "e3b158c762202b4",
   "metadata": {
    "collapsed": false
   },
   "source": [
    "### Construction of Finite Fields\n",
    "\n",
    "1. **Prime Fields $GF(p)$**:\n",
    "   - A finite field $GF(p)$ can be constructed where $p$ is a prime number. The elements of $GF(p)$ are the integers $\\{0, 1, 2, ..., p-1\\}$ with addition and multiplication performed modulo $p$.\n",
    "   - Example: $GF(3)$ consists of the elements $\\{0, 1, 2\\}$. Arithmetic operations are performed *modulo 3*.\n",
    "\n",
    "2. **Extension Fields $GF(p^n)$**:\n",
    "   - When $n > 1$, we can construct finite fields with $p^n$ elements where $p$ is a prime number and $n$ is a positive integer. These are called *extension fields*.\n",
    "   - Extension fields are constructed using a polynomial basis. Specifically, they are created by taking polynomials over $GF(p)$ and factoring them by an *irreducible polynomial of degree $n$*.\n",
    "   - Example: $GF(4)$ can be constructed as $GF(2^2)$. To construct $GF(4)$, we use an irreducible polynomial of degree 2 over $GF(2)$, such as $x^2 + x + 1$. The elements of $GF(4)$ can be represented as $\\{0, 1, x, x+1\\}$."
   ]
  },
  {
   "cell_type": "markdown",
   "id": "55225da70f71104e",
   "metadata": {
    "collapsed": false
   },
   "source": [
    "### 2.1. Prime Fields - $GF(p)$"
   ]
  },
  {
   "cell_type": "markdown",
   "id": "d9cdef000d1a19d7",
   "metadata": {
    "collapsed": false
   },
   "source": [
    "The most intuitive examples of finite fields are fields of prime order, i.e., fields with $n=1$. Elements of the field $GF(p)$ can be represented by integers $\\{0,1, . . . , p−1\\}$. The two operations of the field are *modular integer addition* and *integer multiplication modulo p*."
   ]
  },
  {
   "cell_type": "markdown",
   "id": "c1287367a4dbf0c8",
   "metadata": {
    "collapsed": false
   },
   "source": [
    "> Let $p$ be a prime. The integer ring $Zp$ is denoted as $GF(p)$ and is referred to as a $prime field$, or as a $Galois field$ with a prime number of elements. All nonzero elements of $GF(p)$ have an inverse. Arithmetic in $GF(p)$ is done *modulo p* [1]."
   ]
  },
  {
   "cell_type": "markdown",
   "id": "de4a66632671b4cb",
   "metadata": {
    "collapsed": false
   },
   "source": [
    "In order to do arithmetic in a prime field, we have to follow the rules for integer rings: \n",
    "- *Addition* and *multiplication* are done *modulo p*, \n",
    "- the *additive inverse* of any element *a* is given by $a + (−a) = 0 \\ mod \\ p$, and \n",
    "- the *multiplicative inverse* of any nonzero element a is defined as $a * a^−1 = 1$. \n"
   ]
  },
  {
   "cell_type": "markdown",
   "id": "35e13de7f9501df0",
   "metadata": {
    "collapsed": false
   },
   "source": [
    "#### GF(2) - Elements and Operations"
   ]
  },
  {
   "cell_type": "markdown",
   "id": "13027d9103d9a1f2",
   "metadata": {
    "collapsed": false
   },
   "source": [
    "A very important prime field is $GF(2)$, which is the smallest finite field that exists. The set of elements in $GF(2)$ is $\\{0, 1\\}$. These elements are often interpreted as the binary values used in digital logic."
   ]
  },
  {
   "cell_type": "markdown",
   "id": "782ed10cb875f280",
   "metadata": {
    "collapsed": false
   },
   "source": [
    "The two operations defined in $GF(2)$ are *addition* and *multiplication*, both of which are performed modulo 2."
   ]
  },
  {
   "cell_type": "markdown",
   "id": "61f97bf78b092f72",
   "metadata": {
    "collapsed": false
   },
   "source": [
    "##### Addition in $GF(2)$\n",
    "\n",
    "Addition in $GF(2)$ is equivalent to the **XOR** operation in binary logic.\n",
    "\n",
    "- $0 + 0 = 0$\n",
    "- $0 + 1 = 1$\n",
    "- $1 + 0 = 1$\n",
    "- $1 + 1 = 0$  ( since $2 \\equiv 0 \\mod 2$)\n"
   ]
  },
  {
   "cell_type": "markdown",
   "id": "9a65e8dd9bdcd427",
   "metadata": {
    "collapsed": false
   },
   "source": [
    "##### Multiplication in $GF(2)$\n",
    "\n",
    "Multiplication in $GF(2)$ is straightforward since the product is 1 only when both operands are 1.\n",
    "\n",
    "- $0 \\times 0 = 0$\n",
    "- $0 \\times 1 = 0$\n",
    "- $1 \\times 0 = 0$\n",
    "- $1 \\times 1 = 1$"
   ]
  },
  {
   "cell_type": "markdown",
   "id": "dd968b26ca85c336",
   "metadata": {
    "collapsed": false
   },
   "source": [
    "*$GF(2)$ addition*, i.e., modulo 2 addition, is equivalent to an **XOR** gate. What we see from the example above is that *$GF(2)$ multiplication* is equivalent to the logical **AND** gate."
   ]
  },
  {
   "cell_type": "markdown",
   "id": "21ccd57250332c5b",
   "metadata": {
    "collapsed": false
   },
   "source": [
    "$GF(2)$ is classified as an algebraic field as it fulfills all the axioms defining a field in abstract algebra. Specifically, a field is a set equipped with two operations, *addition* and *multiplication*, that satisfy the following properties:\n",
    "\n",
    "1. **Closure**: The set is closed under both addition and multiplication.\n",
    "2. **Associativity**: Addition and multiplication are associative.\n",
    "3. **Commutativity**: Addition and multiplication are commutative.\n",
    "4. **Distributivity**: Multiplication distributes over addition.\n",
    "5. **Identity Elements**: There exist additive and multiplicative identities (0 and 1, respectively).\n",
    "6. **Additive Inverses**: Every element has an additive inverse.\n",
    "7. **Multiplicative Inverses**: Every non-zero element has a multiplicative inverse.\n",
    "\n",
    "Let's verify that $GF(2)$ satisfies these properties:\n",
    "\n",
    "1. **Closure**: \n",
    "   - Addition: The sum of any two elements in $GF(2)$ (0 and 1) remains in $GF(2)$ (0 + 0 = 0, 0 + 1 = 1, 1 + 0 = 1, 1 + 1 = 0).\n",
    "   - Multiplication: The product of any two elements in $GF(2)$ remains in $GF(2)$ (0 * 0 = 0, 0 * 1 = 0, 1 * 0 = 0, 1 * 1 = 1).\n",
    "\n",
    "2. **Associativity**:\n",
    "   - Addition: (a + b) + c = a + (b + c) for all a, b, c in $GF(2)$.\n",
    "   - Multiplication: (a * b) * c = a * (b * c) for all a, b, c in $GF(2)$.\n",
    "\n",
    "3. **Commutativity**:\n",
    "   - Addition: a + b = b + a for all a, b in $GF(2)$.\n",
    "   - Multiplication: a * b = b * a for all a, b in $GF(2)$.\n",
    "\n",
    "4. **Distributivity**:\n",
    "   - a * (b + c) = (a * b) + (a * c) for all a, b, c in $GF(2)$.\n",
    "\n",
    "5. **Identity Elements**:\n",
    "   - Additive identity: The element $0$ is the additive identity since adding $0$ to any element in $GF(2)$ leaves the element unchanged (a + 0 = a for all a in $GF(2))$.\n",
    "   - Multiplicative identity: The element $1$ is the multiplicative identity since multiplying $1$ by any element in $GF(2)$ leaves the element unchanged (a * 1 = a for all a in $GF(2)$).\n",
    "\n",
    "6. **Additive Inverses**:\n",
    "   - Every element is its own additive inverse. That is, for any element $a$ in $GF(2)$, $a + a = 0$.\n",
    "\n",
    "7. **Multiplicative Inverses**:\n",
    "   - The element $1$ is its own multiplicative inverse since $1 * 1 = 1$. The element $0$ has no multiplicative inverse.\n",
    "\n",
    "Since $GF(2)$ satisfies all these properties, it qualifies as a field in algebraic terms. This makes $GF(2)$ an algebraic field, and its simple structure is particularly useful in various areas of mathematics, computer science, and engineering, especially in binary logic and coding theory:"
   ]
  },
  {
   "cell_type": "markdown",
   "id": "0e00975d-28d5-478b-9887-67e1f8120134",
   "metadata": {},
   "source": [
    "1. **Coding Theory**: $GF(2)$ is extensively used in error detection and correction codes, such as CRC (Cyclic Redundancy Check) and Reed-Solomon codes.\n",
    "\n",
    "2. **Cryptography**: Many cryptographic algorithms utilize operations over $GF(2)$, particularly in the construction of linear feedback shift registers (LFSRs) and block ciphers\n",
    "\n",
    "3. **Digital Logic**: Boolean algebra, which underpins digital circuit design, is fundamentally based on operations in $GF(2)$."
   ]
  },
  {
   "cell_type": "markdown",
   "id": "7babfc6f-ad3d-408d-9a4c-15b2fbae0522",
   "metadata": {
    "panel-layout": {
     "height": 772.675,
     "visible": true,
     "width": 100
    }
   },
   "source": [
    "In summary, $GF(2)$ is a very simple yet powerful mathematical structure that underlies much of modern computing and information theory."
   ]
  },
  {
   "cell_type": "markdown",
   "id": "8692b3d2-6c49-43fe-a902-b119ea6255e1",
   "metadata": {
    "panel-layout": {
     "height": 76.5375,
     "visible": true,
     "width": 100
    }
   },
   "source": [
    "### 2.2 Extension Fields $GF(p^n)$"
   ]
  },
  {
   "cell_type": "markdown",
   "id": "56c1ca04394f76ca",
   "metadata": {
    "collapsed": false
   },
   "source": [
    "Extending the field to have more elements, such as $GF(3)$, $GF(4)$, and so on, allows for a wider range of mathematical and practical applications in various fields, including coding theory, cryptography, and error detection and correction. These larger finite fields are often referred to as Galois fields in honor of the mathematician Évariste Galois."
   ]
  },
  {
   "cell_type": "markdown",
   "id": "ffcee8244a138927",
   "metadata": {
    "collapsed": false
   },
   "source": [
    "In AES (Advanced Encryption Standard) the finite field contains $256$ elements and is denoted as $GF(2^8)$. This field was chosen because each of the field elements can be represented by one byte. For the *S-Box* and *MixColumn* transforms, AES treats every byte of the internal data path as an element of the field $GF(2^8)$ and manipulates the data by performing arithmetic in this finite field.\n",
    "\n",
    "However, if the order of a finite field is not prime, and $2^8$ is clearly not a prime, the addition and multiplication operation cannot be represented by addition and multiplication of integers modulo $2^8$. Such fields with m > 1 are called extension fields.\n",
    "\n",
    "In order to deal with extension fields we need:\n",
    "1. Different notation for field elements\n",
    "2. Different rules for performing arithmetic with the elements. \n",
    "\n",
    "We will see in the following that elements of extension fields can be represented as polynomials, and that computation in the extension field is achieved by performing a certain type of *polynomial arithmetic*."
   ]
  },
  {
   "cell_type": "markdown",
   "id": "ba41933d36a06ae4",
   "metadata": {
    "collapsed": false
   },
   "source": [
    "In extension fields $GF(2^m)$ elements are not represented as integers but as polynomials with coefficients in $GF(2)$. The polynomials have a maximum degree of $m−1$, so that there are $m$ coefficients in total for every element. In the field $GF(2^8)$, which is used in AES, each element $A \\in GF(2^8)$ is thus represented as:\n",
    "\n",
    "$$A(x) = a_7x^7 + \\dots + a_1x + a_0, \\ a_i \\in GF(2) = \\{0,1\\}$$\n",
    "\n",
    "Note that there are exactly $256 = 2^8$ such polynomials. The set of these $256$ polynomials is the finite field $GF(2^8)$. It is also important to observe that every polynomial can simply be stored in digital form as an 8-bit vector:\n",
    "\n",
    "$$A = (a_7, a_6, a_5, a_4, a_3, a_2, a_1, a_0)$$\n",
    "\n",
    "In particular, we do not have to store the factors $x^7$, $x^6$, etc. It is clear from the bit positions to which power $x^i$ each coefficient belongs."
   ]
  },
  {
   "cell_type": "markdown",
   "id": "59d29345dda69b7f",
   "metadata": {
    "collapsed": false
   },
   "source": [
    "#### Addition and Subtraction in $GF(2^m)$"
   ]
  },
  {
   "cell_type": "markdown",
   "id": "6077880b58f2bf3a",
   "metadata": {
    "collapsed": false
   },
   "source": [
    "Addition and subtraction are simply achieved by performing standard polynomial addition and subtraction: We merely add or subtract coefficients with equal powers of $x$. The coefficient additions or subtractions are done in the underlying field $GF(2)$.\n",
    "\n",
    ">Extension field addition and subtraction:\n",
    "> \n",
    "> >Let $A(x)$, $B(x) \\in GF(2^m)$. The sum of the two elements is then computed according to:\n",
    "> >$$C(x) = A(x) + B(x) = \\sum_{i=0}^{m-1}c_ix^i, \\ c_i ≡ a_i + b_i \\ mod \\ 2$$ \n",
    "\n",
    ">> and the difference is computed according to:\n",
    ">> $$C(x) = A(x) - B(x) = \\sum_{i=0}^{m-1}c_ix^i, \\ c_i ≡ a_i - b_i ≡ a_i + b_i \\ mod \\ 2$$ "
   ]
  },
  {
   "cell_type": "markdown",
   "id": "df24f13ac150deca",
   "metadata": {
    "collapsed": false
   },
   "source": [
    "Note that we perform modulo 2 addition (or subtraction) with the coefficients. Addition and subtraction modulo 2 are the same operation. Moreover, addition modulo 2 is equal to bitwise **XOR**. Let’s have a look at an example in the field $GF(2^8)$ which is used in AES:\n",
    "\n",
    ">Here is how the sum $C(x)=A(x) + B(x)$ of two elements from $GF(2^8)$ is computed:\n",
    ">$$A(x) = x^7 + x^6 + x^4 + \\     1$$\n",
    ">$$B(x) = \\     \\    x^4 + x^2 + 1$$\n",
    ">$$C(x) = x^7 + x^6 + x^2$$\n"
   ]
  },
  {
   "cell_type": "markdown",
   "id": "f8aafbd275faf49b",
   "metadata": {
    "collapsed": false
   },
   "source": [
    "Note that if we computed the difference of the two polynomials $A(x)−B(x)$ from the example above, we would get the same result as for the sum."
   ]
  },
  {
   "cell_type": "markdown",
   "id": "1cab2906c6d818b4",
   "metadata": {
    "collapsed": false
   },
   "source": [
    "#### Multiplication in $GF(2^m)$"
   ]
  },
  {
   "cell_type": "markdown",
   "id": "28cd31cfe645141a",
   "metadata": {
    "collapsed": false
   },
   "source": [
    "In a first step, two elements (represented by their polynomials) of a finite field $GF(2^m)$ are multiplied using the standard polynomial multiplication rule:\n",
    "\n",
    "$$A(x) \\cdot B(x) = (a_{m−1}x^{m−1} + \\dots + a_0) \\cdot (b_{m−1}x^{m−1} + \\dots + b_0)$$\n",
    "$$C'(x) = c'_{2m-2}x^{2m−2} + \\dots + c'_0$$\n",
    "\n",
    "where:\n",
    "\n",
    "$$c'_0 = a_0b_0 \\ mod \\ 2$$\n",
    "$$c'_1 = a_0b_0 + a_1b_1 \\ mod \\ 2$$\n",
    "$$c'_{2m-2} = a_{m-1}b_{m-1} \\ mod \\ 2$$\n",
    "\n"
   ]
  },
  {
   "cell_type": "markdown",
   "id": "d8b0551dae69ebf1",
   "metadata": {
    "collapsed": false
   },
   "source": [
    "Note that all coefficients $a_i$, $b_i$ and $c_i$ are elements of $GF(2)$, and that coefficient arithmetic is performed in $GF(2)$. In general, the product polynomial $C(x)$ will have a degree higher than $m−1$ and has to be *reduced*. \n",
    "The basic idea is an approach similar to the case of multiplication in **prime fields**: in $GF(p)$, we multiply the two integers, divide the result by a prime, and consider only the remainder. \n",
    "Here is what we are doing in **extension fields**: The product of the multiplication is divided by a certain *polynomial*, and we consider only the remainder after the polynomial division.We need **irreducible polynomials** for the *module reduction*.\n",
    "Irreducible polynomials are roughly comparable to prime numbers, i.e., their only factors are 1 and the polynomial itself."
   ]
  },
  {
   "cell_type": "markdown",
   "id": "61109b81e19fa778",
   "metadata": {
    "collapsed": false
   },
   "source": [
    "> Definition: **Extension field multiplication**\n",
    "> \n",
    ">>Let $A(x)$,$B(x)$ ∈ $GF(2^m)$ and let\n",
    ">>$$P(x) = \\sum_{i=0}^mp_ix^i, \\ p_i \\in GF(2)$$ \n",
    "\n",
    ">> be an irreducible polynomial. Multiplication of the two elements $A(x)$,$B(x)$ is performed as\n",
    ">> $$C(x) = A(x) \\cdot B(x) \\ mod \\ P(x)$$ "
   ]
  },
  {
   "cell_type": "markdown",
   "id": "a94d9af54ee0c286",
   "metadata": {
    "collapsed": false
   },
   "source": [
    "Thus, every field $GF(2^m)$ requires an irreducible polynomial $P(x)$ of degree $m$ with coefficients from $GF(2)$. Note that not all polynomials are irreducible. For example, the polynomial $x^4+x^3+x+1$ is reducible since\n",
    "\n",
    "$$x^4+x^3+x+1 = (x^2 + x + 1)(x^2 + 1)$$\n",
    "\n",
    "and hence cannot be used to construct the extension field $GF(2^4)$.\n",
    "\n",
    "For AES, the irreducible polynomial $$P(x) = x^8 + x^4 + x^3 + x + 1$$ is used. It is part of the AES specification."
   ]
  },
  {
   "cell_type": "markdown",
   "id": "c1270b2eb7c01d03",
   "metadata": {
    "collapsed": false
   },
   "source": [
    "**---------------> TODO: implement addition and multiplication in Python????**"
   ]
  },
  {
   "cell_type": "markdown",
   "id": "11e9ee9c8ca5e5e8",
   "metadata": {
    "collapsed": false
   },
   "source": [
    "#### Inversion in $GF(2^m)$"
   ]
  },
  {
   "cell_type": "markdown",
   "id": "69f4903deb4ad3ea",
   "metadata": {
    "collapsed": false
   },
   "source": [
    "Inversion in $GF(2^8)$ is the core operation of the *Byte Substitution transformation*, which contains the AES S-Boxes. For a given finite field $GF(2^m)$ and the corresponding irreducible reduction polynomial $P(x)$, the inverse $A^{−1}$ of a nonzero element $A \\in GF(2^m)$ is defined as:\n",
    "\n",
    "$$A^{−1}(x) \\cdot A(x) = 1 \\ mod \\ P(x)$$\n",
    "\n",
    "For small fields - in practice this often means fields with $2^{16}$ or fewer elements - lookup tables which contain the precomputed inverses of all field elements are often used."
   ]
  },
  {
   "cell_type": "markdown",
   "id": "d06830a2-0bd3-43d1-9a5c-7db4c9bd64e3",
   "metadata": {
    "panel-layout": {
     "height": 1201.97,
     "visible": true,
     "width": 100
    }
   },
   "source": [
    "### Properties and Practical Applications ??? TODO - rewrite or delete\n",
    "\n",
    "1. **Error Detection and Correction**:\n",
    "   - Finite fields are fundamental in coding theory. Reed-Solomon codes, for example, use extension fields ($GF(2^8)$) to encode data such that it can be transmitted over noisy channels and corrected if errors occur.\n",
    "   - BCH codes, another class of error-correcting codes, also use extension fields for constructing codes with specific properties.\n",
    "\n",
    "2. **Cryptography**:\n",
    "   - Many cryptographic algorithms rely on the arithmetic of finite fields. For instance, elliptic curve cryptography (ECC) often uses fields like $GF(2^n)$ or $GF(p)$.\n",
    "   - Fields like $GF(2^{128})$ are used for constructing secure cryptographic primitives that provide a high level of security with efficient computation.\n",
    "\n",
    "3. **Digital Communications**:\n",
    "   - Finite fields are used in modulation schemes and other aspects of digital communications to ensure that signals can be transmitted and decoded accurately.\n",
    "   - Fields like $GF(4)$ and $GF(16)$ are used in certain modulation techniques such as Quadrature Amplitude Modulation (QAM).\n",
    "\n",
    "4. **Computer Science**:\n",
    "   - Finite fields play a critical role in hash functions, error detection algorithms (e.g., CRCs), and other fundamental algorithms in computer science.\n",
    "\n",
    "### Examples of Practical Applications ??? TODO - rewrite or delete\n",
    "\n",
    "#### Reed-Solomon Codes\n",
    "\n",
    "Reed-Solomon codes are widely used in CDs, DVDs, QR codes, and data transmission. These codes work over extension fields like $GF(2^8)$. For example, a Reed-Solomon code might use $GF(256)$, where the elements are polynomials of degree less than $8$ with coefficients in $GF(2)$.\n",
    "\n",
    "#### Elliptic Curve Cryptography (ECC)\n",
    "\n",
    "ECC uses the algebraic structure of elliptic curves over finite fields. For example, the NIST P-256 curve is defined over $GF(2^{256})$. The security of ECC is based on the difficulty of the elliptic curve discrete logarithm problem, which is computationally infeasible to solve with current technology.\n",
    "\n",
    "### Conclusion\n",
    "\n",
    "Extending fields to have more elements, such as $GF(3)$, $GF(4)$, $GF(2^8)$, and so on, enables the application of advanced mathematical concepts in practical fields like error correction, cryptography, and digital communications. These larger fields provide the necessary algebraic structures to design robust, efficient, and secure systems. The ability to work in various finite fields is a powerful tool that underpins many modern technological advancements."
   ]
  },
  {
   "cell_type": "markdown",
   "id": "52ebd86cc869a961",
   "metadata": {
    "collapsed": false
   },
   "source": []
  },
  {
   "cell_type": "markdown",
   "id": "366a824dc8cf7f9c",
   "metadata": {
    "collapsed": false
   },
   "source": [
    "## 3. Symmetric vs. Asymmetric Cryptography"
   ]
  },
  {
   "cell_type": "markdown",
   "id": "26622da2e9ccb4ac",
   "metadata": {
    "collapsed": false
   },
   "source": [
    "*Asymmetric*, i.e., *public-key*, algorithms are very different from *symmetric* algorithms such as *AES(Advanced Encryption Standard)* or *DES(Data Encryption Standard)*. Most public-key algorithms are based on number-theoretic functions. This is quite different from symmetric ciphers, where the goal is usually not to have a compact mathematical description between input and output. Even though mathematical structures are often used for small blocks within symmetric ciphers, for instance, in the AES S-Box, this does not mean that the entire cipher forms a compact mathematical description."
   ]
  },
  {
   "cell_type": "markdown",
   "id": "12dd95dbf815a137",
   "metadata": {
    "collapsed": false
   },
   "source": [
    "### 3.1. Symmetric Cryptography"
   ]
  },
  {
   "cell_type": "markdown",
   "id": "746293a7a479a110",
   "metadata": {
    "collapsed": false
   },
   "source": [
    "In order to understand the principle of symmetric cryptography, let us first recall the basic symmetric encryption scheme in Fig. 3.1."
   ]
  },
  {
   "cell_type": "markdown",
   "id": "ebfe85f577584763",
   "metadata": {
    "collapsed": false
   },
   "source": [
    ">![Alt text](./data/Principle-of-symmetric-key-encryption.png)\n",
    "\n",
    ">Fig. 3.1 Principle of symmetric-key encryption"
   ]
  },
  {
   "cell_type": "markdown",
   "id": "28637695637b506",
   "metadata": {
    "collapsed": false
   },
   "source": [
    "Such a system is symmetric with respect to two properties:\n",
    "\n",
    "1. The same secret key is used for encryption and decryption.\n",
    "2. The encryption and decryption function are very similar (in the case of DES they are essentially identical)."
   ]
  },
  {
   "cell_type": "markdown",
   "id": "491245f0bc19d18f",
   "metadata": {
    "collapsed": false
   },
   "source": [
    "There is a simple analogy for symmetric cryptography, as shown in Fig. 3.2. Assume there is a safe with a strong lock. Only Alice and Bob have a copy of the key for the lock. The action of encrypting of a message can be viewed as putting the message in the safe. In order to read, i.e., decrypt, the message, Bob uses his key and opens the safe."
   ]
  },
  {
   "cell_type": "markdown",
   "id": "54437ced2f972b68",
   "metadata": {
    "collapsed": false
   },
   "source": [
    ">![Alt text](./data/Analogy-for-symmetric-encryption-a-safe-with-one-lock.png)\n",
    "\n",
    ">Fig. 3.2 Analogy for symmetric encryption a safe with one lock"
   ]
  },
  {
   "cell_type": "markdown",
   "id": "709d253f0ad0633d",
   "metadata": {
    "collapsed": false
   },
   "source": [
    "Modern symmetric algorithms such as AES or 3DES are very secure, fast and are in widespread use. However, there are several shortcomings associated with symmetric-key schemes, as discussed below.\n",
    "\n",
    "1. **Key Distribution Problem:** The key must be established between Alice and Bob using a secure channel. Remember that the communication link for the message is not secure, so sending the key over the channel directly - which would be the most convenient way of transporting it - can’t be done.\n",
    "2. **Number of Keys:** Even if we solve the key distribution problem, we must potentially deal with a very large number of keys. If each pair of users needs a separate pair of keys in a network with *n* users, there are $\\frac{n \\cdot (n - 1)}{2}$ key pairs, and every user has to store n−1 keys securely. Even for mid-size networks, say, a corporation with 2000 people, this requires more than 4 million key pairs that must be generated and transported via secure channels.\n",
    "3. **No Protection Against Cheating by Alice or Bob:** Alice and Bob have the same capabilities, since they possess the same key. As a consequence, symmetric cryptography cannot be used for applications where we would like to prevent cheating by either Alice or Bob as opposed to cheating by an outsider like Oscar. For instance, in e-commerce applications it is often important to prove that Alice actually sent a certain message, say, an online order for a flat screen TV. If we only use symmetric cryptography and Alice changes her mind later, she can always claim that Bob, the vendor, has falsely generated the electronic purchase order. Preventing this is called *nonrepudiation* and can be achieved with asymmetric cryptography. Digital signatures provide nonrepudiation."
   ]
  },
  {
   "cell_type": "markdown",
   "id": "d65028ac97d7c0a7",
   "metadata": {
    "collapsed": false
   },
   "source": [
    "#### 3.1.1. Advantages and Disadvantages\n",
    "\n",
    "**Advantages**:\n",
    "- **Speed**: Faster encryption and decryption compared to asymmetric methods.\n",
    "- **Efficiency**: Suitable for encrypting large volumes of data.\n",
    "\n",
    "**Disadvantages**:\n",
    "- **Key Distribution**: The main challenge is securely distributing and managing the secret key between parties.\n",
    "- **Scalability**: As the number of participants grows, the number of required unique keys increases exponentially."
   ]
  },
  {
   "cell_type": "markdown",
   "id": "ea610067e5bbe301",
   "metadata": {
    "collapsed": false
   },
   "source": [
    "#### 3.1.2. Common Symmetric Encryption Algorithms\n",
    "\n",
    "- **AES (Advanced Encryption Standard)**: Widely used in various applications for secure data encryption. AES supports key sizes of 128, 192, and 256 bits.\n",
    "- **DES (Data Encryption Standard)**: An older encryption standard with a 56-bit key size. It has largely been replaced by AES due to security concerns.\n",
    "- **3DES (Triple DES)**: An enhancement of DES that applies the DES algorithm three times to each data block, effectively increasing security.\n",
    "- **Blowfish**: Known for its speed and effectiveness, with a variable key length from 32 to 448 bits.\n",
    "- **RC4**: A stream cipher that is simple and fast, but with known vulnerabilities making it less secure than other algorithms.\n",
    "\n"
   ]
  },
  {
   "cell_type": "markdown",
   "id": "465bffa44e1c2883",
   "metadata": {
    "collapsed": false
   },
   "source": []
  },
  {
   "cell_type": "markdown",
   "id": "da2f560ddf3b94bc",
   "metadata": {
    "collapsed": false
   },
   "source": [
    "### 3.2. Asymmetric Cryptography"
   ]
  },
  {
   "cell_type": "markdown",
   "id": "e65bc5445fd7b044",
   "metadata": {
    "collapsed": false
   },
   "source": [
    "In order to overcome the drawbacks of the *Symmetric Cryptography*, Diffie, Hellman and Merkle had a revolutionary proposal based on the following idea: It is not necessary that the key possessed by the person who *encrypts* the message (that’s Alice in our example) is secret. The crucial part is that Bob, the receiver, can only *decrypt* using a secret key. In order to realize such a system, Bob publishes a public encryption key which is known to everyone. Bob also has a matching secret key, which is used for decryption. Thus, Bob’s key *k* consists of two parts, a public part, *kpub*, and a private one, *kpr*."
   ]
  },
  {
   "cell_type": "markdown",
   "id": "914068e531eeca0c",
   "metadata": {
    "collapsed": false
   },
   "source": [
    ">![Alt text](./data/Analogy-for-public-key-encryption.png)\n",
    "\n",
    ">Fig. 3.3 Analogy for public-key encryption: a safe with public lock for depositing a message and a secret lock for retrieving a message"
   ]
  },
  {
   "cell_type": "markdown",
   "id": "7e8a46e2cd557e79",
   "metadata": {
    "collapsed": false
   },
   "source": [
    "A simple analogy of such a system is shown in Fig. 3.3. This systems works quite similarly to the good old mailbox on the corner of a street: Everyone can put a letter in the box, i.e., *encrypt*, but only a person with a *private (secret)* key can retrieve letters, i.e., *decrypt*. If we assume we have cryptosystems with such a functionality, a basic protocol for public-key encryption looks as shown in Fig. 3.4."
   ]
  },
  {
   "cell_type": "markdown",
   "id": "ac8aa3f49b25cef7",
   "metadata": {
    "collapsed": false
   },
   "source": [
    ">![Alt text](./data/Basic-protocol-for-public-key-encryption.png)\n",
    "\n",
    ">Fig. 3.4 Basic protocol for public-key encryption"
   ]
  },
  {
   "cell_type": "markdown",
   "id": "621ea6915b2a541f",
   "metadata": {
    "collapsed": false
   },
   "source": [
    "By looking at that protocol you might argue that even though we can encrypt a message without a secret channel for key establishment, we still cannot exchange a key if we want to encrypt with, say, AES. However, the protocol can easily be modified for this use. What we have to do is to *encrypt a symmetric key*, e.g., an AES key, using the *public-key* algorithm. Once the symmetric key has been decrypted by Bob, both parties can use it to encrypt and decrypt messages using symmetric ciphers. Figure 3.5 shows a basic key transport protocol where we use AES as the symmetric cipher for illustration purposes (of course, one can use any other symmetric algorithm in such a protocol). The main advantage of the protocol in Fig. 3.5 over the protocol in Fig. 3.4 is that the payload is encrypted with a symmetric cipher, which tends to be much faster than an asymmetric algorithm."
   ]
  },
  {
   "cell_type": "markdown",
   "id": "fbb1c1c07c955de7",
   "metadata": {
    "collapsed": false
   },
   "source": [
    ">![Alt text](./data/Basic-key-transport-protocol-with-AES-as-symmetric-cipher.png)\n",
    "\n",
    ">Fig. 3.5 Basic key transport protocol with AES as an example of a symmetric cipher"
   ]
  },
  {
   "cell_type": "markdown",
   "id": "91041170573348ee",
   "metadata": {
    "collapsed": false
   },
   "source": [
    "The *public-key* algorithms are all built from one common principle, the **one-way function**. The informal definition of it is as follows:"
   ]
  },
  {
   "cell_type": "markdown",
   "id": "351335307b992264",
   "metadata": {
    "collapsed": false
   },
   "source": [
    ">Definition: **One-way function**\n",
    "\n",
    ">A function $f()$ is a one-way function if:\n",
    ">1. $y = f (x)$ *is computationally easy, and*\n",
    ">2. $x = f^{−1}(y)$ *is computationally infeasible*."
   ]
  },
  {
   "cell_type": "markdown",
   "id": "72dc4c25a5833a66",
   "metadata": {
    "collapsed": false
   },
   "source": [
    "Obviously, the adjectives “easy” and “infeasible” are not particularly exact. In mathematical terms, a function is easy to compute if it can be *evaluated in polynomial time*, i.e., its running time is a polynomial expression. In order to be useful in practical crypto schemes, the computation $y = f (x)$ should be sufficiently fast that it does not lead to unacceptably slow execution times in an application. The inverse computation $x = f^{−1}(y)$ should be so computationally intensive that it is not feasible to evaluate it in any reasonable time period, say, 10,000 years, when using the best known algorithm.\n",
    "There are two popular one-way functions which are used in practical public-key schemes:\n",
    " 1. The first is the **integer factorization problem**, on which *RSA(Rivest–Shamir–Adleman)* is based. Given two large primes, it is easy to compute the product. However, it is very difficult to factor the resulting product. In fact, if each of the primes has 150 or more decimal digits, the resulting product cannot be factored, even with thousands of PCs running for many years.\n",
    "2. The other *one-way function* that is used widely is the **discrete logarithm problem**."
   ]
  },
  {
   "cell_type": "markdown",
   "id": "37f01cd22099775d",
   "metadata": {
    "collapsed": false
   },
   "source": [
    "## 4. Example of Symmetric Encryption"
   ]
  },
  {
   "cell_type": "markdown",
   "id": "a200b880392c1d2",
   "metadata": {
    "collapsed": false
   },
   "source": [
    "### 4.1. One-Time Pad (OTP) for One-Bit Messages"
   ]
  },
  {
   "cell_type": "markdown",
   "id": "cbff90b5c438292f",
   "metadata": {
    "collapsed": false
   },
   "source": [
    "#### 4.1.1 Definition"
   ]
  },
  {
   "cell_type": "markdown",
   "id": "132bd0348a4b7b4b",
   "metadata": {
    "collapsed": false
   },
   "source": [
    "Encrypting *one-bit* messages can be done using various methods, with the simplest and most secure being the *One-Time Pad (OTP)* approach in the context of *symmetric encryption*. \n",
    "\n",
    "The One-Time Pad provides a straightforward and theoretically secure method to encrypt and decrypt *one-bit* messages using *XOR* operations. The key must be random and used only once to ensure *perfect secrecy*. This method highlights the simplicity and effectiveness of symmetric encryption for very small messages.\n",
    "\n",
    "*Perfect secrecy* is a concept in cryptography that ensures that a message encrypted with a cipher cannot be deciphered by an eavesdropper, no matter how much computational power they have, as long as certain conditions are met. This concept was formalized by Claude Shannon in 1949.\n",
    "\n",
    "*Perfect secrecy* is achieved when the ciphertext (the encrypted message) provides no additional information about the plaintext (the original message) to an eavesdropper. Mathematically, this means that the probability distribution of the plaintext remains unchanged, even after observing the ciphertext. In other words, knowing the ciphertext does not help an eavesdropper in determining what the plaintext is.\n",
    "\n",
    "**One-Time Pad for One-Bit Messages**:\n",
    "\n",
    "1. **Key Generation**: Generate a random one-bit key (either 0 or 1).\n",
    "2. **Encryption**: XOR the one-bit message with the one-bit key.\n",
    "3. **Decryption**: XOR the ciphertext with the same one-bit key to retrieve the original message.\n",
    "\n"
   ]
  },
  {
   "cell_type": "markdown",
   "id": "f318b7b494a85d59",
   "metadata": {
    "collapsed": false
   },
   "source": [
    "**Security Considerations**\n",
    "\n",
    "- **Key Length**: For perfect security, the key must be truly random and used only once (hence the name One-Time Pad).\n",
    "- **Key Distribution**: The key must be securely shared between the sender and the receiver. For one-bit messages, this is trivial, but for larger-scale communication, key distribution can be challenging.\n"
   ]
  },
  {
   "cell_type": "markdown",
   "id": "6cfe9437f21d3303",
   "metadata": {
    "collapsed": false
   },
   "source": [
    "**Implementation in Python - Encryption and Decryption Functions**"
   ]
  },
  {
   "cell_type": "code",
   "execution_count": 2,
   "id": "bf77633499d0a92a",
   "metadata": {
    "ExecuteTime": {
     "end_time": "2024-06-29T18:20:44.618067Z",
     "start_time": "2024-06-29T18:20:44.605688Z"
    },
    "collapsed": false
   },
   "outputs": [
    {
     "name": "stdout",
     "output_type": "stream",
     "text": [
      "Key: 1\n",
      "Ciphertext: 0\n",
      "Decrypted Message: 1\n"
     ]
    }
   ],
   "source": [
    "import random\n",
    "\n",
    "def generate_one_bit_key():\n",
    "    \"\"\"Generate a random one-bit key (0 or 1).\"\"\"\n",
    "    return random.randint(0, 1)\n",
    "\n",
    "def encrypt_one_bit_message(message, key):\n",
    "    \"\"\"Encrypt a one-bit message using the one-time pad.\"\"\"\n",
    "    return message ^ key\n",
    "\n",
    "def decrypt_one_bit_message(ciphertext, key):\n",
    "    \"\"\"Decrypt a one-bit message using the one-time pad.\"\"\"\n",
    "    return ciphertext ^ key\n",
    "\n",
    "# Example usage\n",
    "\n",
    "# One-bit message (0 or 1)\n",
    "message = 1  # Let's assume the message is '1'\n",
    "key = generate_one_bit_key()\n",
    "print(f\"Key: {key}\")\n",
    "\n",
    "# Encryption\n",
    "ciphertext = encrypt_one_bit_message(message, key)\n",
    "print(f\"Ciphertext: {ciphertext}\")\n",
    "\n",
    "# Decryption\n",
    "decrypted_message = decrypt_one_bit_message(ciphertext, key)\n",
    "print(f\"Decrypted Message: {decrypted_message}\")\n",
    "\n",
    "# Verify correctness\n",
    "assert message == decrypted_message, \"Decryption failed!\""
   ]
  },
  {
   "cell_type": "markdown",
   "id": "773f470d13e0e614",
   "metadata": {
    "collapsed": false
   },
   "source": [
    "**Explanation of the Example*:*\n",
    "\n",
    "1. **Key Generation**:\n",
    "   - The `generate_one_bit_key` function generates a random one-bit key (either 0 or 1).\n",
    "\n",
    "2. **Encryption**:\n",
    "   - The `encrypt_one_bit_message` function takes a one-bit message and a one-bit key and XORs them to produce the ciphertext.\n",
    "\n",
    "3. **Decryption**:\n",
    "   - The `decrypt_one_bit_message` function takes the ciphertext and the same one-bit key and XORs them to retrieve the original message.\n",
    "\n"
   ]
  },
  {
   "cell_type": "markdown",
   "id": "6efd280024b95ae2",
   "metadata": {
    "collapsed": false
   },
   "source": [
    "#### 4.1.1 Extension one-bit encryption system to many bits"
   ]
  },
  {
   "cell_type": "markdown",
   "id": "63ecd1a42aee9140",
   "metadata": {
    "collapsed": false
   },
   "source": [
    "To extend the one-bit encryption system to many bits, you can use the same principles of the One-Time Pad (OTP) applied to a longer sequence of bits. The OTP is a symmetric encryption method that can be scaled to any length of message, provided that the key is of equal length to the message, truly random, and used only once. Here’s how you can implement it for multi-bit messages:\n",
    "\n",
    "**One-Time Pad for Multi-Bit Messages**\n",
    "1. **Key Generation**: Generate a key that is truly random and as long as the message.\n",
    "2. **Encryption**: XOR each bit of the plaintext message with the corresponding bit of the key.\n",
    "3. **Decryption**: XOR each bit of the ciphertext with the corresponding bit of the same key to retrieve the original plaintext.\n",
    "\n",
    "\n",
    "**Key Characteristics of One-Time Pad**\n",
    "\n",
    "1. **Key Length**: The key must be as long as the message. This ensures that each bit or character of the plaintext has a corresponding bit or character in the key.\n",
    "2. **Randomness**: The key must be truly random. Pseudorandom keys can potentially be predicted, compromising security.\n",
    "3. **Key Usage**: The key must be used only once. Reusing the key for different messages destroys the security and makes the encryption vulnerable to cryptanalysis.\n",
    "4. **Secrecy**: The key must be kept completely secret between the sender and the receiver. If an adversary gains access to the key, the security is compromised.\n",
    "\n"
   ]
  },
  {
   "cell_type": "markdown",
   "id": "fdf4d60eaa2c7a4b",
   "metadata": {
    "collapsed": false
   },
   "source": [
    "**Mathematical Representation**\n",
    "\n",
    "If $P$ is the plaintext, $K$ is the key, and $C$ is the ciphertext, the encryption and decryption can be represented as:\n",
    "- Encryption: $C = P \\oplus K$\n",
    "- Decryption: $P = C \\oplus K$\n",
    "\n",
    "Where $\\oplus$ denotes the XOR operation.\n",
    "\n",
    "**Example**\n",
    "\n",
    "Let's consider a simple example with binary messages:\n",
    "To encrypt:\n",
    "1. **Plaintext (P)**: `1101`\n",
    "2. **Key (K)**: `1010`\n",
    "3. **Ciphertext $C = P \\oplus K$**:\n",
    "   - `1101` XOR `1010` = `0111`\n",
    "\n",
    "To decrypt:\n",
    "- **Plaintext $P = C \\oplus K$**:\n",
    "   - `0111` XOR `1010` = `1101`"
   ]
  },
  {
   "cell_type": "markdown",
   "id": "a3418cf7ddc609a1",
   "metadata": {
    "collapsed": false
   },
   "source": [
    "**Advantages**:\n",
    "- **Perfect Secrecy**: If used correctly, the OTP provides perfect secrecy, meaning the ciphertext gives no information about the plaintext without the key.\n",
    "- **Simplicity**: The algorithm is simple to understand and implement.\n",
    "\n",
    "**Disadvantages**:\n",
    "- **Key Management**: Generating, distributing, and securely storing the key are significant challenges, especially for long messages.\n",
    "- **Practicality**: The requirement for the key to be as long as the message makes it impractical for many applications, especially for large-scale communication."
   ]
  },
  {
   "cell_type": "markdown",
   "id": "8320b26603beef9a",
   "metadata": {
    "collapsed": false
   },
   "source": [
    "**Conclusion**\n",
    "\n",
    "By applying the XOR operation to each bit of a multi-bit message with a corresponding bit of a randomly generated key of the same length, you can extend the one-bit encryption system to many bits. This implementation maintains the properties of the One-Time Pad, ensuring perfect secrecy as long as the key is truly random, of equal length to the message, and used only once.\n",
    "The One-Time Pad is a theoretically unbreakable encryption method if all its conditions are met. However, the practical difficulties in key management and distribution limit its use to special scenarios where the utmost security is required and key management is feasible, such as secure diplomatic communications or espionage."
   ]
  },
  {
   "cell_type": "markdown",
   "id": "da1164f236b6cd94",
   "metadata": {
    "collapsed": false
   },
   "source": [
    "##### 4.1.1.1. Implementation in Python: Key Generation, Encryption and Decryption Functions"
   ]
  },
  {
   "cell_type": "code",
   "execution_count": 3,
   "id": "246381d8fe5e7727",
   "metadata": {
    "ExecuteTime": {
     "end_time": "2024-06-29T18:20:44.672555Z",
     "start_time": "2024-06-29T18:20:44.666664Z"
    },
    "collapsed": false
   },
   "outputs": [
    {
     "name": "stdout",
     "output_type": "stream",
     "text": [
      "Ciphertext: b'\\xe3\\n5\\x10\\xb2\\x06\\xdb\\xd7\\xb3\\x1ae'\n",
      "Decrypted Message: b'HELLO WORLD'\n"
     ]
    }
   ],
   "source": [
    "import os\n",
    "\n",
    "def generate_key(length):\n",
    "    \"\"\"Generate a random key of specified length in bytes.\"\"\"\n",
    "    return os.urandom(length)\n",
    "\n",
    "def xor_bytes(a, b):\n",
    "    \"\"\"XOR two byte strings of the same length.\"\"\"\n",
    "    return bytes(x ^ y for x, y in zip(a, b))\n",
    "\n",
    "def encrypt(message, key):\n",
    "    \"\"\"Encrypt the message with the key using XOR.\"\"\"\n",
    "    return xor_bytes(message, key)\n",
    "\n",
    "def decrypt(ciphertext, key):\n",
    "    \"\"\"Decrypt the ciphertext with the key using XOR.\"\"\"\n",
    "    return xor_bytes(ciphertext, key)\n",
    "\n",
    "# Example usage\n",
    "\n",
    "# Multi-bit message (byte string)\n",
    "message = b'HELLO WORLD'\n",
    "key = generate_key(len(message))\n",
    "\n",
    "# Encryption\n",
    "ciphertext = encrypt(message, key)\n",
    "print(\"Ciphertext:\", ciphertext)\n",
    "\n",
    "# Decryption\n",
    "decrypted_message = decrypt(ciphertext, key)\n",
    "print(\"Decrypted Message:\", decrypted_message)\n",
    "\n",
    "# Verify correctness\n",
    "assert message == decrypted_message, \"Decryption failed!\""
   ]
  },
  {
   "cell_type": "markdown",
   "id": "3b8dc0a7f371a2e3",
   "metadata": {
    "collapsed": false
   },
   "source": [
    "**Explanation of the Example**\n",
    "\n",
    "1. **Key Generation**:\n",
    "   - The `generate_key` function generates a random key of the specified length (in bytes). The length of the key should be the same as the length of the message.\n",
    "\n",
    "2. **Encryption**:\n",
    "   - The `encrypt` function takes a multi-bit message and a key, both as byte strings, and XORs them to produce the ciphertext.\n",
    "\n",
    "3. **Decryption**:\n",
    "   - The `decrypt` function takes the ciphertext and the same key, both as byte strings, and XORs them to retrieve the original message."
   ]
  },
  {
   "cell_type": "markdown",
   "id": "83fdea109d93d318",
   "metadata": {
    "collapsed": false
   },
   "source": [
    "##### 4.1.1.2. Test Cases"
   ]
  },
  {
   "cell_type": "code",
   "execution_count": 4,
   "id": "54f94ab881eb49a4",
   "metadata": {
    "ExecuteTime": {
     "end_time": "2024-06-29T18:20:44.733411Z",
     "start_time": "2024-06-29T18:20:44.726693Z"
    },
    "collapsed": false
   },
   "outputs": [
    {
     "name": "stdout",
     "output_type": "stream",
     "text": [
      "Ciphertext: b'f68\\x00\\x10\\xa9`;\\xa3\\xf1\\x8a'\n",
      "Decrypted Message: b'HELLO WORLD'\n"
     ]
    }
   ],
   "source": [
    "# Test Case 1: Basic Message\n",
    "\n",
    "message = b'HELLO WORLD'\n",
    "key = generate_key(len(message))\n",
    "\n",
    "# Encryption\n",
    "ciphertext = encrypt(message, key)\n",
    "print(\"Ciphertext:\", ciphertext)\n",
    "\n",
    "# Decryption\n",
    "decrypted_message = decrypt(ciphertext, key)\n",
    "print(\"Decrypted Message:\", decrypted_message)\n",
    "assert message == decrypted_message, \"Decryption failed!\""
   ]
  },
  {
   "cell_type": "code",
   "execution_count": 5,
   "id": "f48b2092accdd2b4",
   "metadata": {
    "ExecuteTime": {
     "end_time": "2024-06-29T18:20:44.811037Z",
     "start_time": "2024-06-29T18:20:44.806532Z"
    },
    "collapsed": false
   },
   "outputs": [
    {
     "name": "stdout",
     "output_type": "stream",
     "text": [
      "Ciphertext: b'F\\xeb\\xad\\x08\\x1a\\xc9m\\xcc\\xfd\\x9e5\\x97'\n",
      "Decrypted Message: b'CRYPTOGRAPHY'\n"
     ]
    }
   ],
   "source": [
    "# Test Case 2: Different Message\n",
    "\n",
    "message = b'CRYPTOGRAPHY'\n",
    "key = generate_key(len(message))\n",
    "\n",
    "# Encryption\n",
    "ciphertext = encrypt(message, key)\n",
    "print(\"Ciphertext:\", ciphertext)\n",
    "\n",
    "# Decryption\n",
    "decrypted_message = decrypt(ciphertext, key)\n",
    "print(\"Decrypted Message:\", decrypted_message)\n",
    "assert message == decrypted_message, \"Decryption failed!\""
   ]
  },
  {
   "cell_type": "code",
   "execution_count": 6,
   "id": "a1634473ef0af663",
   "metadata": {
    "ExecuteTime": {
     "end_time": "2024-06-29T18:20:44.844557Z",
     "start_time": "2024-06-29T18:20:44.839124Z"
    },
    "collapsed": false
   },
   "outputs": [
    {
     "name": "stdout",
     "output_type": "stream",
     "text": [
      "Ciphertext: b''\n",
      "Decrypted Message: b''\n"
     ]
    }
   ],
   "source": [
    "# Test Case 3: Empty Message\n",
    "\n",
    "message = b''\n",
    "key = generate_key(len(message))\n",
    "\n",
    "# Encryption\n",
    "ciphertext = encrypt(message, key)\n",
    "print(\"Ciphertext:\", ciphertext)\n",
    "\n",
    "# Decryption\n",
    "decrypted_message = decrypt(ciphertext, key)\n",
    "print(\"Decrypted Message:\", decrypted_message)\n",
    "assert message == decrypted_message, \"Decryption failed!\""
   ]
  },
  {
   "cell_type": "markdown",
   "id": "e0a2c26ec2e38be",
   "metadata": {
    "collapsed": false
   },
   "source": []
  },
  {
   "cell_type": "markdown",
   "id": "4bf02ebbc521f1dd",
   "metadata": {
    "collapsed": false
   },
   "source": [
    "### 4.2. AES (Advanced Encryption Standard) in Python"
   ]
  },
  {
   "cell_type": "markdown",
   "id": "b75d8b9b61192b6a",
   "metadata": {
    "collapsed": false
   },
   "source": [
    "**TODO: Add some theory on AES from book**"
   ]
  },
  {
   "cell_type": "markdown",
   "id": "9b320248266b88fb",
   "metadata": {
    "collapsed": false
   },
   "source": [
    "Here's a simple example of using the AES algorithm from the **pycryptodome** library in Python."
   ]
  },
  {
   "cell_type": "code",
   "execution_count": 19,
   "id": "c219844436e3b3c0",
   "metadata": {
    "ExecuteTime": {
     "end_time": "2024-06-29T18:22:45.413628Z",
     "start_time": "2024-06-29T18:22:45.404507Z"
    },
    "collapsed": false
   },
   "outputs": [
    {
     "name": "stdout",
     "output_type": "stream",
     "text": [
      "Ciphertext: b\"\\x80\\xf5]\\xb4N\\r\\xd2v\\xb9\\xabB\\n\\xf6\\xfc\\x971\\x06\\xc9\\xa9\\xee\\x9c'\\xe9R:\\x19n\\x0b\\x9c@/6\"\n",
      "Decrypted Message: b'Secret Message'\n"
     ]
    }
   ],
   "source": [
    "# In order to run this code you have to install 'pycryptodome' locally:\n",
    "# - https://github.com/conda-forge/pycryptodome-feedstock\n",
    "#\n",
    "# 1. conda config --add channels conda-forge\n",
    "# 2. conda config --set channel_priority strict\n",
    "# 3. conda install pycryptodome\n",
    "\n",
    "from Crypto.Cipher import AES\n",
    "from Crypto.Random import get_random_bytes\n",
    "\n",
    "def pad(data):\n",
    "    \"\"\"Pad data to be a multiple of AES block size (16 bytes).\"\"\"\n",
    "    padding_length = AES.block_size - len(data) % AES.block_size\n",
    "    return data + bytes([padding_length]) * padding_length\n",
    "\n",
    "def unpad(data):\n",
    "    \"\"\"Remove padding from data.\"\"\"\n",
    "    return data[:-data[-1]]\n",
    "\n",
    "def encrypt(plaintext, key):\n",
    "    \"\"\"Encrypt plaintext using AES.\"\"\"\n",
    "    cipher = AES.new(key, AES.MODE_CBC)\n",
    "    ciphertext = cipher.iv + cipher.encrypt(pad(plaintext))\n",
    "    return ciphertext\n",
    "\n",
    "def decrypt(ciphertext, key):\n",
    "    \"\"\"Decrypt ciphertext using AES.\"\"\"\n",
    "    iv = ciphertext[:AES.block_size]\n",
    "    cipher = AES.new(key, AES.MODE_CBC, iv)\n",
    "    plaintext = unpad(cipher.decrypt(ciphertext[AES.block_size:]))\n",
    "    return plaintext\n",
    "\n",
    "# Example usage\n",
    "key = get_random_bytes(16)  # AES key must be 16, 24, or 32 bytes long\n",
    "plaintext = b\"Secret Message\"\n",
    "ciphertext = encrypt(plaintext, key)\n",
    "print(\"Ciphertext:\", ciphertext)\n",
    "\n",
    "decrypted_message = decrypt(ciphertext, key)\n",
    "print(\"Decrypted Message:\", decrypted_message)\n",
    "\n",
    "# Verify correctness\n",
    "assert plaintext == decrypted_message, \"Decryption failed!\""
   ]
  },
  {
   "cell_type": "markdown",
   "id": "3b53c815992ded6c",
   "metadata": {
    "collapsed": false
   },
   "source": []
  },
  {
   "cell_type": "markdown",
   "id": "820ca00d-b373-47a5-86d1-763770d203dd",
   "metadata": {
    "panel-layout": {
     "height": 1609.91,
     "visible": true,
     "width": 100
    }
   },
   "source": [
    "## 5. Applications of encryption over GF(2)"
   ]
  },
  {
   "cell_type": "markdown",
   "id": "c4abd0f558ff098c",
   "metadata": {
    "collapsed": false
   },
   "source": [
    "Encryption over  $GF(2)$ (Galois Field of two elements) is widely used in various enterprise-grade applications, especially due to its alignment with binary systems, which are fundamental to digital computers. Here are some notable applications:\n",
    "\n",
    "### 5.1. **Error Correction Codes**\n",
    "- **Reed-Solomon Codes**: Used in data storage systems like CDs, DVDs, and Blu-ray discs, as well as in data transmission technologies such as satellite communications and QR codes. Reed-Solomon codes are based on $GF(2^m)$, which is an extension of $GF(2)$.\n",
    "- **Hamming Codes**: Employed in computer memory (RAM) to detect and correct errors. Hamming codes work directly with binary data and use $GF(2)$ arithmetic.\n",
    "\n",
    "### 5.2. **Cryptographic Algorithms**\n",
    "- **AES (Advanced Encryption Standard)**: While AES operates over $GF(2^8)$, it heavily relies on finite field arithmetic, including operations in $GF(2)$. The S-box, a fundamental component of AES, is constructed using the inverse in $GF(2^8)$.\n",
    "- **Stream Ciphers**: Algorithms like A5/1 used in GSM mobile communication use linear feedback shift registers (LFSRs) which are based on $GF(2)$ arithmetic.\n",
    "\n",
    "### 5.3. **Hash Functions**\n",
    "- **SHA (Secure Hash Algorithm)**: Although SHA functions do not directly operate over $GF(2)$, they use binary operations extensively, which can be considered as operations in $GF(2)$. This is particularly true for bitwise operations like AND, OR, XOR, and bitwise rotations.\n",
    "\n",
    "### 5.4. **Digital Signatures and Authentication**\n",
    "- **Elliptic Curve Cryptography (ECC)**: ECC relies on the arithmetic of elliptic curves over finite fields, including $GF(2^m)$. This is particularly used in secure communications for mobile devices and SSL/TLS for web security.\n",
    "- **HMAC (Hash-based Message Authentication Code)**: Used in various security protocols, such as SSL/TLS, IPsec, and others, to verify data integrity and authenticity.\n",
    "\n",
    "### 5.5. **Data Compression**\n",
    "- **LZ77 and LZ78 Algorithms**: These algorithms are the basis for many data compression techniques, including gzip and PNG file formats. While not directly operating over $GF(2)$, these algorithms benefit from binary arithmetic and bitwise operations.\n",
    "\n",
    "### 5.6. **Network Security**\n",
    "- **VPNs (Virtual Private Networks)**: Use encryption algorithms like AES which rely on $GF(2^8)$ arithmetic for securing data transmission over the internet.\n",
    "- **SSL/TLS**: Secure Socket Layer and Transport Layer Security protocols use cryptographic algorithms that operate over finite fields, including $GF(2^m)$.\n",
    "\n",
    "### 5.7. **Secure Storage**\n",
    "- **Disk Encryption**: Tools like BitLocker and FileVault use AES for encrypting data stored on hard drives and SSDs. These systems rely on the underlying finite field arithmetic for their cryptographic operations.\n",
    "\n",
    "### 5.8. **Blockchain and Cryptocurrencies**\n",
    "- **Bitcoin and Other Cryptocurrencies**: Use ECC over $GF(2^m)$ for secure key generation and transaction validation.\n",
    "- **Blockchain Technologies**: Employ various cryptographic techniques that use finite field arithmetic to ensure the integrity and security of the ledger.\n",
    "\n",
    "These applications highlight the pervasive use of $GF(2)$ arithmetic in modern cryptographic and error-correction systems, ensuring data security, integrity, and efficiency across a wide range of enterprise-grade technologies."
   ]
  },
  {
   "cell_type": "markdown",
   "id": "95e814a5-532f-47af-9bcb-c382194d50cf",
   "metadata": {
    "panel-layout": {
     "height": 44.0875,
     "visible": true,
     "width": 100
    }
   },
   "source": [
    "## References"
   ]
  },
  {
   "cell_type": "markdown",
   "id": "d17bcc8c-4ef5-44de-8a3d-10b5736e4df8",
   "metadata": {
    "panel-layout": {
     "height": 68.275,
     "visible": true,
     "width": 100
    }
   },
   "source": [
    "[1] Paar, C., & Pelzl, J. (2011). *Understanding cryptography: A Textbook for Students and Practitioners*. Springer. ISBN 978-3-642-04100-6"
   ]
  },
  {
   "cell_type": "markdown",
   "id": "5c698d7c-a6c3-451d-beb3-299a5359a081",
   "metadata": {
    "ExecuteTime": {
     "end_time": "2024-06-23T18:53:16.258109Z",
     "start_time": "2024-06-23T18:53:16.254524Z"
    }
   },
   "source": [
    "[2] The very basics of groups, rings, and fields. In Math 152, Spring 2006. https://www-users.cse.umn.edu/~brubaker/docs/152/152groups.pdf"
   ]
  },
  {
   "cell_type": "markdown",
   "id": "d4e99951-faef-4d36-bf06-c6fe16575aee",
   "metadata": {},
   "source": [
    "[3] Dworkin, M. & National Institute of Standards and Technology. (2007). Recommendation for block cipher modes of operation: Galois/Counter Mode (GCM) and GMAC. In NIST Special Publication 800-38D. https://nvlpubs.nist.gov/nistpubs/legacy/sp/nistspecialpublication800-38d.pdf"
   ]
  },
  {
   "cell_type": "markdown",
   "id": "321a4d61c7f43b43",
   "metadata": {
    "collapsed": false
   },
   "source": []
  },
  {
   "cell_type": "markdown",
   "id": "91d0ba71a8f6103b",
   "metadata": {
    "collapsed": false
   },
   "source": []
  }
 ],
 "metadata": {
  "kernelspec": {
   "display_name": "Python 3 (ipykernel)",
   "language": "python",
   "name": "python3"
  },
  "language_info": {
   "codemirror_mode": {
    "name": "ipython",
    "version": 3
   },
   "file_extension": ".py",
   "mimetype": "text/x-python",
   "name": "python",
   "nbconvert_exporter": "python",
   "pygments_lexer": "ipython3",
   "version": "3.11.7"
  },
  "panel-cell-order": [
   "19179598-ff13-4afd-874c-a115f29ba95a",
   "903786ba-770a-4a97-9605-5e4957dbd0c5",
   "5af14256-15da-4bad-99b3-d029a2d0109c",
   "184e514d-59d8-494b-893b-23430b06a450",
   "07b6cc5f-634f-4f17-977d-77b4409d2ac7",
   "22ce8b47-c277-4dfa-ad45-06908b93806f",
   "ac7521f4-5924-4077-b2d7-c635352e5013",
   "5095415a-b929-41f2-9011-5d422f15979d",
   "604bf26c89b61b50",
   "5ebb8339-c1b4-4c57-8f25-e41627cb3030",
   "ac1408fa-b4b7-47da-888d-54a225b8c4bf",
   "7babfc6f-ad3d-408d-9a4c-15b2fbae0522",
   "830fb21f-af8c-4216-b54d-0ca7560c7e99",
   "f2432b0e-1340-4f60-afab-00b574aa1696",
   "8692b3d2-6c49-43fe-a902-b119ea6255e1",
   "d06830a2-0bd3-43d1-9a5c-7db4c9bd64e3",
   "3aa0e2d4-b656-43ad-98d4-3474b48295d1",
   "eb3d7573-363d-4d17-8b84-8a591e3ba961",
   "ab525aa4-a76d-45b9-ad16-7f617f1a7410",
   "4cbe7a23-2b06-47ff-a511-33412ea5b765",
   "768093d2-ba58-46bc-8cda-d0d75e3fa4f1",
   "5d6c0d52-c93b-4d2c-b6a3-36cbfaf47eaf",
   "f1e6fa14-8e2d-47ae-8a66-3296c883d21a",
   "ba56bb11-8caa-4698-90c9-4a88cab07996",
   "4f48c1ad-35dd-4b04-9a1a-6a5efc556691",
   "1f913385-f0e9-41d2-9303-c65e1e21a276",
   "4fafc724-1765-4ddb-96ad-c12c7417dc08",
   "67e9083a-49ac-4f34-9644-884e532d1e18",
   "2b38a80e-9f71-48a8-8bf4-cf7bd91dc1d7",
   "ac15bd64-0dab-44c9-8dea-ee539c50bb7c",
   "820ca00d-b373-47a5-86d1-763770d203dd",
   "5f4e6519-82c0-4066-9f16-a19bd4143039",
   "cd9abda6-f533-4bf3-964e-f694e97bf5e0",
   "0f6b85c9-ddea-4b31-86ef-58a56ce868d9",
   "9a35f1a3-c0bb-4d42-ab81-cd349498a797",
   "ad3c2dc1-e194-4185-b83b-5621b49e90be",
   "b248ea39-6eac-4f45-9f56-1dcfcbf93d9a",
   "a45b6472-af4d-4963-a417-bf2aa958c680",
   "5dbe851d-2d14-4c5f-b4b8-098b9f2ee58a",
   "3adbfe0a-c7f9-4930-b43d-12dbf1576558",
   "966817ff-96b8-42e1-9c83-3a34b49db006",
   "95e814a5-532f-47af-9bcb-c382194d50cf",
   "d17bcc8c-4ef5-44de-8a3d-10b5736e4df8"
  ]
 },
 "nbformat": 4,
 "nbformat_minor": 5
}
