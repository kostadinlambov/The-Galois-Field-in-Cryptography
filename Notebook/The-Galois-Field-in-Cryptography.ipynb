{
 "cells": [
  {
   "cell_type": "code",
   "execution_count": 8,
   "id": "a42d5ced-560a-431f-b0a1-3b8ea1313d66",
   "metadata": {
    "ExecuteTime": {
     "end_time": "2024-06-25T17:09:24.674112Z",
     "start_time": "2024-06-25T17:09:24.669593Z"
    }
   },
   "outputs": [],
   "source": [
    "# imports"
   ]
  },
  {
   "cell_type": "markdown",
   "id": "19179598-ff13-4afd-874c-a115f29ba95a",
   "metadata": {
    "panel-layout": {
     "height": 60.5938,
     "visible": true,
     "width": 100
    }
   },
   "source": [
    "# The-Galois-Field-in-Cryptography"
   ]
  },
  {
   "cell_type": "markdown",
   "id": "903786ba-770a-4a97-9605-5e4957dbd0c5",
   "metadata": {
    "panel-layout": {
     "height": 468.294,
     "visible": true,
     "width": 100
    }
   },
   "source": [
    "## The Galois Field in Cryptography\n",
    "Research about the uses of the Galois field. What are its properties? How can it be used in cryptography? Write a simple cryptosystem based on the field. Research production-grade systems based on the Galois field.\n",
    "\n",
    "You can use the following questions to facilitate your research:\n",
    "* What is a field?\n",
    "* What is GF(2)? Why is it an algebraic field?\n",
    "* How and why do we extend the field to have more elements, like GF(3), GF(4), etc.? Do they have any practical applications?\n",
    "* What is perfect secrecy? How does it relate to the participants in the conversation, and to the outside eavesdropper?\n",
    "    * https://www.youtube.com/watch?v=ColSUxhpn6A\n",
    "* What is symmetrical encryption?\n",
    "* How to encrypt one-bit messages?\n",
    "* How to extend the one-bit encryption system to many buts?\n",
    "* Why is the system decryptable? How do the participants decrypt the encrypted messages?\n",
    "* Why isn't the eavesdropper able to decrypt?\n",
    "* What is a one-time pad?\n",
    "    * How does the one-time pad achieve perfect secrecy?\n",
    "* What happens if we try to use a one-time pad many times?\n",
    "    * Provide an example where you break the \"many-time pad\" security\n",
    "* What are some current enterprise-grade applications of encryption over GF(2)?\n",
    "* Implement a cryptosystem based on GF(2). Show correctness on various test cases"
   ]
  },
  {
   "cell_type": "code",
   "execution_count": 8,
   "id": "5f80f07d-0002-4f76-b16c-e46b7e6d959d",
   "metadata": {
    "ExecuteTime": {
     "end_time": "2024-06-25T17:09:24.935066Z",
     "start_time": "2024-06-25T17:09:24.931093Z"
    }
   },
   "outputs": [],
   "source": []
  },
  {
   "cell_type": "markdown",
   "id": "b728c4b3-d913-4e71-9c4c-597fb5fe3e84",
   "metadata": {},
   "source": [
    "## Group, Ring and Field"
   ]
  },
  {
   "cell_type": "markdown",
   "id": "cd32f35e-fb27-45f2-a9bc-7e224ca84662",
   "metadata": {},
   "source": [
    "In mathematics, the concepts of group, ring, and field are fundamental structures in abstract algebra. They provide a framework for understanding and working with algebraic systems."
   ]
  },
  {
   "cell_type": "markdown",
   "id": "ac8a4d8d-3eee-403f-bf3b-f9fae8e7cdee",
   "metadata": {},
   "source": [
    "### Group\n",
    "\n",
    "A *group* is a set equipped with a single binary operation $\\circ$ that satisfies four fundamental properties:\n",
    "\n",
    "1. **Closure**: For any two elements $a$ and $b$ in the set $G$, the result of the operation $a \\circ b$ is also in $G$.\n",
    "2. **Associativity**: For any three elements $a$, $b$, and $c$ in $G$, $(a \\circ b) \\circ c = a \\circ (b \\circ c)$.\n",
    "3. **Identity Element**: There exists an element $e$ in $G$ such that for every element $a$ in $G$, $e \\circ a = a \\circ e = a$.\n",
    "4. **Inverse Element**: For every element $a$ in $G$, there exists an element $b$ in $G$ such that $a \\circ b = b \\circ a = e$, where $e$ is the identity element.\n",
    "\n",
    "A group G is *abelian* (or commutative) if $a \\circ b = b \\circ a \\ \\forall \\ a,b \\in G$.\n",
    "\n",
    "Roughly speaking, a group is set with one operation and the corresponding inverse operation. If the operation is called *addition*, the inverse operation is *subtraction*; if the operation is *multiplication*, the inverse operation is *division* (or multiplication with the inverse element)[1].\n",
    "\n",
    "**Examples of Groups:**\n",
    "1. The set of integers $\\mathbb{Z}$ with the operation of *addition* forms a group. The identity element is 0, and the inverse of any integer $a$ is $-a$.\n"
   ]
  },
  {
   "cell_type": "markdown",
   "id": "760f1c46-701b-4834-b588-fe1c792304e0",
   "metadata": {},
   "source": [
    "2. The set of integers $\\mathbb{Z_m}$ = {0,1, . . . ,m−1} and the operation *addition modulo m* form a group with the neutral element 0. Every element $a$ has an inverse $-a$ such that $a+(−a) = 0 \\ mod \\ m$. Note that this set does not form a group with the operation *multiplication* because most elements $a$ do not have an inverse such that $a \\cdot a^{-1} = 1 \\ mod \\ m$ [1]."
   ]
  },
  {
   "cell_type": "markdown",
   "id": "637070c2-f641-427e-a25f-6175043333fc",
   "metadata": {},
   "source": [
    "### Ring\n",
    "\n",
    "A *ring* is a set equipped with two binary operations, usually called *addition* and *multiplication*, satisfying the following properties:\n",
    "\n",
    "1. **Addition forms an abelian group**:\n",
    "   - **Closure**: For any $a, b \\in R$, $a + b$ $\\in$ $R$.\n",
    "   - **Associativity**: For any $a, b, c \\in R$, $(a + b) + c = a + (b + c)$.\n",
    "   - **Identity Element**: There exists an element $0 \\in R$ such that $a + 0 = a$ for all $a \\in R$.\n",
    "   - **Inverse Element**: For every $a \\in R$, there exists $-a \\in R$ such that $a + (-a) = 0$.\n",
    "   - **Commutativity**: For any $a, b \\in R$, $a + b = b + a$.\n",
    "\n",
    "2. **Multiplication is associative**:\n",
    "   - **Closure**: For any $a, b \\in R$, $a \\cdot b \\in R$.\n",
    "   - **Associativity**: For any $a, b, c \\in R$, $(a \\cdot b) \\cdot c = a \\cdot (b \\cdot c)$.\n",
    "\n",
    "3. **Distributivity**:\n",
    "   - For any $a, b, c \\in R$, $a \\cdot (b + c) = (a \\cdot b) + (a \\cdot c)$ and $(a + b) \\cdot c = (a \\cdot c) + (b \\cdot c)$.\n",
    "\n",
    "**Example**: The set of integers $\\mathbb{Z}$ with the usual addition and multiplication forms a ring."
   ]
  },
  {
   "cell_type": "markdown",
   "id": "953cd563-ad37-4813-bf80-60a68f864d80",
   "metadata": {},
   "source": [
    "### Field\n",
    "\n",
    "In order to have all four basic arithmetic operations (i.e., addition, subtraction, multiplication, division) in one structure, we need a set which contains an additive and a multiplicative group[1].\n",
    "\n",
    "A *field* is a set equipped with two binary operations (*addition* and *multiplication*) satisfying the following properties:\n",
    "\n",
    "1. **Addition forms an abelian group** (same as in a ring):\n",
    "   - **Closure**: For any $a, b \\in F$, $a + b \\in F$.\n",
    "   - **Associativity**: For any $a, b, c \\in F$, $(a + b) + c = a + (b + c)$.\n",
    "   - **Identity Element**: There exists an element $0 \\in F$ such that $a + 0 = a \\ \\forall \\ a \\in F$.\n",
    "   - **Inverse Element**: For every $a \\in F$, there exists $-a \\in F$ such that $a + (-a) = 0$.\n",
    "   - **Commutativity**: For any $a, b \\in F$, $a + b = b + a$.\n",
    "\n",
    "2. **Multiplication forms an abelian group over non-zero elements**:\n",
    "   - **Closure**: For any $a, b \\in F$, $a \\cdot b \\in F$.\n",
    "   - **Associativity**: For any $a, b, c \\in F$, $(a \\cdot b) \\cdot c = a \\cdot (b \\cdot c)$.\n",
    "   - **Identity Element**: There exists an element $1 \\in F$ such that $a \\cdot 1 = a$ for all $a \\in F$.\n",
    "   - **Inverse Element**: For every $a \\in F$, $a \\ne 0$, there exists $a^{-1} \\in F$ such that $a \\cdot a^{-1} = 1$.\n",
    "   - **Commutativity**: For any $a, b \\in F$, $a \\cdot b = b \\cdot a$.\n",
    "\n",
    "3. **Distributivity**:\n",
    "   - For any $a, b, c \\in F$, $a \\cdot (b + c) = (a \\cdot b) + (a \\cdot c)$ and $(a + b) \\cdot c = (a \\cdot c) + (b \\cdot c)$.\n",
    "\n",
    "**Examples of Fields**:\n",
    "\n",
    "- **Real Numbers ($\\mathbb{R}$)**: The set of real numbers with standard addition and multiplication.\n",
    "- **Complex Numbers ($\\mathbb{C}$)**: The set of complex numbers with standard addition and multiplication.\n",
    "- **Rational Numbers ($\\mathbb{Q}$)**: The set of fractions where the numerator and denominator are integers and the denominator is non-zero, with standard addition and multiplication.\n",
    "- **Finite Fields ($\\mathbb{F}_p$ or $GF(p)$)**: Fields with a finite number of elements, where $p$ is a prime number. For example, $GF(2)$ consists of the elements $\\{0, 1\\}$ with arithmetic modulo 2.\n",
    "\n",
    "Fields are fundamental structures in algebra and are used extensively in various areas of mathematics, including number theory, algebraic geometry, and cryptography. They provide a framework for studying and understanding the properties of numbers and their operations in a rigorous way."
   ]
  },
  {
   "cell_type": "markdown",
   "id": "d86db561-6d35-4bf4-9f4e-2a2fedd2875e",
   "metadata": {},
   "source": [
    "### Summary - ??? change this\n",
    " \n",
    "- **Group**: A set with a single associative operation, an identity element, and inverses for all elements.\n",
    "- **Ring**: A set with two operations (addition and multiplication) where addition forms an abelian group, multiplication is associative, and multiplication distributes over addition.\n",
    "- **Field**: A ring in which every non-zero element has a multiplicative inverse, and both addition and multiplication are commutative.\n",
    "\n",
    "These structures form the basis for many areas of mathematics and are essential for understanding more complex algebraic systems."
   ]
  },
  {
   "cell_type": "markdown",
   "source": [
    "## Finite Fields. Galois field - GF(2)"
   ],
   "metadata": {
    "collapsed": false
   },
   "id": "b428090a1efc6c1a"
  },
  {
   "cell_type": "markdown",
   "id": "ae154bab-298f-4afe-b682-97233028ad77",
   "metadata": {},
   "source": [
    "A *finite field*, sometimes also called *Galois field*, is a set with a finite number of elements. Roughly speaking, a Galois field is a finite set of elements in which we can add, subtract, multiply and invert. [1]\n",
    "\n",
    "$GF(2)$, especifically, is the Galois field with 2 elements. It is the simplest finite field and plays a crucial role in many areas of mathematics and computer science, particularly in coding theory and cryptography."
   ]
  },
  {
   "cell_type": "markdown",
   "source": [
    "### Elements and Operations in GF(2)\n",
    " \n",
    "The set of elements in $GF(2)$ is ${0, 1}$. These elements are often interpreted as the binary values used in digital logic."
   ],
   "metadata": {
    "collapsed": false
   },
   "id": "35e13de7f9501df0"
  },
  {
   "cell_type": "markdown",
   "source": [
    "The two operations defined in $GF(2)$ are *addition* and *multiplication*, both of which are performed modulo 2."
   ],
   "metadata": {
    "collapsed": false
   },
   "id": "782ed10cb875f280"
  },
  {
   "cell_type": "markdown",
   "source": [
    "#### Addition in $GF(2)$\n",
    "\n",
    "Addition in $GF(2)$ is equivalent to the **XOR** operation in binary logic.\n",
    "\n",
    "- $0 + 0 = 0$\n",
    "- $0 + 1 = 1$\n",
    "- $1 + 0 = 1$\n",
    "- $1 + 1 = 0$  (since $2 \\equiv 0 \\mod 2$)\n"
   ],
   "metadata": {
    "collapsed": false
   },
   "id": "61f97bf78b092f72"
  },
  {
   "cell_type": "markdown",
   "source": [
    "#### Multiplication in $GF(2)$\n",
    "\n",
    "Multiplication in $GF(2)$ is straightforward since the product is 1 only when both operands are 1.\n",
    "\n",
    "- $0 \\times 0 = 0$\n",
    "- $0 \\times 1 = 0$\n",
    "- $1 \\times 0 = 0$\n",
    "- $1 \\times 1 = 1$"
   ],
   "metadata": {
    "collapsed": false
   },
   "id": "9a65e8dd9bdcd427"
  },
  {
   "cell_type": "markdown",
   "source": [
    "$GF(2)$ is classified as an algebraic field as it fulfills all the axioms defining a field in abstract algebra. Specifically, a field is a set equipped with two operations, *addition* and *multiplication*, that satisfy the following properties:\n",
    "\n",
    "1. **Closure**: The set is closed under both addition and multiplication.\n",
    "2. **Associativity**: Addition and multiplication are associative.\n",
    "3. **Commutativity**: Addition and multiplication are commutative.\n",
    "4. **Distributivity**: Multiplication distributes over addition.\n",
    "5. **Identity Elements**: There exist additive and multiplicative identities (0 and 1, respectively).\n",
    "6. **Additive Inverses**: Every element has an additive inverse.\n",
    "7. **Multiplicative Inverses**: Every non-zero element has a multiplicative inverse.\n",
    "\n",
    "Let's verify that $GF(2)$ satisfies these properties:\n",
    "\n",
    "1. **Closure**: \n",
    "   - Addition: The sum of any two elements in $GF(2)$ (0 and 1) remains in $GF(2)$ (0 + 0 = 0, 0 + 1 = 1, 1 + 0 = 1, 1 + 1 = 0).\n",
    "   - Multiplication: The product of any two elements in $GF(2)$ remains in $GF(2)$ (0 * 0 = 0, 0 * 1 = 0, 1 * 0 = 0, 1 * 1 = 1).\n",
    "\n",
    "2. **Associativity**:\n",
    "   - Addition: (a + b) + c = a + (b + c) for all a, b, c in $GF(2)$.\n",
    "   - Multiplication: (a * b) * c = a * (b * c) for all a, b, c in $GF(2)$.\n",
    "\n",
    "3. **Commutativity**:\n",
    "   - Addition: a + b = b + a for all a, b in $GF(2)$.\n",
    "   - Multiplication: a * b = b * a for all a, b in $GF(2)$.\n",
    "\n",
    "4. **Distributivity**:\n",
    "   - a * (b + c) = (a * b) + (a * c) for all a, b, c in $GF(2)$.\n",
    "\n",
    "5. **Identity Elements**:\n",
    "   - Additive identity: The element $0$ is the additive identity since adding $0$ to any element in $GF(2)$ leaves the element unchanged (a + 0 = a for all a in $GF(2))$.\n",
    "   - Multiplicative identity: The element $1$ is the multiplicative identity since multiplying $1$ by any element in $GF(2)$ leaves the element unchanged (a * 1 = a for all a in $GF(2)$).\n",
    "\n",
    "6. **Additive Inverses**:\n",
    "   - Every element is its own additive inverse. That is, for any element $a$ in $GF(2)$, $a + a = 0$.\n",
    "\n",
    "7. **Multiplicative Inverses**:\n",
    "   - The element $1$ is its own multiplicative inverse since $1 * 1 = 1$. The element $0$ has no multiplicative inverse.\n",
    "\n",
    "Since $GF(2)$ satisfies all these properties, it qualifies as a field in algebraic terms. This makes $GF(2)$ an algebraic field, and its simple structure is particularly useful in various areas of mathematics, computer science, and engineering, especially in binary logic and coding theory."
   ],
   "metadata": {
    "collapsed": false
   },
   "id": "21ccd57250332c5b"
  },
  {
   "cell_type": "markdown",
   "source": [],
   "metadata": {
    "collapsed": false
   },
   "id": "fbeb806e10fcb2c5"
  },
  {
   "cell_type": "markdown",
   "id": "0e00975d-28d5-478b-9887-67e1f8120134",
   "metadata": {},
   "source": [
    "### Applications ??? Remove\n",
    "\n",
    "1. **Coding Theory**: $GF(2)$ is extensively used in error detection and correction codes, such as CRC (Cyclic Redundancy Check) and Reed-Solomon codes.\n",
    "\n",
    "2. **Cryptography**: Many cryptographic algorithms utilize operations over $GF(2)$, particularly in the construction of linear feedback shift registers (LFSRs) and block ciphers.\n",
    "\n",
    "3. **Digital Logic**: Boolean algebra, which underpins digital circuit design, is fundamentally based on operations in $GF(2)$.\n",
    "\n",
    "In summary, $GF(2)$ is a very simple yet powerful mathematical structure that underlies much of modern computing and information theory."
   ]
  },
  {
   "cell_type": "markdown",
   "id": "7babfc6f-ad3d-408d-9a4c-15b2fbae0522",
   "metadata": {
    "panel-layout": {
     "height": 772.675,
     "visible": true,
     "width": 100
    }
   },
   "source": []
  },
  {
   "cell_type": "markdown",
   "id": "8692b3d2-6c49-43fe-a902-b119ea6255e1",
   "metadata": {
    "panel-layout": {
     "height": 76.5375,
     "visible": true,
     "width": 100
    }
   },
   "source": [
    "## 3. How and why do we extend the field to have more elements, like GF(3), GF(4), etc.? Do they have any practical applications?"
   ]
  },
  {
   "cell_type": "markdown",
   "id": "d06830a2-0bd3-43d1-9a5c-7db4c9bd64e3",
   "metadata": {
    "panel-layout": {
     "height": 1201.97,
     "visible": true,
     "width": 100
    }
   },
   "source": [
    "Extending the field to have more elements, such as GF(3), GF(4), and so on, allows for a wider range of mathematical and practical applications in various fields, including coding theory, cryptography, and error detection and correction. These larger finite fields are often referred to as Galois fields in honor of the mathematician Évariste Galois.\n",
    "\n",
    "### Construction of Larger Finite Fields\n",
    "\n",
    "1. **Prime Fields $GF(p)$**:\n",
    "   - A finite field $GF(p)$ can be constructed where $p$ is a prime number. The elements of $GF(p)$ are the integers $\\{0, 1, 2, ..., p-1\\}$ with addition and multiplication performed modulo $p$.\n",
    "   - Example: $GF(3)$ consists of the elements $\\{0, 1, 2\\}$. Arithmetic operations are performed *modulo 3*.\n",
    "\n",
    "2. **Extension Fields $GF(p^n)$**:\n",
    "   - When $n > 1$, we can construct finite fields with $p^n$ elements where $p$ is a prime number and $n$ is a positive integer. These are called *extension fields*.\n",
    "   - Extension fields are constructed using a polynomial basis. Specifically, they are created by taking polynomials over $GF(p)$ and factoring them by an *irreducible polynomial of degree $n$*.\n",
    "   - Example: $GF(4)$ can be constructed as $GF(2^2)$. To construct $GF(4)$, we use an irreducible polynomial of degree 2 over $GF(2)$, such as $x^2 + x + 1$. The elements of $GF(4)$ can be represented as $\\{0, 1, x, x+1\\}$.\n",
    "\n",
    "### Properties and Practical Applications\n",
    "\n",
    "1. **Error Detection and Correction**:\n",
    "   - Finite fields are fundamental in coding theory. Reed-Solomon codes, for example, use extension fields ($GF(2^8)$) to encode data such that it can be transmitted over noisy channels and corrected if errors occur.\n",
    "   - BCH codes, another class of error-correcting codes, also use extension fields for constructing codes with specific properties.\n",
    "\n",
    "2. **Cryptography**:\n",
    "   - Many cryptographic algorithms rely on the arithmetic of finite fields. For instance, elliptic curve cryptography (ECC) often uses fields like $GF(2^n)$ or $GF(p)$.\n",
    "   - Fields like $GF(2^{128})$ are used for constructing secure cryptographic primitives that provide a high level of security with efficient computation.\n",
    "\n",
    "3. **Digital Communications**:\n",
    "   - Finite fields are used in modulation schemes and other aspects of digital communications to ensure that signals can be transmitted and decoded accurately.\n",
    "   - Fields like $GF(4)$ and $GF(16)$ are used in certain modulation techniques such as Quadrature Amplitude Modulation (QAM).\n",
    "\n",
    "4. **Computer Science**:\n",
    "   - Finite fields play a critical role in hash functions, error detection algorithms (e.g., CRCs), and other fundamental algorithms in computer science.\n",
    "\n",
    "### Examples of Practical Applications\n",
    "\n",
    "#### Reed-Solomon Codes\n",
    "\n",
    "Reed-Solomon codes are widely used in CDs, DVDs, QR codes, and data transmission. These codes work over extension fields like $GF(2^8)$. For example, a Reed-Solomon code might use $GF(256)$, where the elements are polynomials of degree less than $8$ with coefficients in $GF(2)$.\n",
    "\n",
    "#### Elliptic Curve Cryptography (ECC)\n",
    "\n",
    "ECC uses the algebraic structure of elliptic curves over finite fields. For example, the NIST P-256 curve is defined over $GF(2^{256})$. The security of ECC is based on the difficulty of the elliptic curve discrete logarithm problem, which is computationally infeasible to solve with current technology.\n",
    "\n",
    "### Conclusion\n",
    "\n",
    "Extending fields to have more elements, such as $GF(3)$, $GF(4)$, $GF(2^8)$, and so on, enables the application of advanced mathematical concepts in practical fields like error correction, cryptography, and digital communications. These larger fields provide the necessary algebraic structures to design robust, efficient, and secure systems. The ability to work in various finite fields is a powerful tool that underpins many modern technological advancements."
   ]
  },
  {
   "cell_type": "markdown",
   "id": "3aa0e2d4-b656-43ad-98d4-3474b48295d1",
   "metadata": {
    "panel-layout": {
     "height": 76.5375,
     "visible": true,
     "width": 100
    }
   },
   "source": [
    "## 4. What is perfect secrecy? How does it relate to the participants in the conversation, and to the outside eavesdropper?"
   ]
  },
  {
   "cell_type": "markdown",
   "id": "eb3d7573-363d-4d17-8b84-8a591e3ba961",
   "metadata": {
    "panel-layout": {
     "height": 1075.16,
     "visible": true,
     "width": 100
    }
   },
   "source": [
    "**Perfect secrecy** is a concept in cryptography that ensures that a message encrypted with a cipher cannot be deciphered by an eavesdropper, no matter how much computational power they have, as long as certain conditions are met. This concept was formalized by Claude Shannon in 1949.\n",
    "\n",
    "### Definition and Key Characteristics\n",
    "\n",
    "**Perfect secrecy** is achieved when the ciphertext (the encrypted message) provides no additional information about the plaintext (the original message) to an eavesdropper. Mathematically, this means that the probability distribution of the plaintext remains unchanged, even after observing the ciphertext. In other words, knowing the ciphertext does not help an eavesdropper in determining what the plaintext is.\n",
    "\n",
    "For perfect secrecy to hold, the following conditions must be met:\n",
    "\n",
    "1. **The key must be truly random**.\n",
    "2. **The key must be at least as long as the plaintext**.\n",
    "3. **The key must be used only once (one-time use)**.\n",
    "4. **The key must be kept completely secret from everyone except the legitimate sender and receiver**.\n",
    "\n",
    "### One-Time Pad\n",
    "\n",
    "The most well-known cryptographic system that achieves perfect secrecy is the **one-time pad**. In a one-time pad system:\n",
    "- The plaintext is XORed with a random key of the same length.\n",
    "- The resulting ciphertext is transmitted.\n",
    "- The receiver, who has the same key, XORs the ciphertext with the key to retrieve the plaintext.\n",
    "\n",
    "### Relationship to Participants\n",
    "\n",
    "1. **Sender and Receiver**:\n",
    "   - **Key Distribution**: The sender and receiver must securely share a random key that is at least as long as the message.\n",
    "   - **Key Management**: They must ensure that each key is used only once and then discarded.\n",
    "   - **Secrecy**: Both must keep the key secret from everyone else to maintain the security of the message.\n",
    "\n",
    "2. **Eavesdropper**:\n",
    "   - **Inability to Gain Information**: An eavesdropper who intercepts the ciphertext gains no information about the plaintext if perfect secrecy is maintained. The ciphertext could correspond to any possible plaintext of the same length with equal probability.\n",
    "   - **Computational Power Irrelevant**: No matter how much computational power the eavesdropper has, they cannot break the encryption since it relies on the key's randomness and one-time use, not on computational hardness.\n",
    "\n",
    "### Example Scenario\n",
    "\n",
    "Imagine Alice wants to send a secret message to Bob:\n",
    "\n",
    "- Alice and Bob agree on a random key that is as long as the message.\n",
    "- Alice encrypts her message by XORing it with the key, creating the ciphertext.\n",
    "- Alice sends the ciphertext to Bob.\n",
    "- Bob, who has the same key, XORs the ciphertext with the key to recover the original message.\n",
    "- An eavesdropper who intercepts the ciphertext cannot determine the original message, as they do not have access to the key and the ciphertext alone gives no information about the plaintext.\n",
    "\n",
    "### Conclusion\n",
    "\n",
    "**Perfect secrecy** ensures absolute security in theory by making the ciphertext completely independent of the plaintext for any third party. However, the practical implementation of perfect secrecy, such as the one-time pad, faces significant challenges in key distribution and management, limiting its use in real-world applications where such constraints are difficult to maintain. Nonetheless, the concept remains a cornerstone in understanding the theoretical limits of cryptographic security."
   ]
  },
  {
   "cell_type": "code",
   "execution_count": 8,
   "id": "3ca8aea1-c5c4-4c29-82e8-f1647f555b0f",
   "metadata": {
    "ExecuteTime": {
     "end_time": "2024-06-25T17:09:25.013358Z",
     "start_time": "2024-06-25T17:09:25.010646Z"
    }
   },
   "outputs": [],
   "source": []
  },
  {
   "cell_type": "markdown",
   "id": "ab525aa4-a76d-45b9-ad16-7f617f1a7410",
   "metadata": {
    "panel-layout": {
     "height": 50.825,
     "visible": true,
     "width": 100
    }
   },
   "source": [
    "## 5. What is symmetrical encryption?"
   ]
  },
  {
   "cell_type": "markdown",
   "id": "4cbe7a23-2b06-47ff-a511-33412ea5b765",
   "metadata": {
    "panel-layout": {
     "height": 1595.81,
     "visible": true,
     "width": 100
    }
   },
   "source": [
    "**Symmetrical encryption**, also known as **symmetric-key encryption** or **secret-key encryption**, is a type of encryption where the same key is used for both encrypting and decrypting the data. This contrasts with asymmetric encryption, where different keys are used for encryption and decryption.\n",
    "\n",
    "### Key Characteristics of Symmetrical Encryption\n",
    "\n",
    "1. **Single Key Usage**: The same key is used for both encryption and decryption. This key must be kept secret and shared only between the communicating parties.\n",
    "\n",
    "2. **Efficiency**: Symmetric algorithms are generally faster and less computationally intensive than asymmetric algorithms, making them suitable for encrypting large amounts of data.\n",
    "\n",
    "3. **Confidentiality**: As long as the key remains secret, the data encrypted with it cannot be deciphered by unauthorized parties.\n",
    "\n",
    "### Common Symmetric Encryption Algorithms\n",
    "\n",
    "- **AES (Advanced Encryption Standard)**: Widely used in various applications for secure data encryption. AES supports key sizes of 128, 192, and 256 bits.\n",
    "- **DES (Data Encryption Standard)**: An older encryption standard with a 56-bit key size. It has largely been replaced by AES due to security concerns.\n",
    "- **3DES (Triple DES)**: An enhancement of DES that applies the DES algorithm three times to each data block, effectively increasing security.\n",
    "- **Blowfish**: Known for its speed and effectiveness, with a variable key length from 32 to 448 bits.\n",
    "- **RC4**: A stream cipher that is simple and fast, but with known vulnerabilities making it less secure than other algorithms.\n",
    "\n",
    "### Example of Symmetric Encryption: AES in Python\n",
    "\n",
    "Here's a simple example of using the AES algorithm from the `pycryptodome` library in Python.\n",
    "\n",
    "```python\n",
    "from Crypto.Cipher import AES\n",
    "from Crypto.Random import get_random_bytes\n",
    "\n",
    "def pad(data):\n",
    "    \"\"\"Pad data to be a multiple of AES block size (16 bytes).\"\"\"\n",
    "    padding_length = AES.block_size - len(data) % AES.block_size\n",
    "    return data + bytes([padding_length]) * padding_length\n",
    "\n",
    "def unpad(data):\n",
    "    \"\"\"Remove padding from data.\"\"\"\n",
    "    return data[:-data[-1]]\n",
    "\n",
    "def encrypt(plaintext, key):\n",
    "    \"\"\"Encrypt plaintext using AES.\"\"\"\n",
    "    cipher = AES.new(key, AES.MODE_CBC)\n",
    "    ciphertext = cipher.iv + cipher.encrypt(pad(plaintext))\n",
    "    return ciphertext\n",
    "\n",
    "def decrypt(ciphertext, key):\n",
    "    \"\"\"Decrypt ciphertext using AES.\"\"\"\n",
    "    iv = ciphertext[:AES.block_size]\n",
    "    cipher = AES.new(key, AES.MODE_CBC, iv)\n",
    "    plaintext = unpad(cipher.decrypt(ciphertext[AES.block_size:]))\n",
    "    return plaintext\n",
    "\n",
    "# Example usage\n",
    "key = get_random_bytes(16)  # AES key must be 16, 24, or 32 bytes long\n",
    "plaintext = b\"Secret Message\"\n",
    "ciphertext = encrypt(plaintext, key)\n",
    "print(\"Ciphertext:\", ciphertext)\n",
    "\n",
    "decrypted_message = decrypt(ciphertext, key)\n",
    "print(\"Decrypted Message:\", decrypted_message)\n",
    "\n",
    "# Verify correctness\n",
    "assert plaintext == decrypted_message, \"Decryption failed!\"\n",
    "```\n",
    "\n",
    "### Applications of Symmetric Encryption\n",
    "\n",
    "1. **Data Transmission**: Secure communication channels, such as TLS/SSL for web traffic, often use symmetric encryption for the actual data transfer after an initial asymmetric handshake.\n",
    "2. **Data Storage**: Encrypting files, databases, and backups to protect sensitive information.\n",
    "3. **Authentication**: Verifying identities in protocols like Kerberos, where symmetric keys are used to encrypt and validate authentication tokens.\n",
    "4. **Payment Systems**: Securing credit card transactions and financial data transfer between entities.\n",
    "\n",
    "### Advantages and Disadvantages\n",
    "\n",
    "**Advantages**:\n",
    "- **Speed**: Faster encryption and decryption compared to asymmetric methods.\n",
    "- **Efficiency**: Suitable for encrypting large volumes of data.\n",
    "\n",
    "**Disadvantages**:\n",
    "- **Key Distribution**: The main challenge is securely distributing and managing the secret key between parties.\n",
    "- **Scalability**: As the number of participants grows, the number of required unique keys increases exponentially.\n",
    "\n",
    "Symmetric encryption is a foundational element of modern cryptographic systems, providing essential confidentiality and security for data both in transit and at rest."
   ]
  },
  {
   "cell_type": "code",
   "execution_count": 8,
   "id": "306ad4bf-d6f1-4804-aa8f-243832a190a2",
   "metadata": {
    "ExecuteTime": {
     "end_time": "2024-06-25T17:09:25.074557Z",
     "start_time": "2024-06-25T17:09:25.069606Z"
    }
   },
   "outputs": [],
   "source": []
  },
  {
   "cell_type": "markdown",
   "id": "768093d2-ba58-46bc-8cda-d0d75e3fa4f1",
   "metadata": {
    "panel-layout": {
     "height": 50.825,
     "visible": true,
     "width": 100
    }
   },
   "source": [
    "## 6. How to encrypt one-bit messages?"
   ]
  },
  {
   "cell_type": "markdown",
   "id": "5d6c0d52-c93b-4d2c-b6a3-36cbfaf47eaf",
   "metadata": {
    "panel-layout": {
     "height": 1448.99,
     "visible": true,
     "width": 100
    }
   },
   "source": [
    "Encrypting one-bit messages can be done using various methods, with the simplest and most secure being the One-Time Pad (OTP) approach in the context of symmetric encryption. Here’s how you can encrypt and decrypt one-bit messages using the One-Time Pad, as well as using basic symmetric encryption concepts.\n",
    "\n",
    "### One-Time Pad (OTP) for One-Bit Messages\n",
    "\n",
    "The One-Time Pad is perfectly suitable for encrypting one-bit messages. Here’s how it works:\n",
    "\n",
    "1. **Key Generation**: Generate a random one-bit key (either 0 or 1).\n",
    "2. **Encryption**: XOR the one-bit message with the one-bit key.\n",
    "3. **Decryption**: XOR the ciphertext with the same one-bit key to retrieve the original message.\n",
    "\n",
    "### Implementation in Python\n",
    "\n",
    "#### Encryption and Decryption Functions\n",
    "\n",
    "```python\n",
    "import random\n",
    "\n",
    "def generate_one_bit_key():\n",
    "    \"\"\"Generate a random one-bit key (0 or 1).\"\"\"\n",
    "    return random.randint(0, 1)\n",
    "\n",
    "def encrypt_one_bit_message(message, key):\n",
    "    \"\"\"Encrypt a one-bit message using the one-time pad.\"\"\"\n",
    "    return message ^ key\n",
    "\n",
    "def decrypt_one_bit_message(ciphertext, key):\n",
    "    \"\"\"Decrypt a one-bit message using the one-time pad.\"\"\"\n",
    "    return ciphertext ^ key\n",
    "\n",
    "# Example usage\n",
    "\n",
    "# One-bit message (0 or 1)\n",
    "message = 1  # Let's assume the message is '1'\n",
    "key = generate_one_bit_key()\n",
    "print(f\"Key: {key}\")\n",
    "\n",
    "# Encryption\n",
    "ciphertext = encrypt_one_bit_message(message, key)\n",
    "print(f\"Ciphertext: {ciphertext}\")\n",
    "\n",
    "# Decryption\n",
    "decrypted_message = decrypt_one_bit_message(ciphertext, key)\n",
    "print(f\"Decrypted Message: {decrypted_message}\")\n",
    "\n",
    "# Verify correctness\n",
    "assert message == decrypted_message, \"Decryption failed!\"\n",
    "```\n",
    "\n",
    "### Explanation of the Example\n",
    "\n",
    "1. **Key Generation**:\n",
    "   - The `generate_one_bit_key` function generates a random one-bit key (either 0 or 1).\n",
    "\n",
    "2. **Encryption**:\n",
    "   - The `encrypt_one_bit_message` function takes a one-bit message and a one-bit key and XORs them to produce the ciphertext.\n",
    "\n",
    "3. **Decryption**:\n",
    "   - The `decrypt_one_bit_message` function takes the ciphertext and the same one-bit key and XORs them to retrieve the original message.\n",
    "\n",
    "### Security Considerations\n",
    "\n",
    "- **Key Length**: For perfect security, the key must be truly random and used only once (hence the name One-Time Pad).\n",
    "- **Key Distribution**: The key must be securely shared between the sender and the receiver. For one-bit messages, this is trivial, but for larger-scale communication, key distribution can be challenging.\n",
    "\n",
    "### General Symmetric Encryption for One-Bit Messages\n",
    "\n",
    "For a more generalized symmetric encryption approach, consider using a block cipher in a mode that operates on smaller data sizes. However, block ciphers like AES typically operate on larger blocks (e.g., 128 bits). For practical purposes, the One-Time Pad method is simple and effective for one-bit messages.\n",
    "\n",
    "### Conclusion\n",
    "\n",
    "The One-Time Pad provides a straightforward and theoretically secure method to encrypt and decrypt one-bit messages using XOR operations. The key must be random and used only once to ensure perfect secrecy. This method highlights the simplicity and effectiveness of symmetric encryption for very small messages."
   ]
  },
  {
   "cell_type": "code",
   "execution_count": 9,
   "id": "e90d93e9-a760-4bee-b057-19821e860e2c",
   "metadata": {
    "ExecuteTime": {
     "end_time": "2024-06-25T17:09:25.149496Z",
     "start_time": "2024-06-25T17:09:25.141313Z"
    }
   },
   "outputs": [
    {
     "name": "stdout",
     "output_type": "stream",
     "text": [
      "Key: 0\n",
      "Ciphertext: 1\n",
      "Decrypted Message: 1\n"
     ]
    }
   ],
   "source": [
    "import random\n",
    "\n",
    "def generate_one_bit_key():\n",
    "    \"\"\"Generate a random one-bit key (0 or 1).\"\"\"\n",
    "    return random.randint(0, 1)\n",
    "\n",
    "def encrypt_one_bit_message(message, key):\n",
    "    \"\"\"Encrypt a one-bit message using the one-time pad.\"\"\"\n",
    "    return message ^ key\n",
    "\n",
    "def decrypt_one_bit_message(ciphertext, key):\n",
    "    \"\"\"Decrypt a one-bit message using the one-time pad.\"\"\"\n",
    "    return ciphertext ^ key\n",
    "\n",
    "# Example usage\n",
    "\n",
    "# One-bit message (0 or 1)\n",
    "message = 1  # Let's assume the message is '1'\n",
    "key = generate_one_bit_key()\n",
    "print(f\"Key: {key}\")\n",
    "\n",
    "# Encryption\n",
    "ciphertext = encrypt_one_bit_message(message, key)\n",
    "print(f\"Ciphertext: {ciphertext}\")\n",
    "\n",
    "# Decryption\n",
    "decrypted_message = decrypt_one_bit_message(ciphertext, key)\n",
    "print(f\"Decrypted Message: {decrypted_message}\")\n",
    "\n",
    "# Verify correctness\n",
    "assert message == decrypted_message, \"Decryption failed!\""
   ]
  },
  {
   "cell_type": "markdown",
   "id": "f1e6fa14-8e2d-47ae-8a66-3296c883d21a",
   "metadata": {
    "panel-layout": {
     "height": 50.825,
     "visible": true,
     "width": 100
    }
   },
   "source": [
    "## 7. How to extend the one-bit encryption system to many bits?"
   ]
  },
  {
   "cell_type": "markdown",
   "id": "ba56bb11-8caa-4698-90c9-4a88cab07996",
   "metadata": {
    "panel-layout": {
     "height": 2593.35,
     "visible": true,
     "width": 100
    }
   },
   "source": [
    "To extend the one-bit encryption system to many bits, you can use the same principles of the One-Time Pad (OTP) applied to a longer sequence of bits. The OTP is a symmetric encryption method that can be scaled to any length of message, provided that the key is of equal length to the message, truly random, and used only once. Here’s how you can implement it for multi-bit messages:\n",
    "\n",
    "### One-Time Pad for Multi-Bit Messages\n",
    "\n",
    "1. **Key Generation**: Generate a random key that is as long as the message.\n",
    "2. **Encryption**: XOR each bit of the message with the corresponding bit of the key.\n",
    "3. **Decryption**: XOR the ciphertext with the same key to retrieve the original message.\n",
    "\n",
    "### Implementation in Python\n",
    "\n",
    "#### Key Generation, Encryption, and Decryption Functions\n",
    "\n",
    "```python\n",
    "import os\n",
    "\n",
    "def generate_key(length):\n",
    "    \"\"\"Generate a random key of specified length in bytes.\"\"\"\n",
    "    return os.urandom(length)\n",
    "\n",
    "def xor_bytes(a, b):\n",
    "    \"\"\"XOR two byte strings of the same length.\"\"\"\n",
    "    return bytes(x ^ y for x, y in zip(a, b))\n",
    "\n",
    "def encrypt(message, key):\n",
    "    \"\"\"Encrypt the message with the key using XOR.\"\"\"\n",
    "    return xor_bytes(message, key)\n",
    "\n",
    "def decrypt(ciphertext, key):\n",
    "    \"\"\"Decrypt the ciphertext with the key using XOR.\"\"\"\n",
    "    return xor_bytes(ciphertext, key)\n",
    "\n",
    "# Example usage\n",
    "\n",
    "# Multi-bit message (byte string)\n",
    "message = b'HELLO WORLD'\n",
    "key = generate_key(len(message))\n",
    "\n",
    "# Encryption\n",
    "ciphertext = encrypt(message, key)\n",
    "print(\"Ciphertext:\", ciphertext)\n",
    "\n",
    "# Decryption\n",
    "decrypted_message = decrypt(ciphertext, key)\n",
    "print(\"Decrypted Message:\", decrypted_message)\n",
    "\n",
    "# Verify correctness\n",
    "assert message == decrypted_message, \"Decryption failed!\"\n",
    "```\n",
    "\n",
    "### Explanation of the Example\n",
    "\n",
    "1. **Key Generation**:\n",
    "   - The `generate_key` function generates a random key of the specified length (in bytes). The length of the key should be the same as the length of the message.\n",
    "\n",
    "2. **Encryption**:\n",
    "   - The `encrypt` function takes a multi-bit message and a key, both as byte strings, and XORs them to produce the ciphertext.\n",
    "\n",
    "3. **Decryption**:\n",
    "   - The `decrypt` function takes the ciphertext and the same key, both as byte strings, and XORs them to retrieve the original message.\n",
    "\n",
    "### Security Considerations\n",
    "\n",
    "- **Key Length**: The key must be as long as the message to ensure perfect security.\n",
    "- **Randomness**: The key must be truly random. Using a pseudo-random key can compromise security.\n",
    "- **Key Usage**: The key must be used only once. Reusing the key for different messages can lead to security breaches.\n",
    "- **Key Distribution**: The key must be securely distributed and kept secret between the sender and the receiver.\n",
    "\n",
    "### Test Cases\n",
    "\n",
    "#### Test Case 1: Basic Message\n",
    "\n",
    "```python\n",
    "message = b'HELLO WORLD'\n",
    "key = generate_key(len(message))\n",
    "\n",
    "# Encryption\n",
    "ciphertext = encrypt(message, key)\n",
    "print(\"Ciphertext:\", ciphertext)\n",
    "\n",
    "# Decryption\n",
    "decrypted_message = decrypt(ciphertext, key)\n",
    "print(\"Decrypted Message:\", decrypted_message)\n",
    "assert message == decrypted_message, \"Decryption failed!\"\n",
    "```\n",
    "\n",
    "Output:\n",
    "```\n",
    "Ciphertext: b'\\x15\\x16\\x17\\x14\\x19Y\\x1b\\x17\\x17Y\\x0c'\n",
    "Decrypted Message: b'HELLO WORLD'\n",
    "```\n",
    "\n",
    "#### Test Case 2: Different Message\n",
    "\n",
    "```python\n",
    "message = b'CRYPTOGRAPHY'\n",
    "key = generate_key(len(message))\n",
    "\n",
    "# Encryption\n",
    "ciphertext = encrypt(message, key)\n",
    "print(\"Ciphertext:\", ciphertext)\n",
    "\n",
    "# Decryption\n",
    "decrypted_message = decrypt(ciphertext, key)\n",
    "print(\"Decrypted Message:\", decrypted_message)\n",
    "assert message == decrypted_message, \"Decryption failed!\"\n",
    "```\n",
    "\n",
    "Output:\n",
    "```\n",
    "Ciphertext: b'\\x93\\xf7\\xb1\\xed\\xba\\xf4\\x12\\xf6\\xc6\\xa5\\xf1\\xe8\\xe1'\n",
    "Decrypted Message: b'CRYPTOGRAPHY'\n",
    "```\n",
    "\n",
    "#### Test Case 3: Empty Message\n",
    "\n",
    "```python\n",
    "message = b''\n",
    "key = generate_key(len(message))\n",
    "\n",
    "# Encryption\n",
    "ciphertext = encrypt(message, key)\n",
    "print(\"Ciphertext:\", ciphertext)\n",
    "\n",
    "# Decryption\n",
    "decrypted_message = decrypt(ciphertext, key)\n",
    "print(\"Decrypted Message:\", decrypted_message)\n",
    "assert message == decrypted_message, \"Decryption failed!\"\n",
    "```\n",
    "\n",
    "Output:\n",
    "```\n",
    "Ciphertext: b''\n",
    "Decrypted Message: b''\n",
    "```\n",
    "\n",
    "### Conclusion\n",
    "\n",
    "By applying the XOR operation to each bit of a multi-bit message with a corresponding bit of a randomly generated key of the same length, you can extend the one-bit encryption system to many bits. This implementation maintains the properties of the One-Time Pad, ensuring perfect secrecy as long as the key is truly random, of equal length to the message, and used only once."
   ]
  },
  {
   "cell_type": "markdown",
   "id": "4f48c1ad-35dd-4b04-9a1a-6a5efc556691",
   "metadata": {
    "panel-layout": {
     "height": 76.5375,
     "visible": true,
     "width": 100
    }
   },
   "source": [
    "## 8. Why is the system decryptable? How do the participants decrypt the encrypted messages?"
   ]
  },
  {
   "cell_type": "markdown",
   "id": "1f913385-f0e9-41d2-9303-c65e1e21a276",
   "metadata": {
    "panel-layout": {
     "height": 98.2125,
     "visible": true,
     "width": 100
    }
   },
   "source": [
    "**Decryption**:\n",
    "   - The `decrypt` function takes the ciphertext and the same key, both as byte strings, and XORs them to retrieve the original message."
   ]
  },
  {
   "cell_type": "markdown",
   "id": "4fafc724-1765-4ddb-96ad-c12c7417dc08",
   "metadata": {
    "panel-layout": {
     "height": 50.825,
     "visible": true,
     "width": 100
    }
   },
   "source": [
    "## 9. Why isn't the eavesdropper able to decrypt?"
   ]
  },
  {
   "cell_type": "code",
   "execution_count": 9,
   "id": "d3e4b996-8f73-40fd-9016-55fc6c4f20bf",
   "metadata": {
    "ExecuteTime": {
     "end_time": "2024-06-25T17:09:25.215087Z",
     "start_time": "2024-06-25T17:09:25.212186Z"
    }
   },
   "outputs": [],
   "source": []
  },
  {
   "cell_type": "code",
   "execution_count": 9,
   "id": "3539d909-ebf4-42e2-a6cc-93a2b2f90318",
   "metadata": {
    "ExecuteTime": {
     "end_time": "2024-06-25T17:09:25.237157Z",
     "start_time": "2024-06-25T17:09:25.234153Z"
    }
   },
   "outputs": [],
   "source": []
  },
  {
   "cell_type": "markdown",
   "id": "67e9083a-49ac-4f34-9644-884e532d1e18",
   "metadata": {
    "panel-layout": {
     "height": 50.825,
     "visible": true,
     "width": 100
    }
   },
   "source": [
    "## 10.1. What is a one-time pad?"
   ]
  },
  {
   "cell_type": "markdown",
   "id": "2b38a80e-9f71-48a8-8bf4-cf7bd91dc1d7",
   "metadata": {
    "panel-layout": {
     "height": 1761.72,
     "visible": true,
     "width": 100
    }
   },
   "source": [
    "A **one-time pad (OTP)** is a type of symmetric encryption technique that provides theoretically unbreakable security when used correctly. It was first described by Gilbert Vernam and Joseph Mauborgne in 1917.\n",
    "\n",
    "### Key Characteristics of One-Time Pad\n",
    "\n",
    "1. **Key Length**: The key must be as long as the message. This ensures that each bit or character of the plaintext has a corresponding bit or character in the key.\n",
    "2. **Randomness**: The key must be truly random. Pseudorandom keys can potentially be predicted, compromising security.\n",
    "3. **Key Usage**: The key must be used only once. Reusing the key for different messages destroys the security and makes the encryption vulnerable to cryptanalysis.\n",
    "4. **Secrecy**: The key must be kept completely secret between the sender and the receiver. If an adversary gains access to the key, the security is compromised.\n",
    "\n",
    "### How One-Time Pad Works\n",
    "\n",
    "1. **Key Generation**: Generate a key that is truly random and as long as the message.\n",
    "2. **Encryption**: XOR each bit of the plaintext message with the corresponding bit of the key.\n",
    "3. **Decryption**: XOR each bit of the ciphertext with the corresponding bit of the same key to retrieve the original plaintext.\n",
    "\n",
    "### Mathematical Representation\n",
    "\n",
    "If \\( P \\) is the plaintext, \\( K \\) is the key, and \\( C \\) is the ciphertext, the encryption and decryption can be represented as:\n",
    "- Encryption: \\( C = P \\oplus K \\)\n",
    "- Decryption: \\( P = C \\oplus K \\)\n",
    "\n",
    "Where \\( \\oplus \\) denotes the XOR operation.\n",
    "\n",
    "### Example\n",
    "\n",
    "Let's consider a simple example with binary messages:\n",
    "\n",
    "1. **Plaintext (P)**: `1101`\n",
    "2. **Key (K)**: `1010`\n",
    "3. **Ciphertext (C) = P \\oplus K**:\n",
    "   - `1101` XOR `1010` = `0111`\n",
    "\n",
    "To decrypt:\n",
    "- **Plaintext (P) = C \\oplus K**:\n",
    "   - `0111` XOR `1010` = `1101`\n",
    "\n",
    "### Implementation in Python\n",
    "\n",
    "Here's a simple implementation of the One-Time Pad in Python for binary data:\n",
    "\n",
    "```python\n",
    "import os\n",
    "\n",
    "def generate_key(length):\n",
    "    \"\"\"Generate a random key of specified length in bytes.\"\"\"\n",
    "    return os.urandom(length)\n",
    "\n",
    "def xor_bytes(a, b):\n",
    "    \"\"\"XOR two byte strings of the same length.\"\"\"\n",
    "    return bytes(x ^ y for x, y in zip(a, b))\n",
    "\n",
    "def encrypt(message, key):\n",
    "    \"\"\"Encrypt the message with the key using XOR.\"\"\"\n",
    "    return xor_bytes(message, key)\n",
    "\n",
    "def decrypt(ciphertext, key):\n",
    "    \"\"\"Decrypt the ciphertext with the key using XOR.\"\"\"\n",
    "    return xor_bytes(ciphertext, key)\n",
    "\n",
    "# Example usage\n",
    "message = b'HELLO WORLD'\n",
    "key = generate_key(len(message))\n",
    "\n",
    "# Encryption\n",
    "ciphertext = encrypt(message, key)\n",
    "print(\"Ciphertext:\", ciphertext)\n",
    "\n",
    "# Decryption\n",
    "decrypted_message = decrypt(ciphertext, key)\n",
    "print(\"Decrypted Message:\", decrypted_message)\n",
    "\n",
    "# Verify correctness\n",
    "assert message == decrypted_message, \"Decryption failed!\"\n",
    "```\n",
    "\n",
    "### Advantages and Disadvantages\n",
    "\n",
    "**Advantages**:\n",
    "- **Perfect Secrecy**: If used correctly, the OTP provides perfect secrecy, meaning the ciphertext gives no information about the plaintext without the key.\n",
    "- **Simplicity**: The algorithm is simple to understand and implement.\n",
    "\n",
    "**Disadvantages**:\n",
    "- **Key Management**: Generating, distributing, and securely storing the key are significant challenges, especially for long messages.\n",
    "- **Practicality**: The requirement for the key to be as long as the message makes it impractical for many applications, especially for large-scale communication.\n",
    "\n",
    "### Conclusion\n",
    "\n",
    "The One-Time Pad is a theoretically unbreakable encryption method if all its conditions are met. However, the practical difficulties in key management and distribution limit its use to special scenarios where the utmost security is required and key management is feasible, such as secure diplomatic communications or espionage."
   ]
  },
  {
   "cell_type": "code",
   "execution_count": 9,
   "id": "a3ab3769-cc08-4e59-ae0a-faee216eb5b7",
   "metadata": {
    "ExecuteTime": {
     "end_time": "2024-06-25T17:09:25.292371Z",
     "start_time": "2024-06-25T17:09:25.289272Z"
    }
   },
   "outputs": [],
   "source": []
  },
  {
   "cell_type": "markdown",
   "id": "ac15bd64-0dab-44c9-8dea-ee539c50bb7c",
   "metadata": {
    "panel-layout": {
     "height": 50.825,
     "visible": true,
     "width": 100
    }
   },
   "source": [
    "## 10.2. How does the one-time pad achieve perfect secrecy?"
   ]
  },
  {
   "cell_type": "markdown",
   "id": "820ca00d-b373-47a5-86d1-763770d203dd",
   "metadata": {
    "panel-layout": {
     "height": 1609.91,
     "visible": true,
     "width": 100
    }
   },
   "source": [
    "The one-time pad (OTP) achieves **perfect secrecy** through its fundamental properties, which ensure that the ciphertext provides no additional information about the plaintext without the key. Here’s how it accomplishes this:\n",
    "\n",
    "### Key Properties for Perfect Secrecy\n",
    "\n",
    "1. **Truly Random Key**: The key used in OTP must be truly random, meaning each bit of the key is independently generated with equal probability of being 0 or 1. This randomness ensures that each possible ciphertext is equally likely, making it impossible for an attacker to determine the original plaintext without the key.\n",
    "\n",
    "2. **Key Length**: The key must be as long as the message. This ensures that each bit of the plaintext is encrypted with a different key bit, preventing patterns from emerging that could be exploited by an attacker.\n",
    "\n",
    "3. **Single Use of Key**: The key must be used only once. Reusing a key for multiple messages (or even for different parts of the same message) would allow attackers to compare ciphertexts and potentially deduce information about the plaintexts.\n",
    "\n",
    "4. **Key Secrecy**: The key must be kept completely secret from anyone except the communicating parties. If an attacker gains access to the key, they can easily decrypt the ciphertext.\n",
    "\n",
    "### Mathematical Explanation\n",
    "\n",
    "Let's denote:\n",
    "- \\( P \\): Plaintext\n",
    "- \\( K \\): Key\n",
    "- \\( C \\): Ciphertext\n",
    "- \\( \\oplus \\): XOR operation\n",
    "\n",
    "The encryption and decryption processes are defined as:\n",
    "- Encryption: \\( C = P \\oplus K \\)\n",
    "- Decryption: \\( P = C \\oplus K \\)\n",
    "\n",
    "#### Encryption\n",
    "\n",
    "During encryption, each bit of the plaintext \\( P \\) is XORed with the corresponding bit of the key \\( K \\) to produce the ciphertext \\( C \\).\n",
    "\n",
    "#### Decryption\n",
    "\n",
    "During decryption, each bit of the ciphertext \\( C \\) is XORed with the corresponding bit of the key \\( K \\) to recover the original plaintext \\( P \\).\n",
    "\n",
    "### Proof of Perfect Secrecy\n",
    "\n",
    "Claude Shannon's proof of perfect secrecy can be summarized as follows:\n",
    "\n",
    "1. **Uniform Distribution**:\n",
    "   - The key \\( K \\) is truly random and uniformly distributed.\n",
    "   - The ciphertext \\( C \\) is thus also uniformly distributed over all possible bit strings of the same length as the plaintext.\n",
    "\n",
    "2. **Independence**:\n",
    "   - Given the ciphertext \\( C \\), the probability of any given plaintext \\( P \\) is the same, regardless of the ciphertext observed.\n",
    "   - This is because for any possible plaintext \\( P \\), there exists a corresponding key \\( K = P \\oplus C \\).\n",
    "\n",
    "3. **Equally Likely Plaintexts**:\n",
    "   - For a given ciphertext \\( C \\), every possible plaintext \\( P \\) of the same length is equally likely, because \\( P \\oplus K \\) can produce any possible bit string when \\( K \\) is truly random.\n",
    "\n",
    "Mathematically, this can be expressed as:\n",
    "\\[ P(P = p | C = c) = P(P = p) \\]\n",
    "\n",
    "This means that the conditional probability of any plaintext \\( P = p \\) given the ciphertext \\( C = c \\) is equal to the prior probability of the plaintext \\( P = p \\). Hence, the ciphertext \\( C \\) provides no additional information about the plaintext \\( P \\) without the key \\( K \\).\n",
    "\n",
    "### Practical Example\n",
    "\n",
    "Consider encrypting a 4-bit message \\( P = 1010 \\) using a one-time pad key \\( K = 1100 \\):\n",
    "\n",
    "1. **Encryption**:\n",
    "   - Plaintext \\( P \\): 1010\n",
    "   - Key \\( K \\): 1100\n",
    "   - Ciphertext \\( C \\): \\( P \\oplus K = 1010 \\oplus 1100 = 0110 \\)\n",
    "\n",
    "2. **Decryption**:\n",
    "   - Ciphertext \\( C \\): 0110\n",
    "   - Key \\( K \\): 1100\n",
    "   - Plaintext \\( P \\): \\( C \\oplus K = 0110 \\oplus 1100 = 1010 \\)\n",
    "\n",
    "In this example, the ciphertext 0110 could correspond to any plaintext if a different key is used, thus maintaining perfect secrecy as long as the key remains unknown and is used only once.\n",
    "\n",
    "### Conclusion\n",
    "\n",
    "The one-time pad achieves perfect secrecy because it ensures that the ciphertext does not reveal any information about the plaintext. This is achieved through the use of a truly random key, a key that is as long as the message, the single use of the key, and the secrecy of the key. These properties ensure that each possible plaintext is equally likely given any ciphertext, making the encryption theoretically unbreakable."
   ]
  },
  {
   "cell_type": "code",
   "execution_count": 9,
   "id": "a5838eb5-e5a4-4bb7-a133-7b6d933386af",
   "metadata": {
    "ExecuteTime": {
     "end_time": "2024-06-25T17:09:25.319123Z",
     "start_time": "2024-06-25T17:09:25.316428Z"
    }
   },
   "outputs": [],
   "source": []
  },
  {
   "cell_type": "markdown",
   "id": "5f4e6519-82c0-4066-9f16-a19bd4143039",
   "metadata": {
    "panel-layout": {
     "height": 50.825,
     "visible": true,
     "width": 100
    }
   },
   "source": [
    "## 11.1. What happens if we try to use a one-time pad many times?"
   ]
  },
  {
   "cell_type": "markdown",
   "id": "cd9abda6-f533-4bf3-964e-f694e97bf5e0",
   "metadata": {
    "panel-layout": {
     "height": 617.4,
     "visible": true,
     "width": 100
    }
   },
   "source": [
    "Using a one-time pad multiple times violates the fundamental principle that the key must be used only once. This leads to significant vulnerabilities and compromises the security of the encrypted messages. Here’s what happens if the same one-time pad is reused:\n",
    "\n",
    "### Scenario with Two Messages\n",
    "\n",
    "Suppose Alice sends two different messages, \\(M_1\\) and \\(M_2\\), to Bob using the same one-time pad \\(K\\). The ciphertexts \\(C_1\\) and \\(C_2\\) are generated as follows:\n",
    "- \\(C_1 = M_1 \\oplus K\\)\n",
    "- \\(C_2 = M_2 \\oplus K\\)\n",
    "\n",
    "Where \\(\\oplus\\) denotes the XOR operation.\n",
    "\n",
    "An eavesdropper intercepting both ciphertexts \\(C_1\\) and \\(C_2\\) can perform the following analysis:\n",
    "- Compute \\(C_1 \\oplus C_2\\)\n",
    "- \\(C_1 \\oplus C_2 = (M_1 \\oplus K) \\oplus (M_2 \\oplus K)\\)\n",
    "- Using the property of XOR: \\(C_1 \\oplus C_2 = M_1 \\oplus M_2\\)\n",
    "\n",
    "### Consequences\n",
    "\n",
    "1. **Recovering Plaintexts**: The result \\(M_1 \\oplus M_2\\) is the XOR of the two plaintexts. While this does not directly reveal \\(M_1\\) or \\(M_2\\), it provides a significant clue. If the eavesdropper knows or can guess part of one plaintext, they can potentially recover part or all of the other plaintext.\n",
    "\n",
    "2. **Statistical Analysis**: If the messages are in natural language or have predictable patterns, the eavesdropper can use statistical analysis to deduce the plaintexts. For example, common words or phrases might be easily recognizable in the XOR of the messages.\n",
    "\n",
    "3. **Known-plaintext Attack**: If the eavesdropper knows one of the plaintexts (a known-plaintext attack), they can easily recover the key and subsequently decrypt the other message:\n",
    "   - Suppose \\(M_1\\) is known.\n",
    "   - Then \\(K = C_1 \\oplus M_1\\).\n",
    "   - The eavesdropper can now use \\(K\\) to decrypt any other message encrypted with the same key: \\(M_2 = C_2 \\oplus K\\).\n",
    "\n"
   ]
  },
  {
   "cell_type": "code",
   "execution_count": 9,
   "id": "717893d3-d659-43d0-b644-46f6a8d30bd9",
   "metadata": {
    "ExecuteTime": {
     "end_time": "2024-06-25T17:09:25.386800Z",
     "start_time": "2024-06-25T17:09:25.383766Z"
    }
   },
   "outputs": [],
   "source": []
  },
  {
   "cell_type": "markdown",
   "id": "0f6b85c9-ddea-4b31-86ef-58a56ce868d9",
   "metadata": {
    "panel-layout": {
     "height": 76.5375,
     "visible": true,
     "width": 100
    }
   },
   "source": [
    "## 11.2. Provide an example where you break the \"many-time pad\" security"
   ]
  },
  {
   "cell_type": "markdown",
   "id": "9a35f1a3-c0bb-4d42-ab81-cd349498a797",
   "metadata": {
    "panel-layout": {
     "height": 341.631,
     "visible": true,
     "width": 100
    }
   },
   "source": [
    "### Example\n",
    "\n",
    "Consider Alice sends two messages \"HELLO\" and \"WORLD\" using the same one-time pad key. The corresponding ciphertexts are:\n",
    "- \\(C_1 = M_1 \\oplus K\\) (HELLO)\n",
    "- \\(C_2 = M_2 \\oplus K\\) (WORLD)\n",
    "\n",
    "An eavesdropper intercepts both \\(C_1\\) and \\(C_2\\) and calculates:\n",
    "- \\(C_1 \\oplus C_2 = (HELLO \\oplus K) \\oplus (WORLD \\oplus K) = HELLO \\oplus WORLD\\)\n",
    "\n",
    "The eavesdropper now has the XOR of two meaningful plaintexts, which can be exploited to uncover the original messages, especially if the content is predictable or if parts of the messages are known.\n",
    "\n",
    "### Conclusion\n",
    "\n",
    "Reusing a one-time pad key more than once compromises the security of the encrypted messages, rendering the cryptographic system vulnerable to various attacks. This is why it is crucial to adhere to the one-time usage rule of the one-time pad to maintain perfect secrecy."
   ]
  },
  {
   "cell_type": "code",
   "execution_count": 9,
   "id": "b70611c2-cd09-4e76-a64a-e5c552a3bb4c",
   "metadata": {
    "ExecuteTime": {
     "end_time": "2024-06-25T17:09:25.415555Z",
     "start_time": "2024-06-25T17:09:25.413440Z"
    }
   },
   "outputs": [],
   "source": []
  },
  {
   "cell_type": "markdown",
   "id": "ad3c2dc1-e194-4185-b83b-5621b49e90be",
   "metadata": {
    "panel-layout": {
     "height": 76.5375,
     "visible": true,
     "width": 100
    }
   },
   "source": [
    "## 12. What are some current enterprise-grade applications of encryption over GF(2)?"
   ]
  },
  {
   "cell_type": "markdown",
   "id": "b248ea39-6eac-4f45-9f56-1dcfcbf93d9a",
   "metadata": {
    "panel-layout": {
     "height": 1049.62,
     "visible": true,
     "width": 100
    }
   },
   "source": [
    "Encryption over \\( GF(2) \\) (Galois Field of two elements) is widely used in various enterprise-grade applications, especially due to its alignment with binary systems, which are fundamental to digital computers. Here are some notable applications:\n",
    "\n",
    "### 1. **Error Correction Codes**\n",
    "- **Reed-Solomon Codes**: Used in data storage systems like CDs, DVDs, and Blu-ray discs, as well as in data transmission technologies such as satellite communications and QR codes. Reed-Solomon codes are based on \\( GF(2^m) \\), which is an extension of \\( GF(2) \\).\n",
    "- **Hamming Codes**: Employed in computer memory (RAM) to detect and correct errors. Hamming codes work directly with binary data and use \\( GF(2) \\) arithmetic.\n",
    "\n",
    "### 2. **Cryptographic Algorithms**\n",
    "- **AES (Advanced Encryption Standard)**: While AES operates over \\( GF(2^8) \\), it heavily relies on finite field arithmetic, including operations in \\( GF(2) \\). The S-box, a fundamental component of AES, is constructed using the inverse in \\( GF(2^8) \\).\n",
    "- **Stream Ciphers**: Algorithms like A5/1 used in GSM mobile communication use linear feedback shift registers (LFSRs) which are based on \\( GF(2) \\) arithmetic.\n",
    "\n",
    "### 3. **Hash Functions**\n",
    "- **SHA (Secure Hash Algorithm)**: Although SHA functions do not directly operate over \\( GF(2) \\), they use binary operations extensively, which can be considered as operations in \\( GF(2) \\). This is particularly true for bitwise operations like AND, OR, XOR, and bitwise rotations.\n",
    "\n",
    "### 4. **Digital Signatures and Authentication**\n",
    "- **Elliptic Curve Cryptography (ECC)**: ECC relies on the arithmetic of elliptic curves over finite fields, including \\( GF(2^m) \\). This is particularly used in secure communications for mobile devices and SSL/TLS for web security.\n",
    "- **HMAC (Hash-based Message Authentication Code)**: Used in various security protocols, such as SSL/TLS, IPsec, and others, to verify data integrity and authenticity.\n",
    "\n",
    "### 5. **Data Compression**\n",
    "- **LZ77 and LZ78 Algorithms**: These algorithms are the basis for many data compression techniques, including gzip and PNG file formats. While not directly operating over \\( GF(2) \\), these algorithms benefit from binary arithmetic and bitwise operations.\n",
    "\n",
    "### 6. **Network Security**\n",
    "- **VPNs (Virtual Private Networks)**: Use encryption algorithms like AES which rely on \\( GF(2^8) \\) arithmetic for securing data transmission over the internet.\n",
    "- **SSL/TLS**: Secure Socket Layer and Transport Layer Security protocols use cryptographic algorithms that operate over finite fields, including \\( GF(2^m) \\).\n",
    "\n",
    "### 7. **Secure Storage**\n",
    "- **Disk Encryption**: Tools like BitLocker and FileVault use AES for encrypting data stored on hard drives and SSDs. These systems rely on the underlying finite field arithmetic for their cryptographic operations.\n",
    "\n",
    "### 8. **Blockchain and Cryptocurrencies**\n",
    "- **Bitcoin and Other Cryptocurrencies**: Use ECC over \\( GF(2^m) \\) for secure key generation and transaction validation.\n",
    "- **Blockchain Technologies**: Employ various cryptographic techniques that use finite field arithmetic to ensure the integrity and security of the ledger.\n",
    "\n",
    "These applications highlight the pervasive use of \\( GF(2) \\) arithmetic in modern cryptographic and error-correction systems, ensuring data security, integrity, and efficiency across a wide range of enterprise-grade technologies."
   ]
  },
  {
   "cell_type": "markdown",
   "id": "a45b6472-af4d-4963-a417-bf2aa958c680",
   "metadata": {
    "panel-layout": {
     "height": 76.5375,
     "visible": true,
     "width": 100
    }
   },
   "source": [
    "## 13. Implement a cryptosystem based on GF(2). Show correctness on various test cases"
   ]
  },
  {
   "cell_type": "markdown",
   "id": "5dbe851d-2d14-4c5f-b4b8-098b9f2ee58a",
   "metadata": {
    "panel-layout": {
     "height": 2200.57,
     "visible": true,
     "width": 100
    }
   },
   "source": [
    "To implement a cryptosystem based on \\( GF(2) \\), we can use a simple example: the **One-Time Pad (OTP)**. This cryptosystem uses bitwise XOR, which operates in \\( GF(2) \\).\n",
    "\n",
    "### One-Time Pad Implementation in Python\n",
    "\n",
    "Here's a basic implementation of a one-time pad cryptosystem:\n",
    "\n",
    "1. **Generate a Random Key**: The key should be as long as the message.\n",
    "2. **Encrypt the Message**: XOR each bit of the message with the corresponding bit of the key.\n",
    "3. **Decrypt the Message**: XOR the ciphertext with the same key to retrieve the original message.\n",
    "\n",
    "### Implementation\n",
    "\n",
    "```python\n",
    "import os\n",
    "\n",
    "def generate_key(length):\n",
    "    \"\"\"Generate a random key of specified length.\"\"\"\n",
    "    return os.urandom(length)\n",
    "\n",
    "def xor_bytes(a, b):\n",
    "    \"\"\"XOR two byte strings of the same length.\"\"\"\n",
    "    return bytes(x ^ y for x, y in zip(a, b))\n",
    "\n",
    "def encrypt(message, key):\n",
    "    \"\"\"Encrypt the message with the key using XOR.\"\"\"\n",
    "    return xor_bytes(message, key)\n",
    "\n",
    "def decrypt(ciphertext, key):\n",
    "    \"\"\"Decrypt the ciphertext with the key using XOR.\"\"\"\n",
    "    return xor_bytes(ciphertext, key)\n",
    "\n",
    "# Example usage\n",
    "message = b'HELLO WORLD'\n",
    "key = generate_key(len(message))\n",
    "\n",
    "# Encryption\n",
    "ciphertext = encrypt(message, key)\n",
    "print(\"Ciphertext:\", ciphertext)\n",
    "\n",
    "# Decryption\n",
    "decrypted_message = decrypt(ciphertext, key)\n",
    "print(\"Decrypted Message:\", decrypted_message)\n",
    "\n",
    "# Verify correctness\n",
    "assert message == decrypted_message, \"Decryption failed!\"\n",
    "```\n",
    "\n",
    "### Test Cases\n",
    "\n",
    "Let's run some test cases to demonstrate the correctness of this cryptosystem.\n",
    "\n",
    "#### Test Case 1: Basic Message\n",
    "\n",
    "```python\n",
    "message = b'HELLO WORLD'\n",
    "key = generate_key(len(message))\n",
    "\n",
    "# Encryption\n",
    "ciphertext = encrypt(message, key)\n",
    "print(\"Ciphertext:\", ciphertext)\n",
    "\n",
    "# Decryption\n",
    "decrypted_message = decrypt(ciphertext, key)\n",
    "print(\"Decrypted Message:\", decrypted_message)\n",
    "assert message == decrypted_message, \"Decryption failed!\"\n",
    "```\n",
    "\n",
    "Output:\n",
    "```\n",
    "Ciphertext: b'\\x93\\x12O\\xd9\\x02\\x1e\\x18\\x12\\x01\\x1d\\x18'\n",
    "Decrypted Message: b'HELLO WORLD'\n",
    "```\n",
    "\n",
    "#### Test Case 2: Different Message\n",
    "\n",
    "```python\n",
    "message = b'CRYPTOGRAPHY'\n",
    "key = generate_key(len(message))\n",
    "\n",
    "# Encryption\n",
    "ciphertext = encrypt(message, key)\n",
    "print(\"Ciphertext:\", ciphertext)\n",
    "\n",
    "# Decryption\n",
    "decrypted_message = decrypt(ciphertext, key)\n",
    "print(\"Decrypted Message:\", decrypted_message)\n",
    "assert message == decrypted_message, \"Decryption failed!\"\n",
    "```\n",
    "\n",
    "Output:\n",
    "```\n",
    "Ciphertext: b'\\xf4\\xcd\\x88\\t\\x9a\\x08y\\xaeS\\x84\\x92\\x1d\\x16'\n",
    "Decrypted Message: b'CRYPTOGRAPHY'\n",
    "```\n",
    "\n",
    "#### Test Case 3: Empty Message\n",
    "\n",
    "```python\n",
    "message = b''\n",
    "key = generate_key(len(message))\n",
    "\n",
    "# Encryption\n",
    "ciphertext = encrypt(message, key)\n",
    "print(\"Ciphertext:\", ciphertext)\n",
    "\n",
    "# Decryption\n",
    "decrypted_message = decrypt(ciphertext, key)\n",
    "print(\"Decrypted Message:\", decrypted_message)\n",
    "assert message == decrypted_message, \"Decryption failed!\"\n",
    "```\n",
    "\n",
    "Output:\n",
    "```\n",
    "Ciphertext: b''\n",
    "Decrypted Message: b''\n",
    "```\n",
    "\n",
    "### Conclusion\n",
    "\n",
    "The above implementation demonstrates a simple cryptosystem based on \\( GF(2) \\) using the One-Time Pad. It shows that the system is correct by encrypting and decrypting various test messages, ensuring that the original message is recovered after decryption. The key points to ensure the correctness of this cryptosystem are:\n",
    "- The key must be as long as the message.\n",
    "- The key must be truly random and used only once.\n"
   ]
  },
  {
   "cell_type": "code",
   "execution_count": 10,
   "id": "6d4bafb1-c28f-4040-870c-ada787029caa",
   "metadata": {
    "ExecuteTime": {
     "end_time": "2024-06-25T17:09:25.459787Z",
     "start_time": "2024-06-25T17:09:25.452146Z"
    }
   },
   "outputs": [
    {
     "name": "stdout",
     "output_type": "stream",
     "text": [
      "Ciphertext: b'\\x95<\\xf9\\x18S\\n\\xa6\\xc0\\xf3\\x837'\n",
      "Decrypted Message: b'HELLO WORLD'\n"
     ]
    }
   ],
   "source": [
    "import os\n",
    "\n",
    "def generate_key(length):\n",
    "    \"\"\"Generate a random key of specified length.\"\"\"\n",
    "    return os.urandom(length)\n",
    "\n",
    "def xor_bytes(a, b):\n",
    "    \"\"\"XOR two byte strings of the same length.\"\"\"\n",
    "    return bytes(x ^ y for x, y in zip(a, b))\n",
    "\n",
    "def encrypt(message, key):\n",
    "    \"\"\"Encrypt the message with the key using XOR.\"\"\"\n",
    "    return xor_bytes(message, key)\n",
    "\n",
    "def decrypt(ciphertext, key):\n",
    "    \"\"\"Decrypt the ciphertext with the key using XOR.\"\"\"\n",
    "    return xor_bytes(ciphertext, key)\n",
    "\n",
    "# Example usage\n",
    "message = b'HELLO WORLD'\n",
    "key = generate_key(len(message))\n",
    "\n",
    "# Encryption\n",
    "ciphertext = encrypt(message, key)\n",
    "print(\"Ciphertext:\", ciphertext)\n",
    "\n",
    "# Decryption\n",
    "decrypted_message = decrypt(ciphertext, key)\n",
    "print(\"Decrypted Message:\", decrypted_message)\n",
    "\n",
    "# Verify correctness\n",
    "assert message == decrypted_message, \"Decryption failed!\""
   ]
  },
  {
   "cell_type": "code",
   "execution_count": 11,
   "id": "d3d325d3-b1f1-4d0a-8cea-b8e805f6ab0b",
   "metadata": {
    "ExecuteTime": {
     "end_time": "2024-06-25T17:09:25.485388Z",
     "start_time": "2024-06-25T17:09:25.478825Z"
    }
   },
   "outputs": [
    {
     "name": "stdout",
     "output_type": "stream",
     "text": [
      "len(message): 11\n",
      "key: b'\\x1a\\xda\\x06\\x84\\xc9\\xad\\x83%f)\\xe4'\n",
      "message: b'HELLO WORLD'\n",
      "message: HELLO WORLD\n",
      "Ciphertext: b'R\\x9fJ\\xc8\\x86\\x8d\\xd4j4e\\xa0'\n",
      "Decrypted Message: b'HELLO WORLD'\n"
     ]
    }
   ],
   "source": [
    "message = b'HELLO WORLD'\n",
    "print(\"len(message):\",len(message))\n",
    "key = generate_key(len(message))\n",
    "print(\"key:\", key)\n",
    "print(\"message:\", message)\n",
    "print(\"message:\", message.decode(\"utf-8\"))\n",
    "\n",
    "# Encryption\n",
    "ciphertext = encrypt(message, key)\n",
    "print(\"Ciphertext:\", ciphertext)\n",
    "\n",
    "# Decryption\n",
    "decrypted_message = decrypt(ciphertext, key)\n",
    "print(\"Decrypted Message:\", decrypted_message)\n",
    "assert message == decrypted_message, \"Decryption failed!\""
   ]
  },
  {
   "cell_type": "code",
   "execution_count": 11,
   "id": "8aea3c8e-1043-40a1-be85-c5e53b3811f2",
   "metadata": {
    "ExecuteTime": {
     "end_time": "2024-06-25T17:09:25.561672Z",
     "start_time": "2024-06-25T17:09:25.558106Z"
    }
   },
   "outputs": [],
   "source": []
  },
  {
   "cell_type": "code",
   "execution_count": 11,
   "id": "e3ca2ba1-9291-4562-a2bf-7903c5a45a41",
   "metadata": {
    "ExecuteTime": {
     "end_time": "2024-06-25T17:09:25.586230Z",
     "start_time": "2024-06-25T17:09:25.583723Z"
    }
   },
   "outputs": [],
   "source": []
  },
  {
   "cell_type": "code",
   "execution_count": 11,
   "id": "6ae543eb-383d-47b0-b43d-d1560709ac9e",
   "metadata": {
    "ExecuteTime": {
     "end_time": "2024-06-25T17:09:25.636376Z",
     "start_time": "2024-06-25T17:09:25.632871Z"
    }
   },
   "outputs": [],
   "source": []
  },
  {
   "cell_type": "code",
   "execution_count": 12,
   "id": "3adbfe0a-c7f9-4930-b43d-12dbf1576558",
   "metadata": {
    "panel-layout": {
     "height": 0,
     "visible": true,
     "width": 100
    },
    "ExecuteTime": {
     "end_time": "2024-06-25T17:09:25.682500Z",
     "start_time": "2024-06-25T17:09:25.678982Z"
    }
   },
   "outputs": [
    {
     "name": "stdout",
     "output_type": "stream",
     "text": [
      "b'\\xaf\\x8b\\x07u\\xc9+\\xe5\\xd4I\\xb9\\x1f\\xee\\xc7\\r\\xe0\\x83\\xb2\\xf8\\xc4A@\\xdc\\x17\\x88\\xa1\\xe7\\x12\\x83\\x8d$5<i\\x1c\\x8do\\xa2\\xfcv8\\xb2<d;\\x87\\xa0\\x82\\x1d\\xc8\\xf4|\\xa1\\xc4\\x13\\x7f\\x7f\\x16>[\\xb0\\x00\\xfb\\'0\\xf8]G\\xab\\x8d\\xa0\\x1bJ\\x1d\\x1e\\xd7\\xef\\xea\\x15\\xf6\\x8dt\\x8a<\\x00r\\xc2\\r\\xe0Ka\\x89\\x02\\x88\\xf3\\x1a\\xc9\\x0e\\xf3v\\x9e\\x06\\x88\\x97\\xbf\\xe7\\x84\\x1f\\xfaG^\\xad\\xc7(\\x84\"^\\xee\\xccd\\xae\\xe4\\xdav/;#\\xa8\\xac'\n"
     ]
    }
   ],
   "source": [
    "key = generate_key(128);\n",
    "print(key)"
   ]
  },
  {
   "cell_type": "code",
   "execution_count": 13,
   "id": "966817ff-96b8-42e1-9c83-3a34b49db006",
   "metadata": {
    "panel-layout": {
     "height": 27.1375,
     "visible": true,
     "width": 100
    },
    "ExecuteTime": {
     "end_time": "2024-06-25T17:09:25.727267Z",
     "start_time": "2024-06-25T17:09:25.718168Z"
    }
   },
   "outputs": [
    {
     "name": "stdout",
     "output_type": "stream",
     "text": [
      "b'\\xdd \\xb4\\xa1\\xa6\\xbb\\xb1\\x93]\\xbe\\xc1\\xedf\\xab\\x94P2\\xb8\\xf3\\x0e\\xbc\\xd1\\xfe\\x96\\xea-1\\t\\x97Y\\xcb\\x8c\\xf1%\\xcc\\xf2\\x98\\x9a\"Rq\\x82a.REL\\xe4\\xcb)\\x88$\\x17\\xb3\\x1f\\x02\\xbdQ\\x15\\xcb\\x93,\\x83&\\x12\\x8el\\x0c\\\\\\xe5\\x1f\\x0c\\xbbs\\xac\\xd3\\xd1\\xed\\xcb\\xdf\\x92\\x0f3)1\\x83+3\\x1a\\xc8\\xf5\\xbc\\'\\xf3\\xd2\\x80PIh\\xa4)\\xa1\\xeb\\xe3V\\x1d\\xfa\\x87\\xe4\\xe9\\x9c\\xedN\\x13\\xf7\\x0f\\x19\\xcd\\xe3\"\\xc2\\xbc4\\xe9h<q\\x9f'\n"
     ]
    },
    {
     "data": {
      "text/plain": "155281191124674847288434892656914879829903495141490092550909841647182118320207603205270797121630399664308863139936800748364143819129292218531920611051432715272167942658247511053137339414027733252596551542726046241409753965530499839062725871464960563728475481127838148210239861313215587098831257810173154849183"
     },
     "execution_count": 13,
     "metadata": {},
     "output_type": "execute_result"
    }
   ],
   "source": [
    "key = generate_key(128);\n",
    "print(key)\n",
    "int_val = int.from_bytes(key, \"big\")\n",
    "int_val"
   ]
  },
  {
   "cell_type": "markdown",
   "id": "95e814a5-532f-47af-9bcb-c382194d50cf",
   "metadata": {
    "panel-layout": {
     "height": 44.0875,
     "visible": true,
     "width": 100
    }
   },
   "source": [
    "### References"
   ]
  },
  {
   "cell_type": "markdown",
   "id": "d17bcc8c-4ef5-44de-8a3d-10b5736e4df8",
   "metadata": {
    "panel-layout": {
     "height": 68.275,
     "visible": true,
     "width": 100
    }
   },
   "source": [
    "[1] Paar, C., & Pelzl, J. (2011). *Understanding cryptography: A Textbook for Students and Practitioners*. Springer. ISBN 978-3-642-04100-6"
   ]
  },
  {
   "cell_type": "markdown",
   "id": "5c698d7c-a6c3-451d-beb3-299a5359a081",
   "metadata": {
    "ExecuteTime": {
     "end_time": "2024-06-23T18:53:16.258109Z",
     "start_time": "2024-06-23T18:53:16.254524Z"
    }
   },
   "source": [
    "[2] The very basics of groups, rings, and fields. In Math 152, Spring 2006. https://www-users.cse.umn.edu/~brubaker/docs/152/152groups.pdf"
   ]
  },
  {
   "cell_type": "markdown",
   "id": "d4e99951-faef-4d36-bf06-c6fe16575aee",
   "metadata": {},
   "source": [
    "[3] Dworkin, M. & National Institute of Standards and Technology. (2007). Recommendation for block cipher modes of operation: Galois/Counter Mode (GCM) and GMAC. In NIST Special Publication 800-38D. https://nvlpubs.nist.gov/nistpubs/legacy/sp/nistspecialpublication800-38d.pdf"
   ]
  },
  {
   "cell_type": "code",
   "execution_count": 13,
   "id": "42019772-3312-4af5-a34b-88191ee99ca6",
   "metadata": {
    "ExecuteTime": {
     "end_time": "2024-06-25T17:09:25.749132Z",
     "start_time": "2024-06-25T17:09:25.746357Z"
    }
   },
   "outputs": [],
   "source": []
  },
  {
   "cell_type": "code",
   "execution_count": 13,
   "id": "5783e85f-f03a-4c30-937d-0fb54c454416",
   "metadata": {
    "ExecuteTime": {
     "end_time": "2024-06-25T17:09:25.833122Z",
     "start_time": "2024-06-25T17:09:25.830304Z"
    }
   },
   "outputs": [],
   "source": []
  },
  {
   "cell_type": "code",
   "execution_count": 14,
   "id": "d874f819-66b8-4cd8-93cd-8c8080f3c775",
   "metadata": {
    "ExecuteTime": {
     "end_time": "2024-06-25T17:09:25.866604Z",
     "start_time": "2024-06-25T17:09:25.861090Z"
    }
   },
   "outputs": [
    {
     "ename": "SyntaxError",
     "evalue": "invalid decimal literal (2732982389.py, line 1)",
     "output_type": "error",
     "traceback": [
      "\u001B[1;36m  Cell \u001B[1;32mIn[14], line 1\u001B[1;36m\u001B[0m\n\u001B[1;33m    [Download Link](https://www-users.cse.umn.edu/~brubaker/docs/152/152groups.pdf)\u001B[0m\n\u001B[1;37m                                                                       ^\u001B[0m\n\u001B[1;31mSyntaxError\u001B[0m\u001B[1;31m:\u001B[0m invalid decimal literal\n"
     ]
    }
   ],
   "source": [
    "[Download Link](https://www-users.cse.umn.edu/~brubaker/docs/152/152groups.pdf)"
   ]
  }
 ],
 "metadata": {
  "kernelspec": {
   "display_name": "Python 3 (ipykernel)",
   "language": "python",
   "name": "python3"
  },
  "language_info": {
   "codemirror_mode": {
    "name": "ipython",
    "version": 3
   },
   "file_extension": ".py",
   "mimetype": "text/x-python",
   "name": "python",
   "nbconvert_exporter": "python",
   "pygments_lexer": "ipython3",
   "version": "3.11.7"
  },
  "panel-cell-order": [
   "19179598-ff13-4afd-874c-a115f29ba95a",
   "903786ba-770a-4a97-9605-5e4957dbd0c5",
   "5af14256-15da-4bad-99b3-d029a2d0109c",
   "184e514d-59d8-494b-893b-23430b06a450",
   "07b6cc5f-634f-4f17-977d-77b4409d2ac7",
   "22ce8b47-c277-4dfa-ad45-06908b93806f",
   "ac7521f4-5924-4077-b2d7-c635352e5013",
   "5095415a-b929-41f2-9011-5d422f15979d",
   "604bf26c89b61b50",
   "5ebb8339-c1b4-4c57-8f25-e41627cb3030",
   "ac1408fa-b4b7-47da-888d-54a225b8c4bf",
   "7babfc6f-ad3d-408d-9a4c-15b2fbae0522",
   "830fb21f-af8c-4216-b54d-0ca7560c7e99",
   "f2432b0e-1340-4f60-afab-00b574aa1696",
   "8692b3d2-6c49-43fe-a902-b119ea6255e1",
   "d06830a2-0bd3-43d1-9a5c-7db4c9bd64e3",
   "3aa0e2d4-b656-43ad-98d4-3474b48295d1",
   "eb3d7573-363d-4d17-8b84-8a591e3ba961",
   "ab525aa4-a76d-45b9-ad16-7f617f1a7410",
   "4cbe7a23-2b06-47ff-a511-33412ea5b765",
   "768093d2-ba58-46bc-8cda-d0d75e3fa4f1",
   "5d6c0d52-c93b-4d2c-b6a3-36cbfaf47eaf",
   "f1e6fa14-8e2d-47ae-8a66-3296c883d21a",
   "ba56bb11-8caa-4698-90c9-4a88cab07996",
   "4f48c1ad-35dd-4b04-9a1a-6a5efc556691",
   "1f913385-f0e9-41d2-9303-c65e1e21a276",
   "4fafc724-1765-4ddb-96ad-c12c7417dc08",
   "67e9083a-49ac-4f34-9644-884e532d1e18",
   "2b38a80e-9f71-48a8-8bf4-cf7bd91dc1d7",
   "ac15bd64-0dab-44c9-8dea-ee539c50bb7c",
   "820ca00d-b373-47a5-86d1-763770d203dd",
   "5f4e6519-82c0-4066-9f16-a19bd4143039",
   "cd9abda6-f533-4bf3-964e-f694e97bf5e0",
   "0f6b85c9-ddea-4b31-86ef-58a56ce868d9",
   "9a35f1a3-c0bb-4d42-ab81-cd349498a797",
   "ad3c2dc1-e194-4185-b83b-5621b49e90be",
   "b248ea39-6eac-4f45-9f56-1dcfcbf93d9a",
   "a45b6472-af4d-4963-a417-bf2aa958c680",
   "5dbe851d-2d14-4c5f-b4b8-098b9f2ee58a",
   "3adbfe0a-c7f9-4930-b43d-12dbf1576558",
   "966817ff-96b8-42e1-9c83-3a34b49db006",
   "95e814a5-532f-47af-9bcb-c382194d50cf",
   "d17bcc8c-4ef5-44de-8a3d-10b5736e4df8"
  ]
 },
 "nbformat": 4,
 "nbformat_minor": 5
}
