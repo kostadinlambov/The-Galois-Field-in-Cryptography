import sympy as sp
import galois as g






























































































































































import sympy as sp
from sympy.abc import x
from sympy.polys.rings import ring

# Define the finite field GF(p), where p is a prime number
p = 5  # You can change this to any prime number
GF = sp.GF(p)

# Define the polynomial ring over GF(p)
#x = sp.symbols('x')
R = ring(x, GF)


# Define polynomials in R
poly1 = R.convert(sp.Poly(x**3 + 2*x**2 + 3*x + 4, x))
poly2 = R.convert(sp.Poly(x**2 + 4*x + 1, x))

# Print the polynomials
print(f"Polynomial 1: {poly1}")
print(f"Polynomial 2: {poly2}")

# Perform polynomial addition
sum_poly = poly1 + poly2
print(f"Sum: {sum_poly}")

# Perform polynomial subtraction
sub_poly = poly1 - poly2
print(f"Subtraction: {sub_poly}")

# Perform polynomial multiplication
mul_poly = poly1 * poly2
print(f"Multiplication: {mul_poly}")

# Define a modulus polynomial for reduction
mod_poly = R.convert(sp.Poly(x**3 + x + 1, x))

# Perform polynomial division
quotient, remainder = divmod(mul_poly, mod_poly)
print(f"Quotient: {quotient}")
print(f"Remainder: {remainder}")

# Perform polynomial division with remainder
reduced_poly = mul_poly % mod_poly
print(f"Reduced Polynomial: {reduced_poly}")



import sympy as sp
from sympy.abc import x
from sympy.polys.rings import ring

# Define the finite field GF(p), where p is a prime number
p = 5  # You can change this to any prime number
GF = sp.GF(p)

# Define the polynomial ring over GF(p)
#x = sp.symbols('x')
R = ring(x, GF)
R

p = sp.Poly(x**3 + 2*x**2 + 3*x + 4, x)
p.domain

poly1 = R.convert(sp.Poly(x**3 + 2*x**2 + 3*x + 4, x))
# Define polynomials in R
# poly1 = R.convert(sp.Poly(x**3 + 2*x**2 + 3*x + 4, x))
# poly2 = R.convert(sp.Poly(x**2 + 4*x + 1, x))


























































































import random

def generate_one_bit_key():
    """Generate a random one-bit key (0 or 1)."""
    return random.randint(0, 1)

def encrypt_one_bit_message(message, key):
    """Encrypt a one-bit message using the one-time pad."""
    return message ^ key

def decrypt_one_bit_message(ciphertext, key):
    """Decrypt a one-bit message using the one-time pad."""
    return ciphertext ^ key



# Example usage

# One-bit message (0 or 1)
message = 1  # Let's assume the message is '1'
key = generate_one_bit_key()
print(f"Key: {key}")

# Encryption
ciphertext = encrypt_one_bit_message(message, key)
print(f"Ciphertext: {ciphertext}")

# Decryption
decrypted_message = decrypt_one_bit_message(ciphertext, key)
print(f"Decrypted Message: {decrypted_message}")

# Verify correctness
assert message == decrypted_message, "Decryption failed!"


























import os

def generate_key(length):
    """Generate a random key of specified length in bytes."""
    return os.urandom(length)

def xor_bytes(a, b):
    """XOR two byte strings of the same length."""
    return bytes(x ^ y for x, y in zip(a, b))

def encrypt(message, key):
    """Encrypt the message with the key using XOR."""
    return xor_bytes(message, key)

def decrypt(ciphertext, key):
    """Decrypt the ciphertext with the key using XOR."""
    return xor_bytes(ciphertext, key)


# Example usage

# Multi-bit message (byte string)
message = b'HELLO WORLD'
key = generate_key(len(message))
print("key:", key)

# Encryption
ciphertext = encrypt(message, key)
print("Ciphertext:", ciphertext)

# Decryption
decrypted_message = decrypt(ciphertext, key)
print("Decrypted Message:", decrypted_message)

# Verify correctness
assert message == decrypted_message, "Decryption failed!"








# Test Case 1: Basic Message

message = b'HELLO WORLD'
key = generate_key(len(message))

# Encryption
ciphertext = encrypt(message, key)
print("Ciphertext:", ciphertext)

# Decryption
decrypted_message = decrypt(ciphertext, key)
print("Decrypted Message:", decrypted_message)
assert message == decrypted_message, "Decryption failed!"


# Test Case 2: Different Message

message = b'CRYPTOGRAPHY'
key = generate_key(len(message))

# Encryption
ciphertext = encrypt(message, key)
print("Ciphertext:", ciphertext)

# Decryption
decrypted_message = decrypt(ciphertext, key)
print("Decrypted Message:", decrypted_message)
assert message == decrypted_message, "Decryption failed!"


# Test Case 3: Empty Message

message = b''
key = generate_key(len(message))

# Encryption
ciphertext = encrypt(message, key)
print("Ciphertext:", ciphertext)

# Decryption
decrypted_message = decrypt(ciphertext, key)
print("Decrypted Message:", decrypted_message)
assert message == decrypted_message, "Decryption failed!"



































# In order to run this code you have to install 'pycryptodome' locally:
# - https://github.com/conda-forge/pycryptodome-feedstock
#
# 1. conda config --add channels conda-forge
# 2. conda config --set channel_priority strict
# 3. conda install pycryptodome

from Crypto.Cipher import AES
from Crypto.Random import get_random_bytes

def pad(data):
    """Pad data to be a multiple of AES block size (16 bytes)."""
    padding_length = AES.block_size - len(data) % AES.block_size
    return data + bytes([padding_length]) * padding_length

def unpad(data):
    """Remove padding from data."""
    return data[:-data[-1]]

def encrypt(plaintext, key):
    """Encrypt plaintext using AES."""
    cipher = AES.new(key, AES.MODE_CBC)
    ciphertext = cipher.iv + cipher.encrypt(pad(plaintext))
    return ciphertext

def decrypt(ciphertext, key):
    """Decrypt ciphertext using AES."""
    iv = ciphertext[:AES.block_size]
    cipher = AES.new(key, AES.MODE_CBC, iv)
    plaintext = unpad(cipher.decrypt(ciphertext[AES.block_size:]))
    return plaintext


# Example usage

key = get_random_bytes(16) # AES key must be 16, 24, or 32 bytes long
print("key: ", key)
plaintext = b"Secret Message"
ciphertext = encrypt(plaintext, key)
print("Ciphertext:", ciphertext)

decrypted_message = decrypt(ciphertext, key)
print("Decrypted Message:", decrypted_message)

# Verify correctness
assert plaintext == decrypted_message, "Decryption failed!"










































