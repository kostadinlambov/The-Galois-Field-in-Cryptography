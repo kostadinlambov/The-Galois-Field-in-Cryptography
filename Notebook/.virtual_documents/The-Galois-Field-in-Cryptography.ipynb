# imports






























































import random

def generate_one_bit_key():
    """Generate a random one-bit key (0 or 1)."""
    return random.randint(0, 1)

def encrypt_one_bit_message(message, key):
    """Encrypt a one-bit message using the one-time pad."""
    return message ^ key

def decrypt_one_bit_message(ciphertext, key):
    """Decrypt a one-bit message using the one-time pad."""
    return ciphertext ^ key

# Example usage

# One-bit message (0 or 1)
message = 1  # Let's assume the message is '1'
key = generate_one_bit_key()
print(f"Key: {key}")

# Encryption
ciphertext = encrypt_one_bit_message(message, key)
print(f"Ciphertext: {ciphertext}")

# Decryption
decrypted_message = decrypt_one_bit_message(ciphertext, key)
print(f"Decrypted Message: {decrypted_message}")

# Verify correctness
assert message == decrypted_message, "Decryption failed!"







































































import os

def generate_key(length):
    """Generate a random key of specified length."""
    return os.urandom(length)

def xor_bytes(a, b):
    """XOR two byte strings of the same length."""
    return bytes(x ^ y for x, y in zip(a, b))

def encrypt(message, key):
    """Encrypt the message with the key using XOR."""
    return xor_bytes(message, key)

def decrypt(ciphertext, key):
    """Decrypt the ciphertext with the key using XOR."""
    return xor_bytes(ciphertext, key)

# Example usage
message = b'HELLO WORLD'
key = generate_key(len(message))

# Encryption
ciphertext = encrypt(message, key)
print("Ciphertext:", ciphertext)

# Decryption
decrypted_message = decrypt(ciphertext, key)
print("Decrypted Message:", decrypted_message)

# Verify correctness
assert message == decrypted_message, "Decryption failed!"


message = b'HELLO WORLD'
print("len(message):",len(message))
key = generate_key(len(message))
print("key:", key)
print("message:", message)
print("message:", message.decode("utf-8"))

# Encryption
ciphertext = encrypt(message, key)
print("Ciphertext:", ciphertext)

# Decryption
decrypted_message = decrypt(ciphertext, key)
print("Decrypted Message:", decrypted_message)
assert message == decrypted_message, "Decryption failed!"











key = generate_key(128);
print(key)


key = generate_key(128);
print(key)
int_val = int.from_bytes(key, "big")
int_val












