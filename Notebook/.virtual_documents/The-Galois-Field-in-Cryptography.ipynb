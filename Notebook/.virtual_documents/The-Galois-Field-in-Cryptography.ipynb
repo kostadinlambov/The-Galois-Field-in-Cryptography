import numpy as np
# To be able to use the 'galois' library, you must install it locally - https://galois.readthedocs.io/en/v0.3.9/getting-started/
import galois

from Crypto.Cipher import AES
from Crypto.Random import get_random_bytes








































































































GF7 = galois.GF(7)
print(GF7.properties)





GF7.elements








# Define first number in GF(7)
a = GF7(3)
print("first num: ", a)

# Define second number in GF(7)
b = GF7(5)
print("second num: ", b)

# Addition of '3' and '5' in GF(7)
sum = a + b
print("sum in GF(7): ", sum)





# Arithmetic table for addition in GF7
print(GF7.arithmetic_table("+"))





print("first num: ", a)
print("second num: ", b)

# Subtraction of '3' and '5' in GF(7)
diff = a - b
print("difference in GF(7): ", diff)





# Arithmetic table for subtraction in GF7
print(GF7.arithmetic_table("-"))





print("first num: ", a)
print("second num: ", b)

# Multiplication of '3' and '5' in GF(7)
prod = a * b
print("product in GF(7): ", prod)





# Arithmetic table for multiplication in GF7
print(GF7.arithmetic_table("*"))








print("number to get the multiplicative inverse from: ", b)

# compute multiplicative inverse with 'galois' library
mult_inv_g = b ** -1
print("multiplicative inverse 'galois': ", mult_inv_g)

# compute multiplicative inverse with 'numpy'
mult_inv_np = np.reciprocal(b)
print("multiplicative inverse 'numpy': ", mult_inv_np)








quot_1 = a * b**-1
print("multiplication with inversed number: ", quot_1)


quot_2 = a / b
print("quotient: ", quot_2)





# Arithmetic table for division in GF7
print(GF7.arithmetic_table("/"))






























































# Create extension field GF(9). 
# repr="poly" - using the polynomial representation to display the elements
GF9 = galois.GF(3**2, repr="poly")
print(GF9.properties)









GF9.elements











# get irreducible polynomial for GF(3)
f = GF9.irreducible_poly;
print("irreducible polynomial: ", f)
f














GF3 = galois.GF(3)

a_poly = galois.Poly([1, 2], field=GF3); a_poly


b_poly = galois.Poly([1, 1], field=GF3); b_poly





# Define first element from the GF(9)
a = GF9("x + 2")
print("first element from GF(9): ", a)
a


# Define second element from the GF(9)
b = GF9("x + 1")
print("second element from GF(9): ", b)
b








# Sum of a = x + 2 and b = x + 1 in GF(3^2)
sum = a + b
sum





# Arithmetic table for addition in GF(3^2)
print(GF9.arithmetic_table("+"))











# Subtraction of a = x + 2 and b = x + 1 in GF(3^2)
diff = a - b
diff





# Arithmetic table for subtraction in GF(3^2)
print(GF9.arithmetic_table("-"))











# Multiplication of a = x + 2 and b = x + 1 in GF(3^2)
prod = a * b
prod





# Arithmetic table for multiplication in GF(3^2)
print(GF9.arithmetic_table("*"))











































































































import random

def generate_one_bit_key():
    """Generate a random one-bit key (0 or 1)."""
    return random.randint(0, 1)

def encrypt_one_bit_message(message, key):
    """Encrypt a one-bit message using the one-time pad."""
    return message ^ key

def decrypt_one_bit_message(ciphertext, key):
    """Decrypt a one-bit message using the one-time pad."""
    return ciphertext ^ key



# Example usage

# One-bit message (0 or 1)
message = 1  # Let's assume the message is '1'
key = generate_one_bit_key()
print(f"Key: {key}")

# Encryption
ciphertext = encrypt_one_bit_message(message, key)
print(f"Ciphertext: {ciphertext}")

# Decryption
decrypted_message = decrypt_one_bit_message(ciphertext, key)
print(f"Decrypted Message: {decrypted_message}")

# Verify correctness
assert message == decrypted_message, "Decryption failed!"


























import os

def generate_key(length):
    """Generate a random key of specified length in bytes."""
    return os.urandom(length)

def xor_bytes(a, b):
    """XOR two byte strings of the same length."""
    return bytes(x ^ y for x, y in zip(a, b))

def encrypt(message, key):
    """Encrypt the message with the key using XOR."""
    return xor_bytes(message, key)

def decrypt(ciphertext, key):
    """Decrypt the ciphertext with the key using XOR."""
    return xor_bytes(ciphertext, key)


# Example usage

# Multi-bit message (byte string)
message = b'HELLO WORLD'
key = generate_key(len(message))
print("key:", key)

# Encryption
ciphertext = encrypt(message, key)
print("Ciphertext:", ciphertext)

# Decryption
decrypted_message = decrypt(ciphertext, key)
print("Decrypted Message:", decrypted_message)

# Verify correctness
assert message == decrypted_message, "Decryption failed!"








# Test Case 1: Basic Message

message = b'HELLO WORLD'
key = generate_key(len(message))

# Encryption
ciphertext = encrypt(message, key)
print("Ciphertext:", ciphertext)

# Decryption
decrypted_message = decrypt(ciphertext, key)
print("Decrypted Message:", decrypted_message)
assert message == decrypted_message, "Decryption failed!"


# Test Case 2: Different Message

message = b'CRYPTOGRAPHY'
key = generate_key(len(message))

# Encryption
ciphertext = encrypt(message, key)
print("Ciphertext:", ciphertext)

# Decryption
decrypted_message = decrypt(ciphertext, key)
print("Decrypted Message:", decrypted_message)
assert message == decrypted_message, "Decryption failed!"


# Test Case 3: Empty Message

message = b''
key = generate_key(len(message))

# Encryption
ciphertext = encrypt(message, key)
print("Ciphertext:", ciphertext)

# Decryption
decrypted_message = decrypt(ciphertext, key)
print("Decrypted Message:", decrypted_message)
assert message == decrypted_message, "Decryption failed!"



































# In order to run this code you have to install 'pycryptodome' locally:
# - https://github.com/conda-forge/pycryptodome-feedstock
#
# 1. conda config --add channels conda-forge
# 2. conda config --set channel_priority strict
# 3. conda install pycryptodome

def pad(data):
    """Pad data to be a multiple of AES block size (16 bytes)."""
    padding_length = AES.block_size - len(data) % AES.block_size
    return data + bytes([padding_length]) * padding_length

def unpad(data):
    """Remove padding from data."""
    return data[:-data[-1]]

def encrypt(plaintext, key):
    """Encrypt plaintext using AES."""
    cipher = AES.new(key, AES.MODE_CBC)
    ciphertext = cipher.iv + cipher.encrypt(pad(plaintext))
    return ciphertext

def decrypt(ciphertext, key):
    """Decrypt ciphertext using AES."""
    iv = ciphertext[:AES.block_size]
    cipher = AES.new(key, AES.MODE_CBC, iv)
    plaintext = unpad(cipher.decrypt(ciphertext[AES.block_size:]))
    return plaintext


# Example usage

key = get_random_bytes(16) # AES key must be 16, 24, or 32 bytes long
print("key: ", key)
plaintext = b"Secret Message"
ciphertext = encrypt(plaintext, key)
print("Ciphertext:", ciphertext)

decrypted_message = decrypt(ciphertext, key)
print("Decrypted Message:", decrypted_message)

# Verify correctness
assert plaintext == decrypted_message, "Decryption failed!"
















































